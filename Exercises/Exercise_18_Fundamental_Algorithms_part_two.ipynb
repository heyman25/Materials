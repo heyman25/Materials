{
 "cells": [
  {
   "attachments": {},
   "cell_type": "markdown",
   "metadata": {},
   "source": [
    "# Exercise 18\n",
    "\n",
    "Related Notes:\n",
    "- Fundamentals_11-Fundamental_Algorithms\n",
    "\n",
    "[![Open In Colab](https://colab.research.google.com/assets/colab-badge.svg)](https://colab.research.google.com/github/njc-cz2-2021/Materials/blob/main/Exercises/Exercise_18_Fudamental_Algorithms_part_two.ipynb) "
   ]
  },
  {
   "cell_type": "markdown",
   "metadata": {},
   "source": [
    "## Exercise 18.1 2018/JJC/P2/Q6 H2 Computing\n",
    "The following pseudo-code contains an algorithm called `Merge` that is called by the `MergeSort` algorithm.\n",
    "\n",
    ">```python\n",
    "> FUNCTION MergeSort(L, S, E)\n",
    ">   IF S < E THEN\n",
    ">       M ← (S + E) DIV 2\n",
    ">       L1 ← MergeSort(L, S, M)\n",
    ">       L2 ← MergeSort(L, M + 1, E)\n",
    ">       RETURN Merge(L1, L2)\n",
    ">   ELSE\n",
    ">       RETURN Append([], L[S])\n",
    ">   ENDIF\n",
    "> ENDFUNCTION\n",
    "> \n",
    "> FUNCTION Merge(L1, L2)\n",
    ">   L3 ← []\n",
    ">   WHILE Len(L1) > 0 AND LEN(L2) > 0\n",
    ">       IF L1[1] < L2[1] THEN\n",
    ">           L3 ← Append(L2[1], L3)\n",
    ">           L2 ← RemoveFirstItem(L2)\n",
    ">       ELSE\n",
    ">           L3 ← Append(L1[1], L3)\n",
    ">           L1 ← RemoveFirstItem(L1)\n",
    ">       ENDIF\n",
    ">   ENDWHILE\n",
    ">   WHILE Len(L1) > 0\n",
    ">       L3 ← Append(L1[1], L3)\n",
    ">       L1 ← RemoveFirstItem(L1)\n",
    ">   ENDWHILE\n",
    ">   WHILE Len(L2) > 0\n",
    ">       L3 ← Append(L2[1], L3)\n",
    ">       L2 ← RemoveFirstItem(L2)\n",
    ">   ENDWHILE\n",
    "> RETURN L3\n",
    "> ENDFUNCTION\n",
    ">```\n",
    "\n",
    "The `RemoveFirstItem` function takes a list and returns a list that contains all the items in the original list except the first one. For example,\n",
    "if `Names` is the list `[\"Gemma\", \"Richard\", \"Georgina\", \"Margaret\"]` then the function call `RemoveFirstItem(Names)` will return the list `[\"Richard\", \"Georgina\", \"Margaret\"]`.\n",
    "\n",
    "The `Len` function takes a list and returns the number of items that are in the list. For example, if `Names` is the list `[\"Gemma\", \"Richard\", \"Georgina\", \"Margaret\"]` then the function call `Len(Names)` will return the value of 4.\n",
    "\n",
    "The `Append` function takes an item and a list and returns a list that has all the items from the original list followed by the item. For example, if\n",
    "`Names` is the list `[\"Gemma\", \"Richard\", \"Georgina\", \"Margaret\"]` then the function call `Append(\"Matt\", Names)` will return the list `[\"Gemma\", \"Richard\", \"Georgina\", \"Margaret\", \"Matt\"]`.\n",
    "\n",
    "The first item in the list has an index of 1.\n",
    "\n",
    "**(a)** What is meant by a recursive subroutine?\n",
    "<div style=\"text-align: right\">[1]</div>"
   ]
  },
  {
   "cell_type": "code",
   "execution_count": null,
   "metadata": {},
   "outputs": [],
   "source": [
    "#YOUR_ANSWER_HERE"
   ]
  },
  {
   "cell_type": "markdown",
   "metadata": {},
   "source": [
    "**(b)** What is the base case for the subroutine `MergeSort`?\n",
    "<div style=\"text-align: right\">[1]</div>"
   ]
  },
  {
   "cell_type": "code",
   "execution_count": null,
   "metadata": {},
   "outputs": [],
   "source": [
    "#YOUR_ANSWER_HERE"
   ]
  },
  {
   "cell_type": "markdown",
   "metadata": {},
   "source": [
    "**(c)** Complete the following table to show the result of tracing `MergeSort` with the function call `MergeSort(ListToSort, 1, 5)`. \n",
    "`ListToSort` is the list `[6, 3, 4, 8, 5]`. The first six rows and the call number column have been completed for you.\n",
    "<div style=\"text-align: right\">[4]</div>\n",
    "\n",
    "<br>\n",
    "<center>\n",
    "\n",
    "| Call Number | S | E | M | List returned |\n",
    "|-|-|-|-|-|\n",
    "| 1 | 1 | 5 | 3 |  |\n",
    "| 2 | 1 | 3 | 2 |  |\n",
    "| 3 | 1 | 2 | 1 |  |\n",
    "| 4 | 1 | 1 |  | [6]  |\n",
    "| 3 | 1 | 2 | 1 |  |\n",
    "| 5 | 2 | 2 |  | [3]  |\n",
    "| 3 |  |  |  |  |\n",
    "| 2 |  |  |  |  |\n",
    "| 6 |  |  |  |  |\n",
    "| 2 |  |  |  |  |\n",
    "| 1 |  |  |  |  |\n",
    "| 7 |  |  |  |  |\n",
    "| 8 |  |  |  |  |\n",
    "| 7 |  |  |  |  |\n",
    "| 9 |  |  |  |  |\n",
    "| 7 |  |  |  |  |\n",
    "| 1 |  |  |  |  |\n",
    "</center>"
   ]
  },
  {
   "cell_type": "code",
   "execution_count": null,
   "metadata": {},
   "outputs": [],
   "source": [
    "#YOUR_ANSWER_HERE"
   ]
  },
  {
   "cell_type": "markdown",
   "metadata": {},
   "source": [
    "**(d)** What is the time complexity for the MergeSort algorithm?\n",
    "<div style=\"text-align: right\">[1]</div>"
   ]
  },
  {
   "cell_type": "code",
   "execution_count": null,
   "metadata": {},
   "outputs": [],
   "source": [
    "#YOUR_ANSWER_HERE"
   ]
  },
  {
   "cell_type": "markdown",
   "metadata": {},
   "source": [
    "## Exercise 18.2 2017/RVHS/P1/Q4 H2 Computing (Modified)\n",
    "\n",
    "The pseudocode procedure below is given a list of integers in random order, the\n",
    "procedure then outputs a sorted list in ascending order.\n",
    "\n",
    ">```python\n",
    "> 1 FUNCTION Merge_Sort (ARRAY: arr)\n",
    "> 2     n = SIZE(arr)\n",
    "> 3     IF n < 2:\n",
    "> 4         RETURN arr\n",
    "> 5     ENDIF\n",
    "> 6     left = Merge_Sort(PARTITION(arr, 0, n DIV 2))\n",
    "> 7     right = Merge_Sort(PARTITION(arr, n DIV 2, n))\n",
    "> 8     RETURN Merge(left, right)\n",
    "> 9 ENDFUNCTION\n",
    "> 10 \n",
    "> 11  FUNCTION Merge (ARRAY: left, LIST: right)\n",
    "> 12    DECLARE results: ARRAY[SIZE(left) + SIZE(right)]\n",
    "> 13    DECLARE i, j, index : INTEGER\n",
    "> 14    i, j, index = 0, 0, 0\n",
    "> 15    WHILE i < SIZE(left) and j < SIZE(right)\n",
    "> 16        IF left[i] < right[j]:\n",
    "> 17            results[index] = left[i]\n",
    "> 18            i = i + 1\n",
    "> 19        ELSE:\n",
    "> 20            results[index] = right[j]\n",
    "> 21            j = j + 1\n",
    "> 22        ENDIF\n",
    "> 23        index = index + 1\n",
    "> 24    ENDWHILE\n",
    "> 25    WHILE i < SIZE(left)\n",
    "> 26        results[index] = left[i]\n",
    "> 27        i = i + 1\n",
    "> 28        index = index + 1\n",
    "> 29    ENDWHILE\n",
    "> 30    WHILE j < SIZE(right)\n",
    "> 31        results[index] = right[j]\n",
    "> 32        j = j + 1\n",
    "> 33        index = index + 1\n",
    "> 34    ENDWHILE\n",
    "> 35    RETURN results\n",
    "> 36  ENDFUNCTION\n",
    ">```\n",
    "\n",
    "### Task 1\n",
    "Write program code to implement the given procedure.\n",
    "Execute the function using the following list as the parameter.\n",
    "`[1, 15, 2, 4, 3, 9, 7, 10]`\n",
    "\n",
    "### Evidence\n",
    "Program Code.<br>\n",
    "Screenshot showing the output.\n",
    "<div style=\"text-align: right\">[6]</div>"
   ]
  },
  {
   "cell_type": "code",
   "execution_count": 3,
   "metadata": {},
   "outputs": [
    {
     "data": {
      "text/plain": [
       "[1, 2, 3, 4, 7, 9, 10, 15]"
      ]
     },
     "execution_count": 3,
     "metadata": {},
     "output_type": "execute_result"
    }
   ],
   "source": [
    "#YOUR_ANSWER_HERE\n",
    "def Merge_Sort(arr):\n",
    "    n = len(arr)\n",
    "    if n < 2:\n",
    "        return arr\n",
    "        \n",
    "    left = Merge_Sort(arr[0:n//2])\n",
    "    right = Merge_Sort(arr[n//2:n])\n",
    "    return Merge(left, right)\n",
    "\n",
    "def Merge(left, right):\n",
    "    results = []\n",
    "    i, j, index = 0, 0, 0\n",
    "    while i < len(left) and j < len(right):\n",
    "        if left[i] < right[j]:\n",
    "            results.append(left[i])\n",
    "            i = i + 1\n",
    "        else:\n",
    "            results.append(right[j])\n",
    "            j = j + 1\n",
    "\n",
    "        # index = index + 1\n",
    "\n",
    "    while i < len(left):\n",
    "        results.append(left[i])\n",
    "        i = i + 1\n",
    "        # index = index + 1\n",
    "\n",
    "    while j < len(right):\n",
    "        results.append(right[j])\n",
    "        j = j + 1\n",
    "        # index = index + 1\n",
    "\n",
    "    return results\n",
    "\n",
    "Merge_Sort([1, 15, 2, 4, 3, 9, 7, 10])"
   ]
  },
  {
   "cell_type": "markdown",
   "metadata": {},
   "source": [
    "## Exercise 18.3 2019/A Level/P2/Q5 H2 Computing\n",
    "\n",
    "The function `Z` takes three integer parameters, `low`, `high`, `seek` and returns an integer value. It operates on the values in the elements of the array A.\n",
    "\n",
    ">```python\n",
    "> 01 FUNCTION Z(low, high, seek, A) RETURNS INTEGER\n",
    "> 02    IF low > high THEN\n",
    "> 03        RETURN -1 .\n",
    "> 04    ENDIF\n",
    "> 05    mid <- low + INT((high - low)/2)\n",
    "> 06    IF seek = A[mid] THEN\n",
    "> 07        RETURN mid\n",
    "> 08    ELSE\n",
    "> 09        IF seek < A[mid] THEN\n",
    "> 10            RETURN Z(low, mid - 1, seek, A)\n",
    "> 11        ELSE\n",
    "> 12            RETURN Z(mid + 1, high, seek, A) '\n",
    "> 13        ENDIF\n",
    "> 14    ENDIF\n",
    "> 15 ENDFUNCTION\n",
    ">```\n",
    "\n",
    "**(a) (i)** State what lines `10` and `12` tell you about the function. \n",
    "<div style=\"text-align: right\">[1]</div>\n",
    "\n",
    "**(a) (ii)** State the purpose for the `RETURN` statements in lines `03` and `07` of function `z`. \n",
    "<div style=\"text-align: right\">[1]</div>\n",
    "\n",
    "The values in each of the eight elements of the array `A` are:\n",
    "\n",
    " <center>\n",
    "\n",
    "| Element | 0 | 1 | 2 | 3 | 4 | 5 | 6 | 7 | \n",
    "|-|-|-|-|-|-|-|-|-|\n",
    "| Value | -3 | 8 | 14 | 15 | 96 | 101 | 412 | 500 |\n",
    "\n",
    "</center>"
   ]
  },
  {
   "cell_type": "code",
   "execution_count": null,
   "metadata": {},
   "outputs": [],
   "source": [
    "#YOUR_ANSWER_HERE"
   ]
  },
  {
   "cell_type": "markdown",
   "metadata": {},
   "source": [
    "**(b)** Copy and then complete the trace table for the instruction:\n",
    "\n",
    ">```python\n",
    ">OUTPUT Z(0, 7, 103, A)\n",
    ">```\n",
    "<br>\n",
    "<center>\n",
    "\n",
    "| `Function call` | `low` | `high` | `seek` | `mid` | `A[mid]` | `OUTPUT` |  \n",
    "|-|-|-|-|-|-|-|\n",
    "| `1` | `0` | `7` | `103` |  |  |  |\n",
    "|  |  |  |  |  |  |  |\n",
    "|  |  |  |  |  |  |  |\n",
    "|  |  |  |  |  |  |  |\n",
    "|  |  |  |  |  |  |  |\n",
    "|  |  |  |  |  |  |  |\n",
    "\n",
    "</center>\n",
    "\n",
    "<div style=\"text-align: right\">[4]</div>"
   ]
  },
  {
   "cell_type": "code",
   "execution_count": null,
   "metadata": {},
   "outputs": [],
   "source": [
    "#YOUR_ANSWER_HERE"
   ]
  },
  {
   "cell_type": "markdown",
   "metadata": {},
   "source": [
    "**(c)** Function `z` can return two different types of value.\n",
    "Explain what these represent.\n",
    "\n",
    "<div style=\"text-align: right\">[2]</div>"
   ]
  },
  {
   "cell_type": "code",
   "execution_count": null,
   "metadata": {},
   "outputs": [],
   "source": [
    "#YOUR_ANSWER_HERE"
   ]
  },
  {
   "cell_type": "markdown",
   "metadata": {},
   "source": [
    "**(d)** The number of elements in array `A` may be very large.\n",
    "Explain why a programmer might prefer to use an iterative approach rather than the one used\n",
    "in function `z`. \n",
    "\n",
    "<div style=\"text-align: right\">[2]</div>"
   ]
  },
  {
   "cell_type": "code",
   "execution_count": null,
   "metadata": {},
   "outputs": [],
   "source": [
    "#YOUR_ANSWER_HERE"
   ]
  },
  {
   "cell_type": "markdown",
   "metadata": {},
   "source": [
    "## Exercise 18.4 2014/A Level/P1/Q2 H2 Computing\n",
    "\n",
    "A binary search (binary chop) is a technique to search for a value in an ordered dataset.\n",
    "\n",
    "### Task 1\n",
    "Study the identifier table and incomplete recursive algorithm.\n",
    "The missing parts of the algorithm are labelled A, B and C.\n",
    "\n",
    "<center>\n",
    "\n",
    "| Variable | Data Type | Description | \n",
    "|-|-|-|\n",
    "|`ThisArray`|`ARRAY OF STRING`|Array containing the the dataset\n",
    "|`FindValue`|`STRING`|Item to be found\n",
    "|`Low`|`INTEGER`|Lowest index of the considered list\n",
    "|`High`|`INTEGER`|Highest index of the considered list\n",
    "|`Middle`|`INTEGER`|The array index for the middle position of the current list considered\n",
    "\n",
    "</center>\n",
    "\n",
    "<br>\n",
    "\n",
    ">```python\n",
    ">FUNCTION BinarySearch(ThisArray, FindValue, Low, High) RETURNS INTEGER\n",
    ">    DECLARE Middle : INTEGER\n",
    ">    IF ............... A ...............\n",
    ">        THEN\n",
    ">            RETURN -1 // not found\n",
    ">    ELSE\n",
    ">        // calculate new Middle value\n",
    ">        Middle ← ............... B ...............\n",
    ">        IF ThisArray[Middle] > FindValue\n",
    ">            THEN\n",
    ">                RETURN BinarySearch(ThisArray, FindValue, Low, Middle - 1)\n",
    ">            ELSE\n",
    ">                IF ThisArray[Middle] < FindValue\n",
    ">                    THEN\n",
    ">                        ............... C ...............\n",
    ">                    ELSE\n",
    ">                        RETURN Middle // found at position Middle\n",
    ">                ENDIF\n",
    ">        ENDIF\n",
    ">    ENDIF\n",
    ">ENDFUNCTION\n",
    ">```   \n",
    "            \n",
    "### Evidence \n",
    "What are the three missing lines in this pseudocode?\n",
    "<div style=\"text-align: right\">[3]</div>\n"
   ]
  },
  {
   "cell_type": "code",
   "execution_count": null,
   "metadata": {},
   "outputs": [],
   "source": [
    "#YOUR_ANSWER_HERE"
   ]
  },
  {
   "cell_type": "markdown",
   "metadata": {},
   "source": [
    "## Task 2\n",
    "\n",
    "Write a program to implement binary search.\n",
    "The program will\n",
    "- Call procedure `InitialiseAnimals`\n",
    "- Input an animal name\n",
    "- Use the function `BinarySearch`\n",
    "- Report whether or now this animal name was found. If found, also output the index position.\n",
    "\n",
    "The array in the program has identifier `MyAnimal`.\n",
    "Use the dataset given in the file `ANIMALS.TXT`. You should paste the contents of this file into your program. The statements will form the basis of the code for the procedure `InitialiseAnimals`.\n",
    "\n",
    "## Evidence \n",
    "Program code for Task 2.2\n",
    "<div style=\"text-align: right\">[7]</div>\n",
    "\n",
    "## Evidence \n",
    "Screenshot to confirm that an animal wich is present in the list was found with its index position displayed.\n",
    "<div style=\"text-align: right\">[1]</div>"
   ]
  },
  {
   "cell_type": "code",
   "execution_count": null,
   "metadata": {},
   "outputs": [],
   "source": [
    "#YOUR_ANSWER_HERE"
   ]
  },
  {
   "cell_type": "markdown",
   "metadata": {},
   "source": [
    "## Task 3\n",
    "Amend the program as follows:\n",
    "The program must also output the number of function calls carried out.\n",
    "\n",
    "## Evidence\n",
    "The amended program code.\n",
    "<div style=\"text-align: right\">[4]</div>\n",
    "\n",
    "## Evidence \n",
    "Screenshots showing the amended ouput for runs of the program where:\n",
    "- the animal is found\n",
    "- the animal is not found.\n",
    "<div style=\"text-align: right\">[2]</div>"
   ]
  },
  {
   "cell_type": "code",
   "execution_count": null,
   "metadata": {},
   "outputs": [],
   "source": [
    "#YOUR_ANSWER_HERE"
   ]
  },
  {
   "cell_type": "markdown",
   "metadata": {},
   "source": [
    "## Exercise 18.5 2018/A Level/P2/Q5 H2 Computing\n",
    "\n",
    "The organisers of a diving championship have created software to calculate and show the total score for each diver.\n",
    "\n",
    "There are nine judges scoring each dive. The two best scores and the two worst scores are ignored. The other five scores are added together to give the diver's total score.\n",
    "\n",
    "**(a)** Write an algorithm to take in the nine scores, delete the best two and the two worst scores, and total the five remaining scores. [4]\n",
    "\n",
    "There are 10 divers in the final. The scoreboard shows the order of diving.\n",
    "\n",
    "<center>\n",
    "\n",
    "| Order | Diver name | Total score | \n",
    "|-|-|-|\n",
    "|1| Daniel Tan|\n",
    "|2| Parker Lam|\n",
    "|3 |Mohamed Noor|\n",
    "|4 |Hariz Yazid|\n",
    "|5 |Sheryl Xuan|\n",
    "|6 |Karl Lim|\n",
    "|7 |Elaine Ning|\n",
    "|8 |Nadyia Esmadi|\n",
    "|9 |Cai Ng|\n",
    "|10| Hamid Mahmood|\n",
    "\n",
    "</center>\n"
   ]
  },
  {
   "cell_type": "code",
   "execution_count": null,
   "metadata": {},
   "outputs": [],
   "source": [
    "#YOUR_ANSWER_HERE"
   ]
  },
  {
   "cell_type": "markdown",
   "metadata": {},
   "source": [
    "**(b)** The programmers decided to use a 1D array for the scores. They will also use a bubble sort to sort the scores into descending order.<br>\n",
    "**(i)** Explain how a bubble sort can be used to arrange the scores into a descending or ascending order. \n",
    "\n",
    "<div style=\"text-align: right\">[2]</div>"
   ]
  },
  {
   "cell_type": "code",
   "execution_count": null,
   "metadata": {},
   "outputs": [],
   "source": [
    "#YOUR_ANSWER_HERE"
   ]
  },
  {
   "cell_type": "markdown",
   "metadata": {},
   "source": [
    "This is the bubble sort algorithm for sorting into descending order:\n",
    "\n",
    ">```python\n",
    "> 01 WHILE NoSwaps = FALSE\n",
    "> 02    NoSwaps ← TRUE\n",
    "> 03    UpperBound ← ListLength\n",
    "> 04    For Posn ← 0 TO ......A......\n",
    "> 05        IF List[Posn] ← ........B...\n",
    "> 06            THEN\n",
    "> 07                // Swap\n",
    "> 08            NoSwaps ← ......C......\n",
    "> 09            Temp ← List [Posn]\n",
    "> 10            List[Posn] ← List[Posn + 1]\n",
    "> 11            List[Posn+l] ← ......D......\n",
    "> 12        ENDIF\n",
    "> 13    ENDFOR\n",
    "> 14 ENDWHILE\n",
    ">```\n",
    "\n",
    "**(ii)** Write the pseudocode for `A`, `B`, `C` and `D` in the algorithm. \n",
    "<div style=\"text-align: right\">[4]</div>"
   ]
  },
  {
   "cell_type": "code",
   "execution_count": null,
   "metadata": {},
   "outputs": [],
   "source": [
    "#YOUR_ANSWER_HERE"
   ]
  },
  {
   "cell_type": "markdown",
   "metadata": {},
   "source": [
    "**(c)** During the first round of dives, the sorted scores for five divers are:\n",
    ">```\n",
    ">48\n",
    ">45\n",
    ">40\n",
    ">37\n",
    ">36\n",
    ">```\n",
    "\n",
    "The sixth diver scores 42 and the software appends the score to the list as follows:\n",
    ">```\n",
    ">48\n",
    ">45\n",
    ">40\n",
    ">37\n",
    ">36\n",
    ">42\n",
    ">```\n",
    "**(i)** State the number of passes needed through the list to return the list to its sorted order.\n",
    "<div style=\"text-align: right\">[1]</div>"
   ]
  },
  {
   "cell_type": "code",
   "execution_count": null,
   "metadata": {},
   "outputs": [],
   "source": [
    "#YOUR_ANSWER_HERE"
   ]
  },
  {
   "cell_type": "markdown",
   "metadata": {},
   "source": [
    "**(ii)** Explain why the bubble sort is efficient in this example. \n",
    "<div style=\"text-align: right\">[2]</div>"
   ]
  },
  {
   "cell_type": "code",
   "execution_count": null,
   "metadata": {},
   "outputs": [],
   "source": [
    "#YOUR_ANSWER_HERE"
   ]
  },
  {
   "cell_type": "markdown",
   "metadata": {},
   "source": [
    "**(iii)** Name another sort method that could have been used in this situation. Compare the speed of sorting the divers’ scores in your named method with using the bubble sort. \n",
    "<div style=\"text-align: right\">[2]</div>"
   ]
  },
  {
   "cell_type": "code",
   "execution_count": null,
   "metadata": {},
   "outputs": [],
   "source": [
    "#YOUR_ANSWER_HERE"
   ]
  },
  {
   "cell_type": "markdown",
   "metadata": {},
   "source": [
    "## Exercise 18.6 2013/A Level/P1/Q2 H2 Computing\n",
    "A company keeps data about its employees. The employee surname and employee ID are recorded.\n",
    "All employee IDs are unique and have the format `C999` where `C` is any uppercase letter and `9` is a digit.\n",
    "\n",
    "A program is to be produced to search by either:\n",
    "\n",
    "- The surname, which then reports the matching employee ID\n",
    "- The employee ID, which then reports the matching surname\n",
    "\n",
    "The programmer stores the data a two 1-dimensional arrays and produces the following search algorithm to search a string array and output the matching value from the second array.\n",
    "\n",
    ">```python\n",
    ">INPUT SearchItem\n",
    ">FOR Index ← 1 TO UpperBound\n",
    ">    IF SearchItem = Array1[Index]\n",
    ">        THEN OUTPUT Array2[Index]\n",
    ">    ENDIF\n",
    ">ENDFOR\n",
    ">```\n",
    "\n",
    "This search algorithm is inefficient.\n",
    "\n",
    "The programmer uses the following design to produce the program code:\n",
    "\n",
    "- code to search by surname\n",
    "    - The search algorithm has `Surname` as `Array1` and `EmployeeID` as `Array2`\n",
    "- followed by code to search by employee ID\n",
    "    - The search algorithm has `EmployeeID` as `Array1` and `Surname` as `Array2`\n",
    "\n",
    "This design would produce repetition of code.\n",
    "\n",
    "### Task 1\n",
    "Write program code which performs each of the searches:\n",
    "- Search by surname\n",
    "- Search by employee ID\n",
    "\n",
    "Your code should address the issues of inefficiency and repetition of code described in the scenario above.\n",
    "Use the sample array data available from the text file `EMPLOYEEDATA.txt` and paste this into your program code.\n",
    "\n",
    "### Evidence\n",
    "Your program code.\n",
    "<div style=\"text-align: right\">[11]</div>\n",
    "\n"
   ]
  },
  {
   "cell_type": "code",
   "execution_count": null,
   "metadata": {},
   "outputs": [],
   "source": [
    "#YOUR_ANSWER_HERE"
   ]
  },
  {
   "cell_type": "markdown",
   "metadata": {},
   "source": [
    "### Task 2\n",
    "Devise a set of four test cases with the data to be used.\n",
    "\n",
    "### Evidence\n",
    "A screenshot for each test case you considered. Annotate the screenshot explaining the purpose of each test.\n",
    "<div style=\"text-align: right\">[4]</div>"
   ]
  },
  {
   "cell_type": "code",
   "execution_count": null,
   "metadata": {},
   "outputs": [],
   "source": [
    "#YOUR_ANSWER_HERE"
   ]
  }
 ],
 "metadata": {
  "kernelspec": {
   "display_name": "Python 3",
   "language": "python",
   "name": "python3"
  },
  "language_info": {
   "codemirror_mode": {
    "name": "ipython",
    "version": 3
   },
   "file_extension": ".py",
   "mimetype": "text/x-python",
   "name": "python",
   "nbconvert_exporter": "python",
   "pygments_lexer": "ipython3",
   "version": "3.10.2 (tags/v3.10.2:a58ebcc, Jan 17 2022, 14:12:15) [MSC v.1929 64 bit (AMD64)]"
  },
  "orig_nbformat": 2,
  "vscode": {
   "interpreter": {
    "hash": "a42ccb73e7d9bfdf27e036f1d2b8b681e55fc0743cc5586bc2474d4a60f4b886"
   }
  }
 },
 "nbformat": 4,
 "nbformat_minor": 2
}
