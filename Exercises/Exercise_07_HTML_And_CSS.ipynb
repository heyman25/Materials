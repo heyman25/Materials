{
 "cells": [
  {
   "attachments": {},
   "cell_type": "markdown",
   "metadata": {},
   "source": [
    "# Exercise 7\n",
    "\n",
    "Related Notes:\n",
    "- Chapter_07_HTML_And_CSS"
   ]
  },
  {
   "cell_type": "markdown",
   "metadata": {},
   "source": [
    "# Section 1 Basic Web"
   ]
  },
  {
   "attachments": {},
   "cell_type": "markdown",
   "metadata": {},
   "source": [
    "## Exercise 7.1\n",
    "\n",
    "Using the developer tools from Chrome, examine the source of a web page from a news website or a post from a social media website. Attempt to edit the web page to create a fake news."
   ]
  },
  {
   "cell_type": "markdown",
   "metadata": {},
   "source": [
    "## Exercise 7.2 \n",
    "\n",
    "- Create a file called `index_7_2.html`. \n",
    "- In `index_7_2.html`, write down html code that create a signup layout from the provided design.\n",
    "\n",
    "    <center>\n",
    "    <img src=\"./img/exercise72.png\"><br>\n",
    "    </center>"
   ]
  },
  {
   "cell_type": "markdown",
   "metadata": {},
   "source": [
    "## Exercise 7.3\n",
    "- Create a static web page called `mygoogol.html`\n",
    "- Write down html code that create a botched Google clone like the one below\n",
    "\n",
    "    <center>\n",
    "    <img src=\"./img/exercise73-googol.png\"><br>\n",
    "    </center>"
   ]
  },
  {
   "cell_type": "markdown",
   "metadata": {},
   "source": [
    "# Exercise 7.4 2020/ALVL/P1/Q4 (Modified)\n",
    "A school has used a text file to store data collected about people who work at the school and students who attend the school. People who have a teaching role at the school are referred to as ‘staff‘. \n",
    "\n",
    "A web page will then be used to summarise the data. Different information will be visible on the web page, depending on the type of person displayed.\n",
    "\n",
    "The screen names of the people in the text file, `people.txt`, in `resources` folder, are to be displayed in a web browser.\n",
    "\n",
    "Write a Python program and the necessary files to create a web application that enables the list of people to be displayed in a table.\n",
    "\n",
    "For each record the web page should include the:\n",
    "- full name\n",
    "- screen name\n",
    "- identity as student, staff or person.\n",
    "\n",
    "Save your program as\n",
    "\n",
    "`EXERCISE_7_4.py`\n",
    "\n",
    "with any additional files / sub-folders as needed in a folder named\n",
    "\n",
    "`EXERCISE_7_4`  <div style=\"text-align: right\">[5]</div>\n",
    "\n",
    "Run the web application and save the output of the program as\n",
    "`EXERCISE_7_4.html` <div style=\"text-align: right\">[3]</div>\n"
   ]
  },
  {
   "cell_type": "code",
   "execution_count": null,
   "metadata": {},
   "outputs": [],
   "source": [
    "## YOUR CODE HERE"
   ]
  },
  {
   "cell_type": "markdown",
   "metadata": {},
   "source": [
    "# Exercise 7.5 2021/ALVL/P1/Q4 (Modified)\n",
    "A competition has three qualifying rounds. Competitors could score up to 100 points in each round. Each competitor has a unique ID number. The competitor's ID, name, and the scores for\n",
    "each round are held in two files in the `resources` folder provided with this question.\n",
    "\n",
    "There are two files:\n",
    "- `Ex_7_4_competitor.csv`\n",
    "- `Ex_7_4_scores.csv`\n",
    "\n",
    "where the first lines of the files contained a header that indicates the competitor's ID, name, and the scores for each round.\n",
    "\n",
    "Not every competitor competed in all three rounds, but they did all compete in round 1.\n",
    "\n",
    "## Task 1\n",
    "Write a Python program and the necessary files to create a web application. The web application offers the following menu options:\n",
    "\n",
    "<center>\n",
    "\n",
    "| Navigation |\n",
    "|----------------|\n",
    "|Round 1 Scores |\n",
    "| Round 2 Scores |\n",
    "| Round 3 Scores |\n",
    "| Mean Scores    |\n",
    "| Qualifiers     |\n",
    "\n",
    "</center>\n",
    "\n",
    "Save your program code as\n",
    "\n",
    "`EXERCISE_7_5_1.py`\n",
    "\n",
    "with any additional files / sub-folders as needed in a folder named\n",
    "\n",
    "`EXERCISE_7_5_1` \n",
    "\n",
    "Run the web application and save the output of the program as\n",
    "`EXERCISE_7_5_1.html` <div style=\"text-align: right\">[3]</div>"
   ]
  },
  {
   "cell_type": "code",
   "execution_count": null,
   "metadata": {},
   "outputs": [],
   "source": [
    "## YOUR CODE HERE"
   ]
  },
  {
   "cell_type": "markdown",
   "metadata": {},
   "source": [
    "## Task 2\n",
    "Write a function `task_2()` that accepts an integer `n` that represents a round number.  The function return a list `[<NAME>,<SCORE>]` containing \n",
    "- competitor names, and \n",
    "- their scores for that particular round such that only those who had a score for that round is included in the list. \n",
    "\n",
    "The elements in the list should be arranged in descending order of scores.\n",
    "\n",
    "The content of the list generated by `task_2()` should be shown on a web page in a table that:\n",
    "- lists the name of each competitor and their score\n",
    "- has the results shown in descending order of the competitor's score.\n",
    "\n",
    "The resulting web page for each round should be accessed from the corresponding menu option from Task 1.\n",
    "\n",
    "Save your program code as\n",
    "\n",
    "`EXERCISE_7_5_2.py`\n",
    "\n",
    "with any additional files / sub-folders as needed in a folder named\n",
    "\n",
    "`EXERCISE_7_5_2` \n",
    "\n",
    "<div style=\"text-align: right\">[6]</div>\n",
    "\n",
    "Run the web application and save the output of the program as\n",
    "\n",
    "`EXERCISE_7_5_2_1.html` \n",
    "\n",
    "`EXERCISE_7_5_2_2.html`\n",
    "\n",
    "`EXERCISE_7_5_2_3.html` \n",
    "\n",
    "<div style=\"text-align: right\">[2]</div>"
   ]
  },
  {
   "cell_type": "code",
   "execution_count": null,
   "metadata": {},
   "outputs": [],
   "source": [
    "## YOUR CODE HERE"
   ]
  },
  {
   "cell_type": "markdown",
   "metadata": {},
   "source": [
    "## Task 3\n",
    "Write a function `task_3()` that return a list `[<NAME>,<MEAN_SCORE>]` containing\n",
    "- competitor names, \n",
    "- the mean score for each competitor, based on the number of rounds in which they competed. \n",
    "\n",
    "The elements in the list should be arranged in ascending alphabetical order of the competitor's name.\n",
    "\n",
    "The content of the list generated by `task_3()` should be shown on a web page in a table that:\n",
    "- lists the name of each competitor and their mean score (to 2 decimal places)\n",
    "- has the results shown in ascending alphabetical order of the competitor's name.\n",
    "\n",
    "The resulting web page should be accessed from the corresponding menu option from Task 1.\n",
    "\n",
    "Save your program code as\n",
    "\n",
    "`EXERCISE_7_5_3.py`\n",
    "\n",
    "with any additional files / sub-folders as needed in a folder named\n",
    "\n",
    "`EXERCISE_7_5_3` \n",
    "\n",
    "<div style=\"text-align: right\">[6]</div>\n",
    "\n",
    "Run the web application and save the output of the program as\n",
    "\n",
    "`EXERCISE_7_5_3.html` \n",
    "\n",
    "<div style=\"text-align: right\">[2]</div>"
   ]
  },
  {
   "cell_type": "code",
   "execution_count": null,
   "metadata": {},
   "outputs": [],
   "source": [
    "## YOUR CODE HERE"
   ]
  },
  {
   "cell_type": "markdown",
   "metadata": {},
   "source": [
    "## Task 4\n",
    "In order to qualify for the final of the competition, competitors need to score over 250, in total, in  the first three rounds.\n",
    "\n",
    "Write a function `task_4()` that return a list `[<NAME>, <TOTAL_SCORE>, <QUALIFIED>]` containing \n",
    "- competitor names,\n",
    "- their total score,\n",
    "- whether that competitor has qualified for the final \n",
    "\n",
    "The elements in the list should be arranged in ascending alphabetical order of the competitor's name.\n",
    "\n",
    "The content of the list generated by `task_4()` should be shown on a web page in a table that:\n",
    "- lists the names of the competitors, their scores and whether they qualified\n",
    "- has the results shown in descending order of the competitor's score.\n",
    "\n",
    "The resulting web page should be accessed from the corresponding menu option from Task 4.1.\n",
    "\n",
    "Save your program code as\n",
    "\n",
    "`EXERCISE_7_5_4.py`\n",
    "\n",
    "with any additional files / sub-folders as needed in a folder named\n",
    "\n",
    "`EXERCISE_7_5_4` \n",
    "\n",
    "<div style=\"text-align: right\">[6]</div>\n",
    "\n",
    "Run the web application and save the output of the program as\n",
    "\n",
    "`EXERCISE_7_5_4.html` \n",
    "\n",
    "<div style=\"text-align: right\">[2]</div>"
   ]
  },
  {
   "cell_type": "code",
   "execution_count": null,
   "metadata": {},
   "outputs": [],
   "source": [
    "## YOUR CODE HERE"
   ]
  },
  {
   "cell_type": "markdown",
   "metadata": {},
   "source": [
    "# Exercise 7.6 2022/ALVL/P1/Q4 (Modified)\n",
    "A library currently keeps records about its members, books and the books loaned in 3 separate text files,`BOOK.txt`, `MEMBER.txt` and `LOAN.txt`.\n",
    "\n",
    "## Task 1\n",
    "Write a Python program to input a member's number and return the names of all the books that they have had out on loan, and whether each book has been returned. \n",
    "<div style=\"text-align: right\">[7]</div>\n",
    "\n",
    "Test your program by running the application with the member number 200.\n",
    "<div style=\"text-align: right\">[2]</div>"
   ]
  },
  {
   "cell_type": "code",
   "execution_count": null,
   "metadata": {},
   "outputs": [],
   "source": [
    "## YOUR CODE HERE"
   ]
  },
  {
   "cell_type": "markdown",
   "metadata": {},
   "source": [
    "## Task 2\n",
    "Write a Python program and the necessary files to create a web application, that displays the following data, about books that have not yet been returned:\n",
    "- member's family name\n",
    "- member's given name\n",
    "- book title.\n",
    "\n",
    "The program should return an HTML document that enables the web browser to display a table with the required data.\n",
    "\n",
    "Save your program code as\n",
    "\n",
    "`EXERCISE_7_6.py`\n",
    "\n",
    "with any additional files / sub-folders as needed in a folder named\n",
    "\n",
    "`EXERCISE_7_6` \n",
    "\n",
    "<div style=\"text-align: right\">[6]</div>\n",
    "\n",
    "Run the web application and save the output of the program as\n",
    "\n",
    "`EXERCISE_7_6.html` \n",
    "\n",
    "<div style=\"text-align: right\">[2]</div>"
   ]
  },
  {
   "cell_type": "code",
   "execution_count": null,
   "metadata": {},
   "outputs": [],
   "source": [
    "## YOUR CODE HERE"
   ]
  },
  {
   "cell_type": "markdown",
   "metadata": {},
   "source": [
    "## Exercise 7.7 [ALVL/2023/ALVL/P2/Q4]\n",
    "Run-length encoding is a compression method that can be used to compress image files. It counts the number of consecutive pixels of each colour, then stores a code for the colour and the number of times it occurs. For example, instead of storing the code for black three times, it will store the code once, then the number 3. In some images each pixel will be a different colour. In some images all of the pixels might be the same colour. For this task, there will be no more than 9 consecutive pixels of the same colour.\n",
    "\n",
    "For example:\n",
    "\n",
    "Image:\n",
    "\n",
    "<center>\n",
    "<img src=\"./Exercise 12/img/2023_alvl_p2_q4_img_1.png\" width=\"600\" align=\"center\"/>\n",
    "</center>\n",
    "\n",
    "Colour Code:\n",
    "\n",
    "<center>\n",
    "\n",
    "| Colour | Code |\n",
    "|--------|------|\n",
    "| black  | 01   |\n",
    "| green  | 10   |\n",
    "| yellow | 11   |\n",
    "\n",
    "</center>\n",
    "\n",
    "This image has 9 pixels (3 x 3). Each colour in this image has a bit depth of 2, this means each colour is represented by 2 bits.\n",
    "\n",
    "Before compression, the image will be stored as:\n",
    "\n",
    "`011011111111010101`\n",
    "\n",
    "When compressed the image will be stored as:\n",
    "\n",
    "`011101114013`\n",
    "\n",
    "## Task 1\n",
    "The text file `imagefile.txt` stores the colour of each pixel for an image:\n",
    "- The image is 9 pixels wide by 9 pixels high\n",
    "- Each colour is stored with a bit depth of 3. This means each colour is stored in 3 bits .\n",
    "- Each pixel is written on a new line in the text file. For example the first line has the value `000`. `000` is the colour code for the first pixel in the image.\n",
    "\n",
    "Write program code· to:\n",
    "- declare a function that takes a file name as a parameter and reads in the data from the file\n",
    "- declare a function that takes a list of colours as a parameter and compresses the data\n",
    "- declare a function that takes the compressed data as a parameter and writes this to a\n",
    "text file with the name `compressedimage. txt`\n",
    "- call the functions from the program with input `imagefile.txt`\n",
    "\n",
    "The compressed data should be stored as one string of digits.\n",
    "<div style=\"text-align: right\">[7]</div>\n",
    "Run your program.\n",
    "<div style=\"text-align: right\">[1]</div>"
   ]
  },
  {
   "cell_type": "code",
   "execution_count": null,
   "metadata": {},
   "outputs": [],
   "source": []
  },
  {
   "cell_type": "markdown",
   "metadata": {},
   "source": [
    "## Task 2\n",
    "The program also needs to decompress a compressed image file.\n",
    "Write program code to:\n",
    "- declare a function that takes a file name as a parameter and reads in the compressed\n",
    "image data from the file\n",
    "- declare a function that takes the data for a compressed image as a parameter and\n",
    "decompresses the data\n",
    "- declare a function that takes the data for a decompressed image as a parameter and\n",
    "writes this data to a text file with the name `decompressedimage.txt`\n",
    "- declare a menu that allows the user to enter' a file name and choose between compressing an image or decompressing an image. The appropriate function or functions are called.\n",
    "<div style=\"text-align: right\">[8]</div>\n",
    "Run your program. \n",
    "<div style=\"text-align: right\">[1]</div>\n",
    "Save your Jupyter Notebook for Task 4."
   ]
  },
  {
   "cell_type": "code",
   "execution_count": null,
   "metadata": {},
   "outputs": [],
   "source": []
  },
  {
   "cell_type": "markdown",
   "metadata": {},
   "source": [
    "## Task 3\n",
    "Write a Python program and the necessary files to create a web application that displays the colour of each pixel in the text file `decompressedimage.txt`\n",
    "\n",
    "The table shows the colour of each binary code:\n",
    "\n",
    "<center>\n",
    "\n",
    "\n",
    "| Colour | Code |\n",
    "|--------|------|\n",
    "| red    | 000  |\n",
    "| white  | 001  |\n",
    "| yellow | 010  |\n",
    "| blue   | 011  |\n",
    "| black  | 100  |\n",
    "| green  | 110  |\n",
    "\n",
    "</center>\n",
    "\n",
    "The image can be displayed using a table that has 9 rows and 9 columns. Each pixel is defined by **either** changing the background colour of that cell or writing the name of the colour in the cell.\n",
    "\n",
    "The program should return an HTML document that enables the web browser to display the\n",
    "required data.\n",
    "\n",
    "Save your Python program as:\n",
    "\n",
    "`TASK_ 4_ 3_ <your name>_ <centre number> <index number>.py`\n",
    "\n",
    "with any additional files/subfolders in a folder named:\n",
    "\n",
    "`TASK_4_ 3_ <your name>_ <centre number> <index number>`\n",
    "<div style=\"text-align: right\">[8]</div>\n",
    "Run the web application.\n",
    "\n",
    "Save the web page output as:\n",
    "\n",
    "`TASK_4_3_<your name> <centre number> <index number>.html`\n",
    "<div style=\"text-align: right\">[2]</div>"
   ]
  },
  {
   "cell_type": "markdown",
   "metadata": {},
   "source": [
    "## Exercise 2024/ALVL/P1/Q3\n",
    "\n",
    "Write a program to format a description for a webpage into an HTML document.\n",
    "\n",
    "The description for the program will be provided in a text file. Each element will be on a new line and will follow the structure:\n",
    "\n",
    "```text\n",
    "HTML element: content\n",
    "```\n",
    "\n",
    "For example, in the text file `firstPage.txt` the first line is: \n",
    "\n",
    "> ```text\n",
    "> heading: My first page\n",
    "> ```\n",
    "\n",
    "The HTML element is 'heading' and the text for the heading is 'My first page'.\n",
    "\n",
    "The HTML elements that can be included are in this table with an example and a description for the content.\n",
    "\n",
    "All documents start and end with the HTML and body tags. \n",
    "\n",
    "The data being used will not include any special characters. You will not be required to validate the content in each statement, for example that a title is a valid title.\n",
    "\n",
    "### Task 1\n",
    "Write one function for each of the HTML elements heading, subheading and paragraph to:\n",
    "- take the text to format as a parameter\n",
    "- format the text including HTML tags\n",
    "- return the formatted text.\n",
    "\n",
    "For example, if the text parameter for the heading function is `\"My first page\"`, the formatted text will be:\n",
    "\n",
    "```text\n",
    "\"<h1>My first page</h1>\" \n",
    "```\n",
    "<div style=\"text-align: right\">[1]</div>\n",
    "\n",
    "Test your program by calling the **three** functions with `\"My element\"` and outputting the return value from each. <div style=\"text-align: right\">[1]</div>"
   ]
  },
  {
   "cell_type": "code",
   "execution_count": null,
   "metadata": {},
   "outputs": [],
   "source": [
    "#YOUR CODE HERE"
   ]
  },
  {
   "cell_type": "markdown",
   "metadata": {},
   "source": [
    "### Task 2\n",
    "Write a function for the HTML element hyperlink to:\n",
    "- take the text to format as a parameter\n",
    "- split the parameter into the URL and string\n",
    "- format the text including HTML tags\n",
    "- return the formatted text.\n",
    "\n",
    "For example, if the text parameter is `\"https: / /www. cambridge. org, Click here\"`, the formatted text will be:\n",
    "\n",
    "```text\n",
    "\"<a href=\"https://www.cambridge.org\" >Click here</a>\" \n",
    "```\n",
    "<div style=\"text-align: right\">[1]</div>\n",
    "\n",
    "Test your program by calling the function with `\"https://www.cambridgeinternational.org, Click here\"` and outputting the return value.\n",
    "\n",
    "<div style=\"text-align: right\">[1]</div>"
   ]
  },
  {
   "cell_type": "code",
   "execution_count": null,
   "metadata": {},
   "outputs": [],
   "source": [
    "#YOUR CODE HERE"
   ]
  },
  {
   "cell_type": "markdown",
   "metadata": {},
   "source": [
    "### Task 3\n",
    "The function `body()` takes a list as a parameter containing the text to convert into an HTML formatted document. Each element in the list has one HTML element for conversion.\n",
    "\n",
    "Write the function to:\n",
    "- call the appropriate function for each HTML element in the list\n",
    "- create a single string containing all the formatted returned HTML elements\n",
    "- insert the HTML and body opening and closing tags at the start and end of the string\n",
    "- return either the complete formatted string, or False if there are any unrecognised elements. \n",
    "<div style=\"text-align: right\">[6]</div>"
   ]
  },
  {
   "cell_type": "code",
   "execution_count": null,
   "metadata": {},
   "outputs": [],
   "source": [
    "#YOUR CODE HERE"
   ]
  },
  {
   "cell_type": "markdown",
   "metadata": {},
   "source": [
    "### Task 4\n",
    "The text file `firstPage.txt` contains the description of a web page that needs converting into an HTML document.\n",
    "\n",
    "Write the function `read_data()`, to read in the data from a text file. The function needs to:\n",
    "- take the name of a file (including extension) as input\n",
    "- read each line from the file into a separate list element\n",
    "- call the appropriate functions to convert the list to a formatted HTML string\n",
    "- return the formatted HTML string.\n",
    "\n",
    "Write the function `write_data()`, to store the formatted HTML string as an HTML file. The function needs to:\n",
    "- take the name of a file (excluding extension) as input\n",
    "- take the formatted HTML string to write as input\n",
    "- insert the string `<!doctype html>` at the start of the file\n",
    "- write the formatted string to the file with the name input and the extension `\".html\"`.\n",
    "\n",
    "Output an appropriate message if the data cannot be converted into HTML.\n",
    "\n",
    "Call the function `read_data()` then call the function `write_data()`. <div style=\"text-align: right\">[9]</div>\n",
    "\n",
    "Run your program **two** times with the following inputs:\n",
    "\n",
    "Test 1:\n",
    "```text\n",
    "firstPage.txt\n",
    "test\n",
    "```\n",
    "\n",
    "Test 2:\n",
    "```text\n",
    "website.txt\n",
    "theWebsite\n",
    "```\n",
    " <div style=\"text-align: right\">[3]</div>\n"
   ]
  },
  {
   "cell_type": "code",
   "execution_count": null,
   "metadata": {},
   "outputs": [],
   "source": [
    "#YOUR CODE HERE"
   ]
  }
 ],
 "metadata": {
  "kernelspec": {
   "display_name": "Python 3.10.2 64-bit",
   "language": "python",
   "name": "python3"
  },
  "language_info": {
   "codemirror_mode": {
    "name": "ipython",
    "version": 3
   },
   "file_extension": ".py",
   "mimetype": "text/x-python",
   "name": "python",
   "nbconvert_exporter": "python",
   "pygments_lexer": "ipython3",
   "version": "3.10.2 (tags/v3.10.2:a58ebcc, Jan 17 2022, 14:12:15) [MSC v.1929 64 bit (AMD64)]"
  },
  "orig_nbformat": 2,
  "vscode": {
   "interpreter": {
    "hash": "a42ccb73e7d9bfdf27e036f1d2b8b681e55fc0743cc5586bc2474d4a60f4b886"
   }
  }
 },
 "nbformat": 4,
 "nbformat_minor": 2
}
