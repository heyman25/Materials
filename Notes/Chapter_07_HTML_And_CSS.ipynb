{
 "cells": [
  {
   "cell_type": "markdown",
   "metadata": {},
   "source": [
    "# Learning Objectives\n",
    "\n",
    "- [ ] *4.1.1 Explain the structure of the internet\n",
    "- [ ] 4.2.1 Describe the differences between web applications and native applications \n",
    "- [ ] 4.2.2 State and apply usability principles in the design of web applications\n",
    "- [ ] *4.2.3 Use HTML, CSS (for clients) and Python (for the server) to create a web application that is able to display the output (as formatted text/images/table). \n",
    "- [ ] 4.2.2 Test a web application on a local server.\n",
    "\n",
    "# References\n",
    "\n",
    "- https://developer.mozilla.org/en-US/docs/Learn/HTML/Introduction_to_HTML\n",
    "- https://developer.mozilla.org/en-US/docs/Learn/CSS/Introduction_to_CSS\n",
    "- Harvard's CS50 2020 https://www.youtube.com/watch?v=5g0x2xv3aHU&t=1758s\n",
    "- ^4 http://web.stanford.edu/class/msande91si/www-spr04/readings/week1/InternetWhitepaper.htm\n",
    "- https://www.w3schools.com/html/html_css.asp#:~:text=CSS%20can%20be%20added%20to,to%20an%20external%20CSS%20file\n",
    "- https://uxplanet.org/visual-hierarchy-and-the-fundamentals-of-interaction-320a9e633822\n",
    "- https://www.programiz.com/python-programming/decorator\n",
    "- https://realpython.com/primer-on-jinja-templating/"
   ]
  },
  {
   "cell_type": "markdown",
   "metadata": {},
   "source": [
    "# 7 HTML\n"
   ]
  },
  {
   "cell_type": "markdown",
   "metadata": {},
   "source": [
    "# Chrome Developer Tools\n",
    "ipconfig\n",
    "tracert"
   ]
  },
  {
   "cell_type": "markdown",
   "metadata": {},
   "source": [
    "# 7.0 Internet\n",
    "\n",
    "The internet is the global system of interconnected computer networks that uses a specific, standardized procedure TCP/IP to communicate between networks and devices.\n",
    "\n",
    "<center>\n",
    "<img src=\"./web_stuff/img/ruswp_diag2.gif\"><br>\n",
    "Protocol Stack\n",
    "</center>\n",
    "\n",
    "## 7.0.1 TCP/IP \n",
    "\n",
    "There are two procedures used for communication in the internet.\n",
    "\n",
    "1. Internet Protocol (IP) has the task of delivering units of data called **packets** from the source computer to the destination computer which are connected via the internet. To be able to do so, IP addresses, a numerical label, are assigned to each device connected to a computer network. An IP address serves two principal functions: \n",
    "    - it identifies the host, and \n",
    "    - it provides the location of the host in the network, and thus the capability of establishing a path to that host.  \n",
    "2. Transmission Control Protocol (TCP) provides a communication service at an intermediate level between an application program and the Internet Protocol. TCP is responsible for routing application protocols to the correct application on the destination computer. To accomplish this, port numbers are used. Ports can be thought of as seperate channels on each computer. For example, you can surf the web while reading e-mail in the middle of a Zoom call with Genshin Impact open in a window. This is because these these applications used different port numbers. When a packet arrives at a computer and makes its way up the protocol stack, the TCP layer decides which application receives the packet based on a port number. E.g., HTTP uses port 80, HTTPS uses 443, Genshin Impact is 42472.\n",
    "\n",
    "## 7.0.2 World Wide Web\n",
    "\n",
    "The World Wide Web (WWW), commonly known as the Web, is an information system where documents and other web resources are identified by Uniform Resource Locators (URLs, such as http://www.example.com/index.html), which may be interlinked by hyperlinks, and are accessible over the Internet. The resources of the Web are transferred via the Hypertext Transfer Protocol (HTTP), may be accessed by users by a software application called a **web browser**, and are published by a software application called a **web server**. The World Wide Web is not synonymous with the Internet.\n",
    "\n",
    "## 7.0.3 Hyper Text Transfer Protocol\n",
    "\n",
    "Hypertext Transfer Protocol (HTTP) is an application-layer protocol for transmitting hypermedia documents, such as HTML. It was designed mainly for communication between web browsers and web servers. HTTP follows a classical client-server model, with a client opening a connection to make a request, then waiting until it receives a response.\n",
    "\n",
    "Domain names are human-readable addresses of an internet-connected computer. Whilst any internet-connected computer can be reached through a public IP address, IP addresses doesn't give a clear information about who's running the server or what service the website offers to a human user. Furthermore, IP addresses are hard to remember and might change over time.\n",
    "\n",
    "- `HTTP GET` method requests a representation of the specified resource. Requests using `GET` should only be used to request data (these requests shouldn't include data).\n",
    "\n",
    "- `HTTP POST` method sends data to the server. `POST` is designed to allow a uniform method to cover the following functions:\n",
    "    \n",
    "    - Annotation of existing resources\n",
    "    - Posting a message to a bulletin board, newsgroup, mailing list, or similar group of articles;\n",
    "    - Adding a new user through a signup modal;\n",
    "    - Providing a block of data, such as the result of submitting a form, to a data-handling process;\n",
    "    - Extending a database through an append operation.\n",
    "\n",
    "The `index.html` is usually the default file returned when you open a website address."
   ]
  },
  {
   "cell_type": "markdown",
   "metadata": {},
   "source": [
    "# 7.1 Hyper Text Markup Language\n",
    "\n",
    "HTML (Hypertext Markup Language) is not a programming language. It is a **markup language** that tells web browsers how to structure the web pages you visit. HTML consists of a series of **elements**, which you use to enclose, wrap, or mark up different parts of content to make it appear or act in a certain way. The enclosing tags can make content into a hyperlink to connect to another page, italicize words, and so on.\n",
    "\n",
    "> Mark-up is a term from print editing - the editor would go through the text and add annotations (i.e. this in italic, that in bold) for the printers to use when producing the final version. This was called *marking up the text*.\n",
    "\n",
    "An **element** is a part of a webpage. An element may contain a data item or a chunk of text or an image, or perhaps nothing. A typical element includes an opening tag with some **attributes**, enclosed text content, and a closing tag.\n",
    "\n",
    "<center>\n",
    "<img src=\"./web_stuff/img/anatomy-of-an-html-element.png\"><br>\n",
    "</center>\n",
    "\n",
    "The anatomy of our element is:\n",
    "\n",
    "- The opening tag: This consists of the name of the element (in this example, `p` for paragraph), wrapped in opening `<` and closing angle `>` brackets. This opening tag marks where the element begins or starts to take effect. \n",
    "- The content: This is the content of the element. \n",
    "- The closing tag: This is the same as the opening tag, except that it includes a forward slash `/` before the element name. This marks where the element ends. Failing to include a closing tag is a common beginner error that can produce peculiar results. Note that some elements only consist of a single tag, which is typically used to insert/embed something in the document\n",
    "\n",
    "An **attribute** extends an element, changing its behavior or providing metadata. Attributes contain extra information about the element that won't appear in the content.\n",
    "\n",
    "An attribute always has the form `name=\"value\"` (the attribute's identifier `name` followed by its associated value `value`). The attributes without the equals sign or a value is a shorthand for providing the empty string in HTML.\n",
    "\n",
    "Elements and tags are not the same things. Tags begin or end an element in source code, whereas elements are part of the DOM (Document Object Model) that defines the logical structure of documents and the way a document is accessed and manipulated.\n",
    "\n",
    "## Example of an HTML document"
   ]
  },
  {
   "cell_type": "code",
   "execution_count": null,
   "metadata": {
    "vscode": {
     "languageId": "html"
    }
   },
   "outputs": [],
   "source": [
    "<!doctype html>\n",
    "<html>\n",
    "    <head>\n",
    "        <meta charset=\"utf-8\">\n",
    "        <title>Example HTML document</title>\n",
    "    </head>\n",
    "    <body>\n",
    "        <p class=\"example\">Hello,\n",
    "            <a href=\"#\">World</a>!. </p>\n",
    "        <form action=\"http://127.0.0.1:12345/\">\n",
    "            <input id=\"button\" type=\"submit\">\n",
    "        </form>\n",
    "    </body>\n",
    "</html>"
   ]
  },
  {
   "cell_type": "markdown",
   "metadata": {},
   "source": [
    "Copy the code above to a text file and name it `index.html`. Open the file with any web browser in your machine. \n",
    "\n",
    "If you open any webpage, you can check its html code by using the Developer Tools (`CTRL+SHIFT+I`) in Google Chrome. "
   ]
  },
  {
   "cell_type": "markdown",
   "metadata": {},
   "source": [
    "## 7.1.1 Basic Structure of HTML document\n",
    "\n",
    "Here we have:\n",
    "\n",
    "- `<!DOCTYPE html>`: The doctype is a historical artifact that needs to be included for everything else to work right. It used to serve as links to a set of rules that the HTML page had to follow to be considered good HTML in the early days of HTML.\n",
    "- `<html></html>`: The `<html>` element. This element wraps all the content on the page. It is sometimes known as the root element.\n",
    "- `<head></head>`: The `<head>` element. This element acts as a container for everything you want to include on the HTML page, that isn't the content the page will show to viewers. This includes keywords and a page description that would appear in search results, CSS to style content, character set declarations, and more. \n",
    "- `<meta charset=\"utf-8\">`: This element specifies the character set for your document to UTF-8, which includes most characters from the vast majority of human written languages. With this setting, the page can now handle any textual content it might contain. There is no reason not to set this, and it can help avoid some problems later.\n",
    "- `<title></title>`: The `<title>` element. This sets the title of the page, which is the title that appears in the browser tab the page is loaded in. \n",
    "- `<body></body>`: The `<body>` element. This contains all the content that displays on the page, including text, images, videos, games, playable audio tracks, or whatever else."
   ]
  },
  {
   "cell_type": "markdown",
   "metadata": {},
   "source": [
    "## 7.1.2 Common Elements of HTML document\n",
    "\n",
    "- `<p></p>` element represents a paragraph.\n",
    "- `<b></b>` `bold` element.\n",
    "- `<em></em>` emphasis element. (italicizes the text)\n",
    "- &lt;a&gt; &lt;/a&gt;. The **anchor** element. An anchor can make the text it encloses into a hyperlink. Anchors can take a number of attributes, but several are as follows:\n",
    "    - `href`: This attribute's value specifies the web address for the link. \n",
    "    - `title`: The `title` attribute specifies extra information about the link, such as a description of the page that is being linked to.\n",
    "    - `target`: The `target` attribute specifies the browsing context used to display the link. For example, `target=\"_blank\"` will display the link in a new tab.\n",
    "- `<img>` element embeds an image into the document.\n",
    "- `<h1></h1>,...,<h6></h6>` represents six level of section headings with `<h1>` being the highest and `<h6>` the lowest.\n",
    "- special characters \n",
    ">| Character | `&`     | `<`    | `>`    | `\"`      |\n",
    ">|-----------|-------|------|------|--------|\n",
    ">| Reference | `&amp;` | `&lt;` | `&gt;` | `&quot;` |\n",
    "- `<!--` and `-->` are used to wrap around the comments in HTML code. Browsers ignore comments, effectively making comments invisible to the user. \n",
    "- `<ul></ul>` represents an **unordered list** of items, typically rendered as a bulleted list. Each item will be represented with an `<li></li>` element.\n",
    "- `<ol></ol>` represents an **ordered list** of items — typically rendered as a numbered list. Similar to the unordered list, each item will be represented with an `<li></li>` element.\n",
    "- `<table></table>` represents tabular data — that is, information presented in a two-dimensional table comprised of rows and columns of cells containing data. Inside the `table` element, there're subelements to be used as well. \n",
    "    - `<thead>` table header\n",
    "    - `<tbody>` table body\n",
    "    - `<tr>` table row\n",
    "    - `<td>` table cell. \n",
    "    \n",
    "    Example of usage of `<table></table>`\n",
    "    \n",
    "    >```HTML\n",
    "    ><table>\n",
    "    >  <tr>\n",
    "    >    <th>Month</th>\n",
    "    >    <th>Savings</th>\n",
    "    >  </tr>\n",
    "    >  <tr>\n",
    "    >    <td>January</td>\n",
    "    >    <td>$100</td>\n",
    "    >  </tr>\n",
    "    >  <tr>\n",
    "    >    <td>February</td>\n",
    "    >    <td>$80</td>\n",
    "    >  </tr>\n",
    "    ></table>\n",
    "    ```\n",
    "- <input></input>\n",
    "    - `text`\n",
    "    - `password`\n",
    "    - `image`\n",
    "    - `file`\n",
    "- <button></button>\n",
    "\n",
    "Link to more HTML elements:\n",
    "- https://developer.mozilla.org/en-US/docs/Web/HTML/Element"
   ]
  },
  {
   "cell_type": "markdown",
   "metadata": {},
   "source": [
    "# 7.2 Cascading Style Sheets\n",
    "\n",
    "CSS (Cascading Style Sheets) is a declarative language that controls how webpages look in the browser. \n",
    "\n",
    "A CSS rule-set consists of a selector and a declaration block. \n",
    "e.g:\n",
    "\n",
    "```css\n",
    "h1 {color:blue; font-size:12px;}\n",
    "```\n",
    "\n",
    "- `h1` in the example above is called a **selector** and it points to the HTML element you want to style.\n",
    "- the text enclosed within the `{...}` is called a **declaration block** and it contains one or more declarations separated by semicolons `;`.\n",
    "- each declaration includes a CSS property name and a value, separated by a colon `:`,\n",
    "- A CSS declaration always ends with a semicolon, and declaration blocks are surrounded by curly braces.\n",
    "\n",
    "In general, the rule-set is of the form:\n",
    "\n",
    "```css\n",
    "SELECTOR {DECLARATION_1; DECLARATION_2;.....;DECLARATION_N}\n",
    "```\n",
    "\n",
    "## 7.2.1 CSS Properties for A-Level\n",
    "\n",
    "<center>\n",
    "\n",
    "| Common     | Box Model     | Box Model      | Typography      |\n",
    "|------------|---------------|----------------|-----------------|\n",
    "| display    | height        | margin-left    | font-family     |\n",
    "| background | width         | margin-right   | font-size       |\n",
    "| color      | border        | margin-top     | font-style      |\n",
    "|            | border-bottom | padding        | font-weight     |\n",
    "|            | border-left   | padding-bottom | text-align      |\n",
    "|            | border-right  | padding-left   | text-decoration |\n",
    "|            | border-top    | padding-right  |                 |\n",
    "|            | margin        | padding-top    |                 |\n",
    "|            | margin-bottom |                |                 |\n",
    "\n",
    "</center>\n",
    "\n",
    "For a complete reference of all the properties and values:  https://www.w3schools.com/cssref/default.asp\n",
    "\n",
    "Note: \n",
    "\n",
    "- A property (e.g., `border`) may have multiple values separated by whitespace\n",
    "- American language is used in CSS. (Eg `center` instead of `centre`, `color` instead of `colour`)\n",
    "- Units can be one of these:\n",
    "    - percentage e.g., `10%` of the parent container's width\n",
    "    - pixels, e.g., `100px`\n",
    "    - em e.g., `1em`, relative to the font size of parent's element.  \n",
    "\n",
    "CSS can be added to HTML documents in 3 ways:\n",
    "- Inline - by using the `style` attribute inside HTML elements\n",
    "- Internal - by using a `<style>` element in the `<head>` section\n",
    "- External - by using a `<link>` element to link to an external CSS file\n",
    "\n",
    "Inline styling holds the highest priority and will always be applied"
   ]
  },
  {
   "cell_type": "code",
   "execution_count": null,
   "metadata": {
    "vscode": {
     "languageId": "html"
    }
   },
   "outputs": [],
   "source": [
    "#Example of Inline CSS\n",
    "<h1 style=\"color:blue;\">A Blue Heading</h1>\n",
    "<p style=\"color:red;\">A red paragraph.</p>"
   ]
  },
  {
   "cell_type": "code",
   "execution_count": null,
   "metadata": {
    "vscode": {
     "languageId": "html"
    }
   },
   "outputs": [],
   "source": [
    "#Example of Internal CSS\n",
    "<style>\n",
    "    body {background-color: powderblue;}\n",
    "    h1   {color: blue;}\n",
    "    p    {color: red;}\n",
    "</style>"
   ]
  },
  {
   "cell_type": "code",
   "execution_count": null,
   "metadata": {
    "vscode": {
     "languageId": "html"
    }
   },
   "outputs": [],
   "source": [
    "#Example of External CSS\n",
    "\n",
    "#Provided there is file style.css in same directory\n",
    "<link rel=\"stylesheet\" href=\"style.css\"/>"
   ]
  },
  {
   "cell_type": "markdown",
   "metadata": {},
   "source": [
    "Some commonly used CSS properties for your HTML elements include:\n",
    "- `color`\n",
    "- `font-family`\n",
    "- `font-size`\n",
    "- `border`\n",
    "- `padding`\n",
    "- `margin`\n",
    "- `background-color`\n",
    "- `width`\n",
    "- `text-align`\n",
    "\n",
    "CSS can be commented out by using `/* COMMENT  */`.\n",
    "\n",
    "[https://fontjoy.com/]\n",
    "[https://coolors.co/]"
   ]
  },
  {
   "cell_type": "markdown",
   "metadata": {},
   "source": [
    "## 7.2.2 The `div` Element \n",
    "\n",
    "The HTML Content Division element (`<div>`) is the generic container for flow content. It has no effect on the content or layout until styled in some way using CSS (e.g. styling is directly applied to it, or some kind of layout model like Flexbox is applied to its parent element).\n",
    "\n",
    "As a \"pure\" container, the `<div>` element does not inherently represent anything. Instead, it's used to group content so it can be easily styled using the `class` or `id` attributes, marking a section of a document as being written in a different language (using the `lang` attribute), and so on.\n",
    "\n",
    "Check out `https://developer.mozilla.org/en-US/docs/Web/HTML/Element/div` for more info."
   ]
  },
  {
   "cell_type": "markdown",
   "metadata": {},
   "source": [
    "## 7.2.3 `id` and `class` attributes of HTML elements\n",
    "\n",
    "Recall that selector is a pattern of elements and other terms that tell the browser which HTML elements should be selected to have the CSS property values inside the rule applied to them. The element or elements which are selected by the selector are referred to as the subject of the selector.\n",
    "\n",
    "There are 3 classes of selector:\n",
    "- type e.g., `h1 {}`\n",
    "- `class` has the following syntax `.` followed `CLASS_NAME` e.g.,`.box{}`\n",
    "- `ID` selector has the syntax `#` followed `<ID_NAME>` e.g., `#unique{}`\n",
    "\n",
    "ID selectors have highest priority (after inline styling), followed by class selectors, with type selectors having lowest priority\n",
    "\n",
    "The following code uses both internal and inline styling:"
   ]
  },
  {
   "cell_type": "code",
   "execution_count": null,
   "metadata": {
    "vscode": {
     "languageId": "html"
    }
   },
   "outputs": [],
   "source": [
    "<!DOCTYPE html>\n",
    "<html>\n",
    "<head>\n",
    "  <style>\n",
    "      /*This is a type selector*/\n",
    "      h1 {\n",
    "          color:blue;\n",
    "          background-color:yellow;\n",
    "      }\n",
    "\n",
    "      /*This is a class selector*/\n",
    "      .red {\n",
    "          color:red;\n",
    "      }\n",
    "\n",
    "      /*This is a type and class selector*/\n",
    "      /*Selects all types with the specified class*/\n",
    "      h1.red {\n",
    "          color:purple;\n",
    "      }\n",
    "\n",
    "      /*This is an ID selector */\n",
    "      /*IDs must be unique to the element*/\n",
    "      /*multiple selections can be made using ','*/\n",
    "      #bluehighlight, #another {\n",
    "        background-color:aqua;\n",
    "      }\n",
    "\n",
    "      /*different selection types can be used together*/\n",
    "      h1.red, p {\n",
    "        font-size: larger;\n",
    "      }\n",
    "\n",
    "      .monospace {\n",
    "        font-family: monospace;\n",
    "      }\n",
    "  </style>\n",
    "</head>\n",
    "\n",
    "<body>\n",
    "  <div>\n",
    "    <h1>Blue header with yellow background</h1>\n",
    "\n",
    "    <!--This element is purple as style for h1.red is defined after .red-->\n",
    "    <h1 class=\"red\">Purple header with yellow background</h1>\n",
    "    <h2 class=\"red\" id=\"bluehighlight\">Red header h2 with light blue backround</h2>\n",
    "    <p class=\"red\">Red text</p>\n",
    "    <!--It is possible for an element to have more than one class-->\n",
    "    <p class=\"red monospace\">Monospace red text</p>\n",
    "    <p class=\"monospace\">Monospace text</p>\n",
    "  </div>\n",
    "\n",
    "  <!--Children also inherit classes from their parents-->\n",
    "  <div class=\"monospace\">\n",
    "      <!--This element has class of both red and monospace-->\n",
    "      <!--However it is blue as inline CSS has highest priority-->\n",
    "      <p class=\"red\" style=\"color: blue;\">Monospace blue text</p>\n",
    "      <p>Monospace text</p>\n",
    "      <p class=\"red\" id=\"another\">Monospace red text with light blue background</p>\n",
    "  </div>\n",
    "\n",
    "    <!--Take note the priority where styles are defined-->\n",
    "</body>\n",
    "</html>"
   ]
  },
  {
   "cell_type": "markdown",
   "metadata": {},
   "source": [
    "## 7.2.4 CSS Box Model\n",
    "\n",
    "The CSS box model is essentially a box that wraps around every HTML element. It consists of: \n",
    "- margins: the CSS margin properties are used to create space around elements, outside of any defined borders.\n",
    "- borders:  CSS border properties allow you to specify the style, width, and color of an element's border.\n",
    "- padding: CSS padding is used to create space around an element's content, inside of any defined borders.\n",
    "- the actual content.\n",
    "\n",
    "The image below illustrates the box model:\n",
    "\n",
    "<center>\n",
    "<img src=\"./web_stuff/img/box-model.png\"><br>\n",
    "</center>\n",
    "\n",
    "Try out at: [https://codepen.io/beertino/pen/BapMXMw]"
   ]
  },
  {
   "cell_type": "markdown",
   "metadata": {},
   "source": [
    "# 7.3 Usability Principles in Web Applications\n",
    "\n",
    "## 7.3.1 Visual Hierarchy\n",
    "## 7.3.2 Consistency (Mental Models)\n",
    "## 7.3.3 Affordance\n",
    "## 7.3.4 Responsiveness"
   ]
  },
  {
   "cell_type": "markdown",
   "metadata": {},
   "source": [
    "# 7.4 Flexbox Layout Module\n",
    "\n",
    "The Flexible Box (Flexbox) Layout Module, makes it easier to design flexible responsive layout structure without using float or positioning. To activate this, add `display: flex` inside the declaration of the selected HTML element.\n",
    "\n",
    "Please check out the following links to see how you can use flexbox for your page.\n",
    "\n",
    "- https://www.w3schools.com/css/css3_flexbox.asp\n",
    "- https://css-tricks.com/snippets/css/a-guide-to-flexbox/"
   ]
  },
  {
   "cell_type": "markdown",
   "metadata": {},
   "source": [
    "# 7.5 Web Forms\n",
    "\n",
    "A web form is used to get inputs from the user and submitted to be processed by the web application.\n",
    "\n",
    "Form elements in A level syllabus:\n",
    "\n",
    "<center>\n",
    "\n",
    "| Elements | Attributes | Values                                                           |\n",
    "|----------|------------|------------------------------------------------------------------|\n",
    "| `<form>` `</form>`     | `action`     | URL to submit(identify the server)                               |\n",
    "|          | `method` (optional)    | `GET` or `POST`                                                      |\n",
    "|          | `enctype` (optional)    | Upload a file using `multiplart/form-data`                         |\n",
    "| `<input>` No Closing Tag    | `name`       | Similar to a variable name but different from `id`                 |\n",
    "|          | `type`       | text, submit, file ( radio, checkbox, date,... )                   |\n",
    "|          | `value`      | Values that will be submitted. Use for specifying default values |\n",
    "| `<textarea>` `</textarea>` | `name`       | Multi-line textbox                                               |\n",
    "| `<label>` `</label>`    | `for`        | `id` of the input elements that the label refers to                |\n",
    "\n",
    "</center>\n",
    "\n",
    "<center>\n",
    "<img src=\"./images/web-form.png\"><br>\n",
    "</center>\n",
    "\n",
    "- The `for` attribute of `<label>` must be equal to the `id` attribute of the related element to bind them together.\n",
    "- `<label>` element also increases the hit area of the form element."
   ]
  },
  {
   "cell_type": "code",
   "execution_count": null,
   "metadata": {
    "vscode": {
     "languageId": "html"
    }
   },
   "outputs": [],
   "source": [
    "<!DOCTYPE html>\n",
    "<html lang=\"en\">\n",
    "<head>\n",
    "    <meta charset=\"UTF-8\">\n",
    "    <meta http-equiv=\"X-UA-Compatible\" content=\"IE=edge\">\n",
    "    <meta name=\"viewport\" content=\"width=device-width, initial-scale=1.0\">\n",
    "    <title>Document</title>\n",
    "</head>\n",
    "<body>\n",
    "    \n",
    "    <div>\n",
    "    <h1> Text</h1>\n",
    "    <form>\n",
    "        <label for=\"fname\">First name:</label><br>\n",
    "        <input type=\"text\" id=\"fname\" name=\"fname\"><br>\n",
    "        <label for=\"lname\">Last name:</label><br>\n",
    "        <input type=\"text\" id=\"lname\" name=\"lname\">\n",
    "    </form>\n",
    "    </div>\n",
    "    \n",
    "    <div>\n",
    "    <h1>Radio</h1>\n",
    "    <form>\n",
    "        <input type=\"radio\" id=\"male\" name=\"gender\" value=\"male\">\n",
    "        <label for=\"male\">Male</label><br>\n",
    "        <input type=\"radio\" id=\"female\" name=\"gender\" value=\"female\">\n",
    "        <label for=\"female\">Female</label><br>\n",
    "        <input type=\"radio\" id=\"other\" name=\"gender\" value=\"other\">\n",
    "        <label for=\"other\">Other</label>\n",
    "    </form>\n",
    "    </div>\n",
    "    <div>\n",
    "    <h1>Checkbox</h1>\n",
    "        <form action='/lmao'>\n",
    "            <input type=\"checkbox\" id=\"vehicle1\" name=\"vehicle1\" value=\"Bike\">\n",
    "            <label for=\"vehicle1\"> I have a bike</label><br>\n",
    "            <input type=\"checkbox\" id=\"vehicle2\" name=\"vehicle2\" value=\"Car\">\n",
    "            <label for=\"vehicle2\"> I have a car</label><br>\n",
    "            <input type=\"checkbox\" id=\"vehicle3\" name=\"vehicle3\" value=\"Boat\">\n",
    "            <label for=\"vehicle3\"> I have a boat</label>\n",
    "        </form>\n",
    "    </div>\n",
    "    <div>\n",
    "        <h1>Submit</h1>\n",
    "        <form action=\"/action_page.php\">\n",
    "            <label for=\"fname\">First name:</label><br>\n",
    "            <input type=\"text\" id=\"fname\" name=\"fname\" value=\"John\"><br>\n",
    "            <label for=\"lname\">Last name:</label><br>\n",
    "            <input type=\"text\" id=\"lname\" name=\"lname\" value=\"Doe\"><br><br>\n",
    "            <input type=\"submit\" value=\"Submit\">\n",
    "        </form>\n",
    "    </div>\n",
    "    <div>\n",
    "        <h1>File</h1>\n",
    "        <form>\n",
    "            <input type=\"file\" id=\"myFile\" name=\"filename\">\n",
    "            <input type=\"submit\">\n",
    "        </form>\n",
    "    </div>\n",
    "    <div>\n",
    "        <h1>Button</h1>\n",
    "        <form action=\"/action_page.php\">\n",
    "            <input type=\"file\" id=\"myFile\" name=\"filename\">\n",
    "            <button type='submit'>Add File</button>\n",
    "        </form>\n",
    "    </div>\n",
    "</body>\n",
    "</html>"
   ]
  },
  {
   "cell_type": "markdown",
   "metadata": {},
   "source": [
    "# 7.6 Web Server \n",
    "\n",
    "## 7.6.1 Software, Server and Applications\n",
    "\n",
    "Software is the set of instructions that make the computer hardware usable. \n",
    "\n",
    "A server is a computer on a network that provides a resource to the other machines on the network. In particular, a **web server** accepts requests via HTTP, to distribute web pages. A **web browser** is a software that enables the access to the material requested from the web server. \n",
    "\n",
    "An application (software) is a set of instructions designed to make the computer do something for the user. If an application runs on a web server, such an application is termed **web application**. As such, web applications are accessed by the user through a web browser with an active network connection. In contrast, an application that runs locallly on the operating system of the device is called **native application**.\n",
    "\n",
    "A **web framework** is a software framework that is designed to support the development of web applications and it provide a standard way to build and deploy web applications. In other words, it is a code library that makes a developer's life easier when building reliable, scalable, and maintainable web applications. \n",
    "\n",
    "## 7.6.2 Flask\n",
    "\n",
    "Flask is a web framework written in Python. If you don't have it yet on your computer, please install by running in the terminal:\n",
    "\n",
    "```python\n",
    "pip install flask\n",
    "```\n",
    "\n",
    "Note: Flask version for A-level is 2.2.5 when the current Flask version is 3.1.x.\n",
    "\n",
    "Basic code to run a Flask web server is given below:"
   ]
  },
  {
   "cell_type": "code",
   "execution_count": null,
   "metadata": {},
   "outputs": [],
   "source": [
    "from flask import Flask #0 importing the flask module\n",
    "#from flask import render_template\n",
    "\n",
    "app = Flask(__name__) #1 creating the Flask object\n",
    "\n",
    "@app.route('/') #2. decorator. the argument passed into the route method '/' denotes that it will respond web requests for the URL `/`\n",
    "def hello():\n",
    "    \"\"\"Print 'Hello, world!' as the response body.\"\"\"\n",
    "    return 'Hello World!'\n",
    "    #return \"<h1 style='color: red;'>I'm a red H1 heading!</h1><p>This is a lovely little paragraph</p><code>Flask is <em>awesome</em></code>\"\n",
    "    \n",
    "if __name__ == \"__main__\":\n",
    "    app.run()"
   ]
  },
  {
   "cell_type": "markdown",
   "metadata": {},
   "source": [
    "- by default, the URL `http://127.0.0.1:5000/` is used to access the website. `127.0.0.1` is a reserved ip address to refer to the current computer used to access itself. `5000` is the default port number used by Flask. You can change the port number by providing `port=your_port_number` into the `app.run()` method.\n",
    "- change the argument in `route` method to specify the location of the resources you want to get. \n",
    "- remember to import `render_template` so that you can use the html as a template. Note that these template html files has to be stored in the `templates` folder if we're using Flask.\n",
    "- you can pass Python variables as an argument in `render_template()` function to be used for further templating (see Jinja below).\n",
    "- When a certain type of error is encountered in flask, we can use **error handler**, which is a function, to return a response. Some common errors are:\n",
    "    - `404 NOT FOUND`\n",
    "    - `403 FORBIDDEN`\n",
    "    - `410 GONE`\n",
    "    - `500 INTERNAL SERVER ERROR`"
   ]
  },
  {
   "cell_type": "code",
   "execution_count": null,
   "metadata": {},
   "outputs": [],
   "source": [
    "@app.errorhandler(404)\n",
    "def page_not_found(e):\n",
    "    # note that we set the 404 status explicitly\n",
    "    return render_template('404.html'), 404"
   ]
  },
  {
   "cell_type": "markdown",
   "metadata": {},
   "source": [
    "### 7.6.2.1 Request Form Elements\n",
    "\n",
    "A query string is a part of a uniform resource locator (URL) that assigns values to specified parameters. This string can then be used by the web server to return a specific resource to the client. For example:\n",
    "\n",
    "```html\n",
    "https://duckduckgo.com/?q=mathematics+degree&t=hd&va=u&ia=web\n",
    "```\n",
    "\n",
    "Multiple query parameters are separated by the ampersand (&) symbol.\n",
    "\n",
    "We pass the URL of the route we want to post the form data to in the `action` attribute of the `form` element. In our case `action=\"/\"`.\n",
    "You'll also need to pass the request method to the method attribute in the opening `<form>` tag. We've added `method=\"POST\"` because we're POSTing data to the server.\n",
    "\n",
    "To access form data in our route, we use `request.form` object, which has the type `werkzeug.datastructures.ImmutableMultiDict`. However, effectively, we can essentially treat it like a dictionary."
   ]
  },
  {
   "cell_type": "code",
   "execution_count": null,
   "metadata": {},
   "outputs": [],
   "source": [
    "from flask import Flask, render_template, request\n",
    "app = Flask(__name__)\n",
    "\n",
    "\n",
    "@app.route(\"/\")\n",
    "def template_test():\n",
    "    return render_template('template.html', my_string=\"Wheeeee!\", my_list=[0,1,2,3,4,5])\n",
    "\n",
    "@app.route('/notice',methods=['GET','POST'])\n",
    "def notice_me():\n",
    "    print(request.form)\n",
    "    return render_template('notice.html',first=request.form['first_name'],last=request.form['last_name'])\n",
    "\n",
    "if __name__ == '__main__':\n",
    "    app.run(debug=True)"
   ]
  },
  {
   "cell_type": "markdown",
   "metadata": {},
   "source": [
    "# 7.7 Jinja Expressions\n",
    "\n",
    "Jinja is a web template engine, which is a way to let web designers and developers work with web templates to automatically generate custom web pages, for the Python programming language. Example of use case is to generate a web page to display a result from a search. \n",
    "\n",
    "Jinja supports:\n",
    "- basic arithmetic `(+,-,*,%,//,**)` and comparison operators `==,!=,<,<=,>=,>`.\n",
    "- inserting of variables via `{{ VARIABLE_NAME }}`,\n",
    "- control structures `for` and `if` using :\n",
    "    - `{{% for %}}.......{{% endfor %}}`,\n",
    "    - `{{% if %}}.......{{% endif %}}`.\n",
    "- template inheritance via:\n",
    "    - `{% extends NAME_OF_FILE.html%}` denotes that the html file (called **child html**) is to be inserted into another html file, called **parent html**.\n",
    "    - `{% block SOME_NAME%}....{% endblock %}`, `SOME_NAME` is usually `content`, `footer`."
   ]
  },
  {
   "cell_type": "code",
   "execution_count": null,
   "metadata": {
    "vscode": {
     "languageId": "html"
    }
   },
   "outputs": [],
   "source": [
    "<!DOCTYPE html>\n",
    "<html>\n",
    "\n",
    "<head>\n",
    "    <title>Flask Template Example</title>\n",
    "    <meta name=\"viewport\" content=\"width=device-width, initial-scale=1.0\">\n",
    "    <style type=\"text/css\">\n",
    "        .container {\n",
    "            margin: auto;\n",
    "            width: 20%\n",
    "        }\n",
    "    </style>\n",
    "</head>\n",
    "\n",
    "<body>\n",
    "    <div class=\"container\">\n",
    "        <p>My string: {{my_string}}</p>\n",
    "        <p>Value from the list: {{my_list[3]}}</p>\n",
    "        <p>Loop through the list:</p>\n",
    "        <ul>\n",
    "            {% for n in my_list %}\n",
    "                <li>{{n}}</li>\n",
    "            {% endfor %}\n",
    "        </ul>\n",
    "        <div class='input_stuff'>\n",
    "            <form action='/notice' method='POST'>\n",
    "                <div>\n",
    "                    First Name <input type='text' name='first_name'>\n",
    "                </div>\n",
    "                <div>\n",
    "                    Last Name <input type='text' name='last_name'>\n",
    "                </div>\n",
    "                <div>\n",
    "                    <input type='submit' name='submit'>\n",
    "                </div>\n",
    "            </form>\n",
    "        </div>\n",
    "        <div class=\"container\">\n",
    "      <h2>This is part of my base template</h2>\n",
    "      <br>\n",
    "      {% block content %}{% endblock %}\n",
    "      <br>\n",
    "      <h2>This is part of my base template</h2>\n",
    "      <br>\n",
    "      <div class=\"footer\">\n",
    "        {% block footer %}\n",
    "          Watch! This will be added to my base and child templates using the super powerful super block!\n",
    "          <br>\n",
    "          <br>\n",
    "          <br>\n",
    "        {% endblock %}\n",
    "      </div>\n",
    "    </div>\n",
    "    </div>\n",
    "</body>\n",
    "\n",
    "</html>"
   ]
  },
  {
   "cell_type": "code",
   "execution_count": null,
   "metadata": {
    "vscode": {
     "languageId": "html"
    }
   },
   "outputs": [],
   "source": [
    "{% extends \"layout.html\" %}\n",
    "{% block content %}\n",
    "  <h3> This is the start of my child template</h3>\n",
    "  <br>\n",
    "  <p>Not My string: {{5+2}}</p>\n",
    "  <h3> This is the end of my child template</h3>\n",
    "{% endblock %}"
   ]
  }
 ],
 "metadata": {
  "kernelspec": {
   "display_name": "Python 3.10.2 64-bit",
   "language": "python",
   "name": "python3"
  },
  "language_info": {
   "name": "python",
   "version": "3.10.2"
  },
  "metadata": {
   "interpreter": {
    "hash": "dcacb0086e9a4f4eabd41c33bf4faac5ea0a3337ed3f5eff0680afa930572c04"
   }
  },
  "orig_nbformat": 2,
  "vscode": {
   "interpreter": {
    "hash": "a42ccb73e7d9bfdf27e036f1d2b8b681e55fc0743cc5586bc2474d4a60f4b886"
   }
  }
 },
 "nbformat": 4,
 "nbformat_minor": 2
}
