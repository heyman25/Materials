{
  "cells": [
    {
      "cell_type": "markdown",
      "metadata": {
        "id": "7v6xhw2TMvwL"
      },
      "source": [
        "# Exercise 4\n",
        "\n",
        "Related Notes:\n",
        "- Chapter_04_Functions\n",
        "\n",
        "[![Open In Colab](https://colab.research.google.com/assets/colab-badge.svg)](https://colab.research.google.com/github/njc-cz2-2021/Materials/blob/main/Exercises/Exercise_04_Functions.ipynb)"
      ]
    },
    {
      "cell_type": "markdown",
      "metadata": {
        "id": "_y94LVzTMvwQ"
      },
      "source": [
        "## Exercise 4.1 3D Vector Operations Revisited\n",
        "\n",
        "Recall that we have defined the following vector operations in the previous exercise:\n",
        "- addition $+$, which operates between 2 vectors and returns a vector, $\\left(\\begin{array}{c}\n",
        "a_{1}\\\\\n",
        "a_{2}\\\\\n",
        "a_{3}\n",
        "\\end{array}\\right)+\\left(\\begin{array}{c}\n",
        "b_{1}\\\\\n",
        "b_{2}\\\\\n",
        "b_{3}\n",
        "\\end{array}\\right)=\\left(\\begin{array}{c}\n",
        "a_{1}+b_{1}\\\\\n",
        "a_{2}+b_{2}\\\\\n",
        "a_{3}+b_{3}\n",
        "\\end{array}\\right)$,\n",
        "- dot product $\\cdot$, which operates between 2 vector and returns a real number, $\\left(\\begin{array}{c}\n",
        "a_{1}\\\\\n",
        "a_{2}\\\\\n",
        "a_{3}\n",
        "\\end{array}\\right)\\cdot\\left(\\begin{array}{c}\n",
        "b_{1}\\\\\n",
        "b_{2}\\\\\n",
        "b_{3}\n",
        "\\end{array}\\right)=a_{1}b_{1}+a_{2}b_{2}+a_{3}b_{3}$,\n",
        "- cross product $\\times$, which operates between 2 vectors and returns yet another vector, $\\left(\\begin{array}{c}\n",
        "a_{1}\\\\\n",
        "a_{2}\\\\\n",
        "a_{3}\n",
        "\\end{array}\\right)\\times\\left(\\begin{array}{c}\n",
        "b_{1}\\\\\n",
        "b_{2}\\\\\n",
        "b_{3}\n",
        "\\end{array}\\right)=\\left(\\begin{array}{c}\n",
        "a_{2}b_{3}-a_{3}b_{2}\\\\\n",
        "-\\left(a_{1}b_{3}-a_{3}b_{1}\\right)\\\\\n",
        "a_{1}b_{2}-a_{2}b_{1}\n",
        "\\end{array}\\right)$.\n",
        "\n",
        "First, write 3 functions named `dot`, `cross` and `vec_add` that:\n",
        "- each takes in 2 tuples `(x1,y1,z1)`, `(x2,y2,z2)` as parameters. Obviously, these tuples represent 3D vectors (not points!).\n",
        "- return the corresponding results of the various vector operations.\n",
        "\n",
        "Furthermore, there're more operations on that we can do on vectors.\n",
        "- negation, $-$, that operates on **one** vector and return another vector, $-\\left(\\begin{array}{c}\n",
        "a_{1}\\\\\n",
        "a_{2}\\\\\n",
        "a_{3}\n",
        "\\end{array}\\right)=\\left(\\begin{array}{c}\n",
        "-a_{1}\\\\\n",
        "-a_{2}\\\\\n",
        "-a_{3}\n",
        "\\end{array}\\right)$. Note that this is NOT SUBTRACTION OF TWO VECTOR\n",
        "- modulus (or magnitude or length), $\\left|~~~ \\right|$, of **one** vector and return a real number, $\\left|\\left(\\begin{array}{c}\n",
        "a_{1}\\\\\n",
        "a_{2}\\\\\n",
        "a_{3}\n",
        "\\end{array}\\right)\\right|=\\sqrt{a_{1}^{2}+a_{2}^{2}+a_{3}^{2}}$.\n",
        "- unit $\\hat{}$, of **one** vector and return a vector, $\\hat{\\mathbf{a}}=\\frac{1}{\\left|\\mathbf{a}\\right|}\\left(\\begin{array}{c}\n",
        "a_{1}\\\\\n",
        "a_{2}\\\\\n",
        "a_{3}\n",
        "\\end{array}\\right)$ of magnitude 1.\n",
        "\n",
        "Next, write another 3 functions named `neg`, `mag` and `unit` that:\n",
        "\n",
        "- each takes in a tuple `(x1,y1,z1)` as parameter. Obviously, this tuple represent 3D vectors (not points!).\n",
        "- return the results that corresponds to the negation, modulus of a vector and lastly, the unit vector of the corresponding vector.\n",
        "\n",
        "Example interaction:\n",
        "\n",
        ">```python\n",
        ">a = (1,2,3)\n",
        ">b = (4,5,6)\n",
        ">dot(a,b)\n",
        ">32\n",
        ">cross(a,b)\n",
        ">(-3,6,-3)\n",
        ">vec_add(a,b)\n",
        ">(5,7,9)\n",
        ">neg(a)\n",
        ">(-1,-2,-3)\n",
        ">mag(a)\n",
        ">3.74165738677\n",
        ">unit(a)\n",
        ">(0.267261, 0.534522, 0.801784)\n",
        ">```"
      ]
    },
    {
      "cell_type": "code",
      "execution_count": null,
      "metadata": {
        "id": "QlRsbktyMvwR"
      },
      "outputs": [],
      "source": [
        "#DO NOT DELETE THE IMPORT\n",
        "#you can find the square root of a number x by using the expression math.sqrt(x)\n",
        "import math\n",
        "\n",
        "#YOUR CODE HERE"
      ]
    },
    {
      "cell_type": "markdown",
      "metadata": {
        "id": "dofZ6LPDMvwT"
      },
      "source": [
        "## Exercise 4.2 2018/NJC Tutorial/VECTORS I/Q2 H2 Mathematics (Modified)\n",
        "\n",
        "Given that $\\mathbf{a}=2\\mathbf{i}+\\mathbf{j}+\\mathbf{k}$ and $\\mathbf{b}=-4\\mathbf{i}+3\\mathbf{j}$, find the following:\n",
        "\n",
        "1. $\\mathbf{a-2b}$,\n",
        "2. $\\left|\\mathbf{a}\\right|$,\n",
        "3. $\\hat{\\mathbf{b}}$.\n",
        "4. $\\left|3\\mathbf{a}\\right|+\\left|2\\mathbf{b}\\right|$,\n",
        "5. $\\left|3\\mathbf{a}+2\\mathbf{b}\\right|$.\n",
        "\n",
        "Answer:\n",
        "\n",
        "1. $\\left(\\begin{array}{c}\n",
        "10\\\\\n",
        "-5\\\\\n",
        "1\n",
        "\\end{array}\\right)$\n",
        "\n",
        "2. $\\sqrt{6}$\n",
        "\n",
        "3. $\\frac{1}{5}\\left(\\begin{array}{c}\n",
        "-4\\\\\n",
        "3\\\\\n",
        "0\n",
        "\\end{array}\\right)$\n",
        "\n",
        "4. $3\\sqrt{6}+10$\n",
        "\n",
        "5. $\\sqrt{94}$\n"
      ]
    },
    {
      "cell_type": "code",
      "execution_count": null,
      "metadata": {
        "id": "JtSqOodeMvwU"
      },
      "outputs": [],
      "source": [
        "#DO NOT DELETE THE IMPORT\n",
        "import math\n",
        "\n",
        "#YOUR CODE HERE"
      ]
    },
    {
      "cell_type": "markdown",
      "metadata": {
        "id": "BkS17PluMvwU"
      },
      "source": [
        "## Exercise 4.3 Angle between 3D Vectors\n",
        "\n",
        "The acute **angle** $\\theta$ between 2 vectors $\\mathbf{a}=\\left(\\begin{array}{c}\n",
        "a_{1}\\\\\n",
        "a_{2}\\\\\n",
        "a_{3}\n",
        "\\end{array}\\right)$ and $\\mathbf{b}=\\left(\\begin{array}{c}\n",
        "b_{1}\\\\\n",
        "b_{2}\\\\\n",
        "b_{3}\n",
        "\\end{array}\\right)$ is defined to be the value $\\theta$ such that $\\cos\\theta=\\frac{\\left|\\mathbf{a}\\cdot\\mathbf{b}\\right|}{\\left|\\mathbf{a}\\right|\\left|\\mathbf{b}\\right|}$, i.e.,\n",
        "$$\\theta=\\cos^{-1}\\left(\\frac{\\left|\\mathbf{a}\\cdot\\mathbf{b}\\right|}{\\left|\\mathbf{a}\\right|\\left|\\mathbf{b}\\right|}\\right).$$\n",
        "\n",
        "\n",
        "Write a function named `angle` that:\n",
        "- takes in 2 tuples `(x1,y1,z1)`, `(x2,y2,z2)` as parameters. Obviously, these tuples represent 3D vectors (not points!).\n",
        "- return the angle in degrees between the supplied vectors.\n",
        "\n",
        "Example interaction:\n",
        "\n",
        ">```python\n",
        ">a = (1,-2,3)\n",
        ">b = (3,1,2)\n",
        ">angle(a,b)\n",
        ">60\n",
        ">```\n",
        "\n",
        "What the angle between 2 vectors $\\mathbf{a}$ and $\\mathbf{b}$ is $90^{\\circ}$, we say that the two vectors are perpendicular to each other, or $\\mathbf{a}$ is perpendicular to $\\mathbf{b}$. Find a vector that is perpendicular to $\\left(\\begin{array}{c}\n",
        "3\\\\\n",
        "-1\\\\\n",
        "1\n",
        "\\end{array}\\right)$ and verify it. Hint: $\\cos 90^{\\circ}=0$. What does this tell us about the dot product?"
      ]
    },
    {
      "cell_type": "code",
      "execution_count": null,
      "metadata": {
        "id": "K9zU6jI5MvwV"
      },
      "outputs": [],
      "source": [
        "#DO NOT DELETE THE IMPORT\n",
        "#you can find the cosine inverse of a number x (in radians) -by using the expression math.acos(x)\n",
        "import math\n",
        "\n",
        "#YOUR CODE HERE"
      ]
    },
    {
      "cell_type": "markdown",
      "metadata": {
        "id": "rXHaLKYdMvwV"
      },
      "source": [
        "## Exercise 4.4 Length of Projection of a Vector onto another Vector\n",
        "\n",
        "Let $\\mathbf{a}$, $\\mathbf{b}$ be vectors and $\\theta$ is the acute angle between the vectors.  The **length of projection** of $\\mathbf{a}$ onto $\\mathbf{b}$ is defined as $$\\left|\\mathbf{a}\\right|\\cos\\theta=\\frac{\\left|\\mathbf{a}\\cdot\\mathbf{b}\\right|}{\\left|\\mathbf{b}\\right|}=\\left|\\mathbf{a}\\cdot\\mathbf{\\hat{b}}\\right|.$$\n",
        "\n",
        "Write a function named `length_of_proj` that:\n",
        "- takes in 2 tuples `(x1,y1,z1)`, `(x2,y2,z2)` as parameters. Obviously, these tuples represent 3D vectors (not points!).\n",
        "- return the length of projection of the first vector on the 2nd vector in the parameter.\n",
        "\n",
        "Example interaction:\n",
        "\n",
        ">```python\n",
        ">a = (2, 1, 2)\n",
        ">b = (-2, -2, 4)\n",
        ">length_of_proj(a, b)\n",
        ">0.666666667\n",
        ">length_of_proj(b, a)\n",
        ">0.40824829\n",
        ">```"
      ]
    },
    {
      "cell_type": "code",
      "execution_count": null,
      "metadata": {
        "id": "LGTSvGPZMvwW"
      },
      "outputs": [],
      "source": [
        "#YOUR CODE HERE"
      ]
    },
    {
      "cell_type": "markdown",
      "metadata": {
        "id": "nWWNtcNdMvwW"
      },
      "source": [
        "## Exercise 4.5 Cartesian Equation of a Plane in 3D Space\n",
        "\n",
        "The geometric interpretation of $\\left(\\begin{array}{c}\n",
        "a_{1}\\\\\n",
        "a_{2}\\\\\n",
        "a_{3}\n",
        "\\end{array}\\right)\\times\\left(\\begin{array}{c}\n",
        "b_{1}\\\\\n",
        "b_{2}\\\\\n",
        "b_{3}\n",
        "\\end{array}\\right)$, the cross product of vectors $\\left(\\begin{array}{c}\n",
        "a_{1}\\\\\n",
        "a_{2}\\\\\n",
        "a_{3}\n",
        "\\end{array}\\right)$ and $\\left(\\begin{array}{c}\n",
        "b_{1}\\\\\n",
        "b_{2}\\\\\n",
        "b_{3}\n",
        "\\end{array}\\right)$, is a vector that is perpendicular to both the vectors $\\left(\\begin{array}{c}\n",
        "a_{1}\\\\\n",
        "a_{2}\\\\\n",
        "a_{3}\n",
        "\\end{array}\\right)$ and $\\left(\\begin{array}{c}\n",
        "b_{1}\\\\\n",
        "b_{2}\\\\\n",
        "b_{3}\n",
        "\\end{array}\\right)$.\n",
        "\n",
        "A plane in 3D space can be characterised by any vector $\\mathbf{n}$ that is perpendicular to the plane, termed a **normal vector**.\n",
        "\n",
        "If the point $P$ is an **arbitrary** point with coordinates $(x,y,z)$ on the plane and $A$ with coordinates $(a_1,a_2,a_3)$ is a **known** point on the plane,then the vector $\\overrightarrow{AP}$ must be perpendicular to a normal vector $\\mathbf{n}$ to the plane . Consequently,\n",
        "\n",
        "$$\\begin{align*}\n",
        "\\overrightarrow{AP}\\cdot\\mathbf{n}\t&=&0\\\\\n",
        "\\left(\\overrightarrow{OP}-\\overrightarrow{OA}\\right)\\cdot\\mathbf{n}\t&=&0\\\\\n",
        "\\overrightarrow{OP}\\cdot\\mathbf{n}-\\overrightarrow{OA}\\cdot\\mathbf{n}\t&=&0\\\\\n",
        "\\overrightarrow{OP}\\cdot\\mathbf{n}\t&=&\\overrightarrow{OA}\\cdot\\mathbf{n}\\\\\n",
        "\\end{align*}$$\n",
        "\n",
        "where $\\overrightarrow{OP}=\\left(\\begin{array}{c}\n",
        "x\\\\\n",
        "y\\\\\n",
        "z\n",
        "\\end{array}\\right)$ and $\\overrightarrow{OA}=\\left(\\begin{array}{c}\n",
        "a_{1}\\\\\n",
        "a_{2}\\\\\n",
        "a_{3}\n",
        "\\end{array}\\right)$ are position vectors of the points $P$ and $A$ respectively. If $\\mathbf{n}=\\left(\\begin{array}{c}\n",
        "n_{1}\\\\\n",
        "n_{2}\\\\\n",
        "n_{3}\n",
        "\\end{array}\\right)$, the above equation reduces to $$n_1 x+n_2 y+n_3 z=\\overrightarrow{OA}\\cdot\\mathbf{n}.$$\n",
        "\n",
        "Write a function named `plane_equation` that:\n",
        "- takes in 3 tuples `(x1, y1, z1)`, `(x2, y2, z2)`, `(x3, y3, z3)` as parameters. These tuples represent **points** on the plane.\n",
        "- return the cartesian equation of the plane that contains the 3 points.\n",
        "\n",
        "Example interaction:\n",
        "\n",
        ">```python\n",
        ">c = (0, 1, 1)\n",
        ">d = (-2, 1, 3)\n",
        ">e = (2, 0, 1)\n",
        ">plane_equation(c, d, e)\n",
        ">The plane that passes the 3 supplied points has the cartesian form : 2x + 4y + 2z = 6.\n",
        ">```"
      ]
    },
    {
      "cell_type": "code",
      "execution_count": null,
      "metadata": {
        "id": "HiD5GFeVMvwX"
      },
      "outputs": [],
      "source": [
        "#YOUR CODE HERE"
      ]
    },
    {
      "cell_type": "markdown",
      "metadata": {
        "id": "QCaVTfwyMvwX"
      },
      "source": [
        "## Exercise 4.6 Gradient of Secant Lines.\n",
        "\n",
        "A mathematical function $f(x)$ has a **rule** associated with it that tells how to map the element $x$, e.g., for the function $f(x)=x^2$, $x^2$ is the rule, for $g(x)=e^x+\\sin(x)$, $e^x+\\sin(x)$ is the rule.\n",
        "\n",
        "In mathematics, we can represent a mathematical function $f(x)$ as a curve using cartesian coordinates system. The points on the curve are of the form $\\left( a, f(a)\\right)$.\n",
        "\n",
        "A **gradient of a straight line** passing through 2 distinct points $\\left(x_1,y_1\\right)$ and $\\left(x_2,y_2\\right)$ where $y_1 \\neq y_2$ is defined as the ratio of the difference of $y$-coordinates to the $x$-coordinates of the two points, i.e., $$\\frac{y_2-y_1}{x_2-x_1}$$\n",
        "\n",
        "A **secant line of a curve** is a straight line that passes through 2 distinct points $\\left(a,f(a)\\right)$ and $\\left(b,f(b)\\right)$ on the curve $y=f\\left(x\\right)$.\n",
        "\n",
        "Write a program that:\n",
        "- implements a function `gradient` that:\n",
        "    - accept 2 parameters, tuple `(x1, y1)` and `(x2, y2)`, that each represents the points $(x_1, y_1)$ and $(x_2, y_2)$,\n",
        "    - return the gradient of the straight line passing through the points $(x_1, y_1)$ and $(x_2, y_2)$.\n",
        "- implements a function `gradient_secant` that:\n",
        "    - accept 2 parameters, a float `x_point1` and a positive float `x_difference`.\n",
        "    - return the value of the gradient of the secant line that passes through the points on the curve $y=x^2+5x$ with $x$-values being `x_point` and `x_point + x_difference`\n",
        "- print out the value of gradient of the secant lines of the curve $y=x^2+5x$ at $x=-5,-2,0,1,3$ with `x_difference` being $1,0.1,0.01,0.001,0.0001$ respectively. (So for each values of $x$ there's 5 of such secant lines)\n",
        "\n",
        "Example interaction:\n",
        ">```python\n",
        ">gradient((5, 1), (2, 5))\n",
        ">-1.3333333333333\n",
        ">gradient_secant(5, 0.01)\n",
        ">15.01\n",
        ">```\n",
        "\n",
        "What do you observe about the values of the gradients of the secant lines in relation to the value of `x_difference`?"
      ]
    },
    {
      "cell_type": "code",
      "execution_count": null,
      "metadata": {
        "id": "tYYz5UniMvwY"
      },
      "outputs": [],
      "source": [
        "#YOUR CODE HERE"
      ]
    },
    {
      "cell_type": "markdown",
      "metadata": {
        "id": "yMrz4gr8MvwY"
      },
      "source": [
        "## Exercise 4.7\n",
        "\n",
        "Write a function that takes in a positive integer $n$, and prints the numbers from $n$ to $0$ (in descending order).\n",
        "Example interaction:\n",
        "\n",
        ">```python\n",
        ">your_function(3)\n",
        ">3\n",
        ">2\n",
        ">1\n",
        ">0\n",
        ">```"
      ]
    },
    {
      "cell_type": "code",
      "execution_count": null,
      "metadata": {
        "id": "0Dj314_9MvwY"
      },
      "outputs": [],
      "source": [
        "#YOUR CODE HERE"
      ]
    },
    {
      "cell_type": "markdown",
      "metadata": {
        "id": "EwsaGZm_MvwY"
      },
      "source": [
        "## Exercise 4.8\n",
        "\n",
        "Without using the `**` operator, write a function that takes in 2 inputs:\n",
        "1. a base integer, $x$, and\n",
        "2. an integer exponent $n$, and\n",
        "then returns the value $x^n$. You may not import the `math` module, and you may not use the built-in `pow()` function.\n",
        "\n",
        ">```python\n",
        ">your_function(3,2)\n",
        ">9\n",
        ">```"
      ]
    },
    {
      "cell_type": "code",
      "execution_count": null,
      "metadata": {
        "id": "094BOsdZMvwZ"
      },
      "outputs": [],
      "source": [
        "#YOUR CODE HERE"
      ]
    },
    {
      "cell_type": "markdown",
      "metadata": {
        "id": "saVMW66BMvwZ"
      },
      "source": [
        "## Exercise 4.9\n",
        "\n",
        "Write a function that takes in a positive integer $n$, and returns the number of digits in $n$. You may not use the built-in `str()` function.\n",
        "\n",
        ">```python\n",
        ">your_function(`12345678910`)\n",
        ">11\n",
        ">```"
      ]
    },
    {
      "cell_type": "code",
      "execution_count": null,
      "metadata": {
        "id": "6SefohcvMvwZ"
      },
      "outputs": [],
      "source": [
        "#YOUR CODE HERE"
      ]
    },
    {
      "cell_type": "markdown",
      "metadata": {
        "id": "vevU5QytMvwa"
      },
      "source": [
        "## Exercise 4.10\n",
        "\n",
        "Write a function that takes in a string, `s`, and returns a reversed copy of `s`. The only string operation you are allowed to use is string concatenation.\n",
        "\n",
        ">```python\n",
        ">your_function(`CJN`)\n",
        ">NJC\n",
        ">```"
      ]
    },
    {
      "cell_type": "code",
      "execution_count": null,
      "metadata": {
        "id": "uR-zNeJdMvwa"
      },
      "outputs": [],
      "source": [
        "#YOUR CODE HERE"
      ]
    },
    {
      "cell_type": "markdown",
      "metadata": {
        "id": "iemwa_DxMvwb"
      },
      "source": [
        "## Exercise 4.11\n",
        "\n",
        "Write a function that takes in a list of integers and returns the sum of the integers in that list. You may not import the `math` module, and you may not use the `sum()` built-in function.\n",
        "\n",
        ">```python\n",
        ">your_function([1,2,3])\n",
        ">6\n",
        ">```"
      ]
    },
    {
      "cell_type": "code",
      "execution_count": null,
      "metadata": {
        "id": "8Vef2ij1Mvwb"
      },
      "outputs": [],
      "source": [
        "#YOUR CODE HERE"
      ]
    },
    {
      "cell_type": "markdown",
      "metadata": {
        "id": "Dy9NaoJlMvwb"
      },
      "source": [
        "## Exercise 4.12\n",
        "\n",
        "Write a function that takes in a list of real numbers and returns the mean of all the values in the list. You may not import the math module, and you may not use the `sum()` built-in function.\n",
        "\n",
        ">```python\n",
        ">your_function([1,2,3])\n",
        ">2\n",
        ">```"
      ]
    },
    {
      "cell_type": "code",
      "execution_count": null,
      "metadata": {
        "id": "nduZuLHdMvwc"
      },
      "outputs": [],
      "source": [
        "#YOUR CODE HERE"
      ]
    },
    {
      "cell_type": "markdown",
      "metadata": {
        "id": "4g6kNnldMvwc"
      },
      "source": [
        "## Exercise 4.13\n",
        "\n",
        "Write a function that takes in a list of real numbers and returns the minimum value from that list. You may not use the built-in `min()` and `sorted()` functions, and you may not use the `list.sort()` method.\n",
        "\n",
        ">```python\n",
        ">your_function([1,2,3])\n",
        ">1\n",
        ">```"
      ]
    },
    {
      "cell_type": "code",
      "execution_count": null,
      "metadata": {
        "id": "y6-w1S8kMvwc"
      },
      "outputs": [],
      "source": [
        "#YOUR CODE HERE"
      ]
    },
    {
      "cell_type": "markdown",
      "metadata": {
        "id": "M-vcVcm5Mvwd"
      },
      "source": [
        "## Exercise 4.14\n",
        "\n",
        "Write two functions, one iterative and another recursive, where each of the function takes in a positive integer, $n$, and returns `True` if $n$ is a prime number and `False` if it's not.\n",
        "\n",
        "**Example Interaction**\n",
        ">```python\n",
        ">your_function(7)\n",
        ">True\n",
        ">your_function(9)\n",
        ">False\n",
        ">```"
      ]
    },
    {
      "cell_type": "code",
      "execution_count": null,
      "metadata": {
        "id": "SUdkKDvIMvwd"
      },
      "outputs": [],
      "source": [
        "#YOUR CODE HERE"
      ]
    },
    {
      "cell_type": "markdown",
      "metadata": {
        "id": "dBbq4AsiMvwd"
      },
      "source": [
        "## Exercise 4.15\n",
        "\n",
        "Write two functions, one iterative and another recursive, where each of the function takes in a positive integer $n$, and prints outs the digits in English word form. For example, when given as input: `3214`, the function should print: `three two one four` in one line.\n",
        "\n",
        "**Example Interaction**\n",
        ">```python\n",
        ">your_function(3214)\n",
        ">three two one four\n",
        ">```"
      ]
    },
    {
      "cell_type": "code",
      "execution_count": null,
      "metadata": {
        "id": "3uPLL1FIMvwd"
      },
      "outputs": [],
      "source": [
        "#YOUR CODE HERE\n",
        "funcction()"
      ]
    },
    {
      "cell_type": "markdown",
      "metadata": {
        "id": "YLzhzqV2Mvwe"
      },
      "source": [
        "## Exercise 4.16\n",
        "\n",
        "There are 5 usernames with their respective password.\n",
        "* user1: password1\n",
        "* user2: password2\n",
        "* user3: password3\n",
        "\n",
        "Implement a script such that:\n",
        "\n",
        "1. Use a suitable data structure to store usernames and passwords,\n",
        "2. User enters username and password\n",
        "3. Check user username and password\n",
        "    * If username does not exists, print \"User not found\"\n",
        "    * if username exists, but password doesn't match, print \"Wrong password\"\n",
        "    * If both username and password match, print \"You are in\"\n",
        "\n",
        "\n",
        "**Example Interaction**\n",
        ">```text\n",
        ">Enter username: user10\n",
        ">Enter password: pass10\n",
        ">User not found\n",
        ">\n",
        ">Enter username: user1\n",
        ">Enter password: pass1\n",
        ">Wrong password\n",
        ">\n",
        ">Enter username: user1\n",
        ">Enter password: password1\n",
        ">You are in\n",
        ">```"
      ]
    },
    {
      "cell_type": "code",
      "execution_count": 4,
      "metadata": {
        "id": "UbgYva7xMvwe",
        "outputId": "18526413-8b42-4877-c494-622113fd3690",
        "colab": {
          "base_uri": "https://localhost:8080/",
          "height": 443
        }
      },
      "outputs": [
        {
          "output_type": "stream",
          "name": "stdout",
          "text": [
            "input ur username monkeyuser\n",
            "user not found\n",
            "input ur username monkeyuser1\n",
            "input password: 123\n",
            "wrong password\n"
          ]
        },
        {
          "output_type": "error",
          "ename": "KeyboardInterrupt",
          "evalue": "Interrupted by user",
          "traceback": [
            "\u001b[0;31m---------------------------------------------------------------------------\u001b[0m",
            "\u001b[0;31mKeyboardInterrupt\u001b[0m                         Traceback (most recent call last)",
            "\u001b[0;32m<ipython-input-4-380e00da9a11>\u001b[0m in \u001b[0;36m<cell line: 0>\u001b[0;34m()\u001b[0m\n\u001b[1;32m      6\u001b[0m              'user5':'pass5'}\n\u001b[1;32m      7\u001b[0m \u001b[0;32mwhile\u001b[0m \u001b[0;32mTrue\u001b[0m\u001b[0;34m:\u001b[0m\u001b[0;34m\u001b[0m\u001b[0;34m\u001b[0m\u001b[0m\n\u001b[0;32m----> 8\u001b[0;31m   \u001b[0muser\u001b[0m \u001b[0;34m=\u001b[0m \u001b[0minput\u001b[0m\u001b[0;34m(\u001b[0m\u001b[0;34m'input ur username monkey'\u001b[0m\u001b[0;34m)\u001b[0m\u001b[0;34m\u001b[0m\u001b[0;34m\u001b[0m\u001b[0m\n\u001b[0m\u001b[1;32m      9\u001b[0m   \u001b[0;32mif\u001b[0m \u001b[0muser\u001b[0m \u001b[0;32min\u001b[0m \u001b[0mdict_name\u001b[0m\u001b[0;34m:\u001b[0m\u001b[0;34m\u001b[0m\u001b[0;34m\u001b[0m\u001b[0m\n\u001b[1;32m     10\u001b[0m     \u001b[0;32mif\u001b[0m \u001b[0minput\u001b[0m\u001b[0;34m(\u001b[0m\u001b[0;34m'input password: '\u001b[0m\u001b[0;34m)\u001b[0m \u001b[0;34m==\u001b[0m \u001b[0mdict_name\u001b[0m\u001b[0;34m[\u001b[0m\u001b[0muser\u001b[0m\u001b[0;34m]\u001b[0m\u001b[0;34m:\u001b[0m\u001b[0;34m\u001b[0m\u001b[0;34m\u001b[0m\u001b[0m\n",
            "\u001b[0;32m/usr/local/lib/python3.11/dist-packages/ipykernel/kernelbase.py\u001b[0m in \u001b[0;36mraw_input\u001b[0;34m(self, prompt)\u001b[0m\n\u001b[1;32m   1175\u001b[0m                 \u001b[0;34m\"raw_input was called, but this frontend does not support input requests.\"\u001b[0m\u001b[0;34m\u001b[0m\u001b[0;34m\u001b[0m\u001b[0m\n\u001b[1;32m   1176\u001b[0m             )\n\u001b[0;32m-> 1177\u001b[0;31m         return self._input_request(\n\u001b[0m\u001b[1;32m   1178\u001b[0m             \u001b[0mstr\u001b[0m\u001b[0;34m(\u001b[0m\u001b[0mprompt\u001b[0m\u001b[0;34m)\u001b[0m\u001b[0;34m,\u001b[0m\u001b[0;34m\u001b[0m\u001b[0;34m\u001b[0m\u001b[0m\n\u001b[1;32m   1179\u001b[0m             \u001b[0mself\u001b[0m\u001b[0;34m.\u001b[0m\u001b[0m_parent_ident\u001b[0m\u001b[0;34m[\u001b[0m\u001b[0;34m\"shell\"\u001b[0m\u001b[0;34m]\u001b[0m\u001b[0;34m,\u001b[0m\u001b[0;34m\u001b[0m\u001b[0;34m\u001b[0m\u001b[0m\n",
            "\u001b[0;32m/usr/local/lib/python3.11/dist-packages/ipykernel/kernelbase.py\u001b[0m in \u001b[0;36m_input_request\u001b[0;34m(self, prompt, ident, parent, password)\u001b[0m\n\u001b[1;32m   1217\u001b[0m             \u001b[0;32mexcept\u001b[0m \u001b[0mKeyboardInterrupt\u001b[0m\u001b[0;34m:\u001b[0m\u001b[0;34m\u001b[0m\u001b[0;34m\u001b[0m\u001b[0m\n\u001b[1;32m   1218\u001b[0m                 \u001b[0;31m# re-raise KeyboardInterrupt, to truncate traceback\u001b[0m\u001b[0;34m\u001b[0m\u001b[0;34m\u001b[0m\u001b[0m\n\u001b[0;32m-> 1219\u001b[0;31m                 \u001b[0;32mraise\u001b[0m \u001b[0mKeyboardInterrupt\u001b[0m\u001b[0;34m(\u001b[0m\u001b[0;34m\"Interrupted by user\"\u001b[0m\u001b[0;34m)\u001b[0m \u001b[0;32mfrom\u001b[0m \u001b[0;32mNone\u001b[0m\u001b[0;34m\u001b[0m\u001b[0;34m\u001b[0m\u001b[0m\n\u001b[0m\u001b[1;32m   1220\u001b[0m             \u001b[0;32mexcept\u001b[0m \u001b[0mException\u001b[0m\u001b[0;34m:\u001b[0m\u001b[0;34m\u001b[0m\u001b[0;34m\u001b[0m\u001b[0m\n\u001b[1;32m   1221\u001b[0m                 \u001b[0mself\u001b[0m\u001b[0;34m.\u001b[0m\u001b[0mlog\u001b[0m\u001b[0;34m.\u001b[0m\u001b[0mwarning\u001b[0m\u001b[0;34m(\u001b[0m\u001b[0;34m\"Invalid Message:\"\u001b[0m\u001b[0;34m,\u001b[0m \u001b[0mexc_info\u001b[0m\u001b[0;34m=\u001b[0m\u001b[0;32mTrue\u001b[0m\u001b[0;34m)\u001b[0m\u001b[0;34m\u001b[0m\u001b[0;34m\u001b[0m\u001b[0m\n",
            "\u001b[0;31mKeyboardInterrupt\u001b[0m: Interrupted by user"
          ]
        }
      ],
      "source": [
        "#YOUR CODE HERE\n",
        "dict_name = {\"user1\":\"pass1\",\n",
        "             \"user2\":\"pass2\",\n",
        "             'user3':'pass3',\n",
        "             'user4':'pass4',\n",
        "             'user5':'pass5'}\n",
        "while True:\n",
        "  user = input('input ur username monkey')\n",
        "  if user in dict_name:\n",
        "    if input('input password: ') == dict_name[user]:\n",
        "      print('you are in ')\n",
        "      break\n",
        "    else:\n",
        "      print('wrong password')\n",
        "  else:\n",
        "    print('user not found')"
      ]
    },
    {
      "cell_type": "markdown",
      "metadata": {
        "id": "kkqwZplbMvwe"
      },
      "source": [
        "## Exercise 4.17\n",
        "\n",
        "The winning number of Toto this week is `7, 20, 29, 41, 47, 49`. Implement a script to help user check result.\n",
        "* Define a function `match_count(win_nums, your_nums)` which returns the number of matched numbers. It takes in 2 lists as parameters, `win_nums` and `your_num`. The `winning_nums` contains winnning numbers, and `your_nums` contains number enters by user.\n",
        "* Ask user to input a list of numbers separated by space ` `.\n",
        "\n",
        "You probably need to use the `str.split()` method for this question. Use `help(str.split)` or search online.\n",
        "\n",
        "**Example Interaction**\n",
        ">```text\n",
        ">Enter your Toto numbers separated by space:\n",
        ">1 7 20 29 41 47 49 50\n",
        ">Count of matched numbers:  6\n",
        ">```"
      ]
    },
    {
      "cell_type": "code",
      "execution_count": null,
      "metadata": {
        "id": "p4XZrXVcMvwe"
      },
      "outputs": [],
      "source": [
        "#YOUR CODE HERE\n",
        "win_nums ="
      ]
    },
    {
      "cell_type": "markdown",
      "metadata": {
        "id": "V-EQly6DMvwe"
      },
      "source": [
        "## Exercise 4.18 Greatest Common Divisor\n",
        "\n",
        "Let $a$ be an integer. A **divisor** of $a$, also called a **factor** of $a$ is an integer $r$ such that there exists an integer $m$ such that $mr=a$. For example, if $a=20$, then $2$ and $5$ are both divisors of $a$ as $2\\times 10=20$ and $5 \\times 4=20$.\n",
        "\n",
        "Write a function that takes in a positive integer $n$, and return a list of all positive integers that is the divisor of $n$.\n",
        "\n",
        "**Example Interaction**\n",
        ">```python\n",
        ">your_function(20)\n",
        ">[1, 2, 4, 5, 10, 20]\n",
        ">```\n",
        "\n",
        "Let $a$ and $b$ be positive integers. A **common divisor** of $a$ and $b$ is a positive integer $r$ such that there exists positive integers $m_1,m_2$ such that $a=m_1*r$ and $b=m_2*r$. The highest of such integer is called the **greatest of common divisor of $a$ and $b$**, denoted as $\\gcd(a,b)$.\n",
        "\n",
        "Using the function you have defined previously, Write a function `gcd` that takes in 2 positive integer $a$ and $b$, and return the greatest common divisor of $a$ and $b$.\n",
        "\n",
        "**Example Interaction**\n",
        ">```python\n",
        ">gcd(4,10)\n",
        ">2\n",
        ">```"
      ]
    },
    {
      "cell_type": "code",
      "execution_count": null,
      "metadata": {
        "id": "h_sXRN5YMvwf"
      },
      "outputs": [],
      "source": [
        "#YOUR CODE HERE"
      ]
    },
    {
      "cell_type": "markdown",
      "metadata": {
        "id": "_SoULpitMvwf"
      },
      "source": [
        "## Exercise 4.19 Euclidean Algorithm\n",
        "\n",
        "A more efficient method to compute the greatest common divisor of two integers $a$ and $b$ is by using the Euclidean algorithm. It is based on the principle that the greatest common divisor of two numbers does not change if the larger number is replaced by its difference with the smaller number. For example,\n",
        "\n",
        "$$\n",
        "\\begin{align*}\n",
        "\\gcd(252,105)&=21\\\\\n",
        "&=\\gcd(252-2(105)=42,105)\\\\\n",
        "&=\\gcd(42,105-2(42)=21)\\\\\n",
        "&=\\gcd(42,21)\n",
        "\\end{align*}\n",
        "$$\n",
        "\n",
        "In particular, assume $a>b$, then by Division Algorithm, there exists $q\\in \\mathbb{Z}$ such that $a=qb+r$, where $0\\leq r<b$. Then,\n",
        "$$\n",
        "\\begin{align*}\n",
        "\\gcd(a,b)&=\\gcd(a-qb,b)\\\\\n",
        "&=\\gcd(r,b).\n",
        "\\end{align*}\n",
        "$$\n",
        "\n",
        "Write two functions, one iterative and another recursive, where each of the function takes in 2 positive integer $a$ and $b$, and return the greatest common divisor of $a$ and $b$.\n",
        "\n",
        "**Example Interaction**\n",
        ">```python\n",
        ">your_function(4,10)\n",
        ">2\n",
        ">```"
      ]
    },
    {
      "cell_type": "code",
      "execution_count": null,
      "metadata": {
        "id": "3YsBmv76Mvwf"
      },
      "outputs": [],
      "source": [
        "#YOUR CODE HERE"
      ]
    },
    {
      "cell_type": "markdown",
      "metadata": {
        "id": "5JHS04OyMvwl"
      },
      "source": [
        "## Exercise 4.20\n",
        "Write a function that takes in a list of positive integers, $N$, and returns the greatest common divisor (i.e., the highest common factor) of all integers in $N$."
      ]
    },
    {
      "cell_type": "code",
      "execution_count": null,
      "metadata": {
        "id": "itPEslKMMvwl"
      },
      "outputs": [],
      "source": [
        "#YOUR CODE HERE"
      ]
    }
  ],
  "metadata": {
    "kernelspec": {
      "display_name": "Python 3",
      "language": "python",
      "name": "python3"
    },
    "language_info": {
      "codemirror_mode": {
        "name": "ipython",
        "version": 3
      },
      "file_extension": ".py",
      "mimetype": "text/x-python",
      "name": "python",
      "nbconvert_exporter": "python",
      "pygments_lexer": "ipython3",
      "version": "3.10.2"
    },
    "orig_nbformat": 2,
    "vscode": {
      "interpreter": {
        "hash": "a42ccb73e7d9bfdf27e036f1d2b8b681e55fc0743cc5586bc2474d4a60f4b886"
      }
    },
    "colab": {
      "provenance": []
    }
  },
  "nbformat": 4,
  "nbformat_minor": 0
}