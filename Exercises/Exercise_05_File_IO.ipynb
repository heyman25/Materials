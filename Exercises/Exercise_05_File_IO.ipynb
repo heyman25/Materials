{
 "cells": [
  {
   "attachments": {},
   "cell_type": "markdown",
   "metadata": {},
   "source": [
    "# Exercise 5\n",
    "\n",
    "Related Notes:\n",
    "- Chapter_05_File_IO\n",
    "\n",
    "[![Open In Colab](https://colab.research.google.com/assets/colab-badge.svg)](https://colab.research.google.com/github/njc-cz2-2021/Materials/blob/main/Exercises/Exercise_05_File_IO.ipynb) "
   ]
  },
  {
   "cell_type": "markdown",
   "metadata": {},
   "source": [
    "## Exercise 5.1\n",
    "\n",
    "Write following list `s` into a text file `q1.txt` with each item occupying 1 line.\n",
    "\n",
    ">``` python\n",
    ">s = [chr(i) + '.txt' for i in range(ord('A'), ord('F'))]\n",
    ">```\n",
    "\n",
    "Use following command in Jupyter Notebook to open `q1.txt` to verify the content in the file.\n",
    "\n",
    ">`!notepad q1.txt`"
   ]
  },
  {
   "cell_type": "code",
   "execution_count": 1,
   "metadata": {},
   "outputs": [],
   "source": [
    "#YOUR_CODE_HERE\n",
    "!notepad q1.txt\n",
    "s = [chr(i) + '.txt' for i in range(ord('A'), ord('F'))]\n",
    "with open('q1.txt','a') as f:\n",
    "    for i in range(len(s)):\n",
    "        f.write(f'{s[i]}\\n')"
   ]
  },
  {
   "cell_type": "markdown",
   "metadata": {},
   "source": [
    "## Exercise 5.2\n",
    "\n",
    "For each line of text in `q1.txt`, generate an empty text file and name the file using that line of text. If file already exists, remove it before generating a new file. \n",
    "\n",
    "Use the following code to check if a file exists.\n",
    "\n",
    ">``` python\n",
    ">import os\n",
    ">if os.path.exists(file_path): pass\n",
    ">```\n",
    "\n",
    "Use following command in Jupyter Notebook to confirm that you have generated all files.\n",
    "\n",
    ">``` bash\n",
    ">!ls *.txt\n",
    ">```"
   ]
  },
  {
   "cell_type": "code",
   "execution_count": null,
   "metadata": {},
   "outputs": [],
   "source": [
    "#YOUR_CODE_HERE\n",
    "import os \n",
    "with open('q1.txt',r):\n",
    "    "
   ]
  },
  {
   "cell_type": "markdown",
   "metadata": {},
   "source": [
    "## Exercise 5.3\n",
    "\n",
    "Write code to generate all the positive integers up to $n$ that are perfect squares and save them in a text file called `PERFECT_SQUARES.TXT`. Note that each line within the file should contain one integer, and the last character within the file should be an end line character."
   ]
  },
  {
   "cell_type": "code",
   "execution_count": null,
   "metadata": {},
   "outputs": [],
   "source": [
    "#YOUR_CODE_HERE"
   ]
  },
  {
   "cell_type": "markdown",
   "metadata": {},
   "source": [
    "## Exercise 5.4\n",
    "\n",
    "Write code to generate all the positive integers from $n + 1$ to $n + m$, and then append them to the file used in question 1. (Note, do not overwrite the perfect squares from Question 1.) "
   ]
  },
  {
   "cell_type": "code",
   "execution_count": null,
   "metadata": {},
   "outputs": [],
   "source": [
    "#YOUR_CODE_HERE"
   ]
  },
  {
   "cell_type": "markdown",
   "metadata": {},
   "source": [
    "## Exercise 5.5\n",
    "\n",
    "A log of a certain boss fight from a certain game is stored inside the file `log_ex8.csv` under the folder `resources`. The csv file contains the following header.\n",
    "\n",
    "- `'Parse%'`  refers to the performance of the character relative to all other players in the world,\n",
    "- `'Name'` refers to the name of the character in the game,\n",
    "- `'Amount'`  refers to the amount of damage\n",
    "- `'iLvL'`  refers to the quality of the equipment the character is using,\n",
    "- `'iLvL%'` refers to the performance of the player relative to players with similar quality of equipment,\n",
    "- `'Active Time'` refers to the percentage of time spend by the character doing damage during the fight.\n",
    "- `'DPS'` refers to the amount of damage done per second in the fight.\n",
    "\n",
    "Your task is to:\n",
    "\n",
    "- Store the contents of the csv file into a list `records` where each element in the list is itself a list where the elements correspond to the `Parse%`,`Name`,`Amount`,`iLvL`,`iLvL%`,`Active Time`,`DPS` values for each line in the csv file.\n",
    "- Create an empty list called `player_name`.\n",
    "- iterate over each element of `records` appending the player names to `player_name`.\n",
    "- Print each name in `player_name` in alphabetical order."
   ]
  },
  {
   "cell_type": "code",
   "execution_count": null,
   "metadata": {},
   "outputs": [
    {
     "name": "stdout",
     "output_type": "stream",
     "text": [
      "['\"Parse %\",\"Name\",\"Amount\",\"Ilvl\",\"Ilvl %\",\"Active\",\"DPS\",\"\"', '\"97\",\"WÃ´es\",\"11715922$6.32%11.72m\",\"208\",\"82\",\"95.30%\",\"4,857.4\",\"\"', '\"94\",\"Dewgie\",\"10230823$5.52%10.23m\",\"-\",\"57\",\"92.34%\",\"4,241.7\",\"\"', '\"96\",\"Knoxvegas\",\"9624618$5.19%9.62m\",\"206\",\"77\",\"94.72%\",\"3,990.3\",\"\"', '\"92\",\"Avey\",\"9384888$5.06%9.38m\",\"208\",\"54\",\"95.44%\",\"3,890.9\",\"\"', '\"77\",\"Exolaris\",\"8817948$4.76%8.82m\",\"198\",\"75\",\"96.15%\",\"3,655.9\",\"\"', '\"79\",\"Ovy\",\"8789252$4.74%8.79m\",\"-\",\"89\",\"91.45%\",\"3,644.0\",\"\"', '\"77\",\"Biraprie\",\"8684125$4.69%8.68m\",\"-\",\"75\",\"94.53%\",\"3,600.4\",\"\"', '\"88\",\"Kolhito\",\"8320548$4.49%8.32m\",\"-\",\"76\",\"90.10%\",\"3,449.7\",\"\"', '\"67\",\"Fyrebird\",\"8286557$4.47%8.29m\",\"-\",\"80\",\"96.52%\",\"3,435.6\",\"\"', '\"67\",\"Jari\",\"8179735$4.41%8.18m\",\"-\",\"69\",\"94.69%\",\"3,391.3\",\"\"', '\"69\",\"Anothervc\",\"8178271$4.41%8.18m\",\"-\",\"88\",\"91.36%\",\"3,390.7\",\"\"', '\"73\",\"Stormblast\",\"7797837$4.21%7.80m\",\"191\",\"83\",\"88.15%\",\"3,232.9\",\"\"', '\"64\",\"Spooknspell\",\"7772714$4.19%7.77m\",\"189\",\"91\",\"93.02%\",\"3,222.5\",\"\"', '\"59\",\"Plastral\",\"7730604$4.17%7.73m\",\"-\",\"74\",\"95.92%\",\"3,205.1\",\"\"', '\"56\",\"Gdook\",\"7440492$4.01%7.44m\",\"-\",\"77\",\"92.70%\",\"3,084.8\",\"\"', '\"51\",\"Gamheals\",\"7360518$3.97%7.36m\",\"185\",\"87\",\"94.38%\",\"3,051.6\",\"\"', '\"79\",\"Darkietank\",\"6684326$3.61%6.68m\",\"195\",\"84\",\"77.89%\",\"2,771.3\",\"\"', '\"41\",\"NÃ³mi\",\"6651897$3.59%6.65m\",\"190\",\"68\",\"92.02%\",\"2,757.8\",\"\"', '\"75\",\"Masachi\",\"5996489$3.24%6.00m\",\"-\",\"76\",\"70.75%\",\"2,486.1\",\"\"', '\"89\",\"Synesthetix\",\"5931393$3.20%5.93m\",\"204\",\"70\",\"66.95%\",\"2,459.1\",\"\"', '\"79\",\"Chrissinger\",\"4226622$2.28%4.23m\",\"195\",\"82\",\"76.13%\",\"1,752.3\",\"\"', '\"56\",\"Keipra\",\"4182200$2.26%4.18m\",\"205\",\"37\",\"85.85%\",\"1,733.9\",\"\"', '\"36\",\"Makotoase\",\"2458262$1.33%2.46m\",\"195\",\"37\",\"33.08%\",\"1,019.2\",\"\"', '\"63\",\"Pappaslop\",\"1833722$0.99%1.83m\",\"189\",\"91\",\"22.79%\",\"760.3\",\"\"', '\"95\",\"Masakins\",\"1790230$0.97%1.79m\",\"208\",\"78\",\"16.22%\",\"742.2\",\"\"', '\"95\",\"Ericlock\",\"1757080$0.95%1.76m\",\"210\",\"62\",\"16.21%\",\"728.5\",\"\"', '\"96\",\"Paeldryth\",\"1620012$0.87%1.62m\",\"208\",\"75\",\"15.12%\",\"671.6\",\"\"', '\"40\",\"Haloxd\",\"1388971$0.75%1.39m\",\"-\",\"45\",\"76.79%\",\"575.9\",\"\"', '\"78\",\"Revtide\",\"813127$0.44%813.1k\",\"190\",\"81\",\"63.57%\",\"337.1\",\"\"', '\"76\",\"Chrisfumi\",\"700542$0.38%700.5k\",\"210\",\"31\",\"16.21%\",\"290.4\",\"\"', '\"95\",\"Kieu\",\"449285$0.24%449.3k\",\"205\",\"90\",\"14.95%\",\"186.3\",\"\"', '\"74\",\"Lymos\",\"418728$0.23%418.7k\",\"200\",\"70\",\"29.79%\",\"173.6\",\"\"', '\"52\",\"Angers\",\"106321$0.06%106.3k\",\"189\",\"57\",\"5.53%\",\"44.1\",\"\"']\n",
      "[['\"Parse %\"', '\"Name\"', '\"Amount\"', '\"Ilvl\"', '\"Ilvl %\"', '\"Active\"', '\"DPS\"', '\"\"'], ['\"97\"', '\"WÃ´es\"', '\"11715922$6.32%11.72m\"', '\"208\"', '\"82\"', '\"95.30%\"', '\"4', '857.4\"', '\"\"'], ['\"94\"', '\"Dewgie\"', '\"10230823$5.52%10.23m\"', '\"-\"', '\"57\"', '\"92.34%\"', '\"4', '241.7\"', '\"\"'], ['\"96\"', '\"Knoxvegas\"', '\"9624618$5.19%9.62m\"', '\"206\"', '\"77\"', '\"94.72%\"', '\"3', '990.3\"', '\"\"'], ['\"92\"', '\"Avey\"', '\"9384888$5.06%9.38m\"', '\"208\"', '\"54\"', '\"95.44%\"', '\"3', '890.9\"', '\"\"'], ['\"77\"', '\"Exolaris\"', '\"8817948$4.76%8.82m\"', '\"198\"', '\"75\"', '\"96.15%\"', '\"3', '655.9\"', '\"\"'], ['\"79\"', '\"Ovy\"', '\"8789252$4.74%8.79m\"', '\"-\"', '\"89\"', '\"91.45%\"', '\"3', '644.0\"', '\"\"'], ['\"77\"', '\"Biraprie\"', '\"8684125$4.69%8.68m\"', '\"-\"', '\"75\"', '\"94.53%\"', '\"3', '600.4\"', '\"\"'], ['\"88\"', '\"Kolhito\"', '\"8320548$4.49%8.32m\"', '\"-\"', '\"76\"', '\"90.10%\"', '\"3', '449.7\"', '\"\"'], ['\"67\"', '\"Fyrebird\"', '\"8286557$4.47%8.29m\"', '\"-\"', '\"80\"', '\"96.52%\"', '\"3', '435.6\"', '\"\"'], ['\"67\"', '\"Jari\"', '\"8179735$4.41%8.18m\"', '\"-\"', '\"69\"', '\"94.69%\"', '\"3', '391.3\"', '\"\"'], ['\"69\"', '\"Anothervc\"', '\"8178271$4.41%8.18m\"', '\"-\"', '\"88\"', '\"91.36%\"', '\"3', '390.7\"', '\"\"'], ['\"73\"', '\"Stormblast\"', '\"7797837$4.21%7.80m\"', '\"191\"', '\"83\"', '\"88.15%\"', '\"3', '232.9\"', '\"\"'], ['\"64\"', '\"Spooknspell\"', '\"7772714$4.19%7.77m\"', '\"189\"', '\"91\"', '\"93.02%\"', '\"3', '222.5\"', '\"\"'], ['\"59\"', '\"Plastral\"', '\"7730604$4.17%7.73m\"', '\"-\"', '\"74\"', '\"95.92%\"', '\"3', '205.1\"', '\"\"'], ['\"56\"', '\"Gdook\"', '\"7440492$4.01%7.44m\"', '\"-\"', '\"77\"', '\"92.70%\"', '\"3', '084.8\"', '\"\"'], ['\"51\"', '\"Gamheals\"', '\"7360518$3.97%7.36m\"', '\"185\"', '\"87\"', '\"94.38%\"', '\"3', '051.6\"', '\"\"'], ['\"79\"', '\"Darkietank\"', '\"6684326$3.61%6.68m\"', '\"195\"', '\"84\"', '\"77.89%\"', '\"2', '771.3\"', '\"\"'], ['\"41\"', '\"NÃ³mi\"', '\"6651897$3.59%6.65m\"', '\"190\"', '\"68\"', '\"92.02%\"', '\"2', '757.8\"', '\"\"'], ['\"75\"', '\"Masachi\"', '\"5996489$3.24%6.00m\"', '\"-\"', '\"76\"', '\"70.75%\"', '\"2', '486.1\"', '\"\"'], ['\"89\"', '\"Synesthetix\"', '\"5931393$3.20%5.93m\"', '\"204\"', '\"70\"', '\"66.95%\"', '\"2', '459.1\"', '\"\"'], ['\"79\"', '\"Chrissinger\"', '\"4226622$2.28%4.23m\"', '\"195\"', '\"82\"', '\"76.13%\"', '\"1', '752.3\"', '\"\"'], ['\"56\"', '\"Keipra\"', '\"4182200$2.26%4.18m\"', '\"205\"', '\"37\"', '\"85.85%\"', '\"1', '733.9\"', '\"\"'], ['\"36\"', '\"Makotoase\"', '\"2458262$1.33%2.46m\"', '\"195\"', '\"37\"', '\"33.08%\"', '\"1', '019.2\"', '\"\"'], ['\"63\"', '\"Pappaslop\"', '\"1833722$0.99%1.83m\"', '\"189\"', '\"91\"', '\"22.79%\"', '\"760.3\"', '\"\"'], ['\"95\"', '\"Masakins\"', '\"1790230$0.97%1.79m\"', '\"208\"', '\"78\"', '\"16.22%\"', '\"742.2\"', '\"\"'], ['\"95\"', '\"Ericlock\"', '\"1757080$0.95%1.76m\"', '\"210\"', '\"62\"', '\"16.21%\"', '\"728.5\"', '\"\"'], ['\"96\"', '\"Paeldryth\"', '\"1620012$0.87%1.62m\"', '\"208\"', '\"75\"', '\"15.12%\"', '\"671.6\"', '\"\"'], ['\"40\"', '\"Haloxd\"', '\"1388971$0.75%1.39m\"', '\"-\"', '\"45\"', '\"76.79%\"', '\"575.9\"', '\"\"'], ['\"78\"', '\"Revtide\"', '\"813127$0.44%813.1k\"', '\"190\"', '\"81\"', '\"63.57%\"', '\"337.1\"', '\"\"'], ['\"76\"', '\"Chrisfumi\"', '\"700542$0.38%700.5k\"', '\"210\"', '\"31\"', '\"16.21%\"', '\"290.4\"', '\"\"'], ['\"95\"', '\"Kieu\"', '\"449285$0.24%449.3k\"', '\"205\"', '\"90\"', '\"14.95%\"', '\"186.3\"', '\"\"'], ['\"74\"', '\"Lymos\"', '\"418728$0.23%418.7k\"', '\"200\"', '\"70\"', '\"29.79%\"', '\"173.6\"', '\"\"'], ['\"52\"', '\"Angers\"', '\"106321$0.06%106.3k\"', '\"189\"', '\"57\"', '\"5.53%\"', '\"44.1\"', '\"\"']]\n",
      "['\"WÃ´es\"', '\"Dewgie\"', '\"Knoxvegas\"', '\"Avey\"', '\"Exolaris\"', '\"Ovy\"', '\"Biraprie\"', '\"Kolhito\"', '\"Fyrebird\"', '\"Jari\"', '\"Anothervc\"', '\"Stormblast\"', '\"Spooknspell\"', '\"Plastral\"', '\"Gdook\"', '\"Gamheals\"', '\"Darkietank\"', '\"NÃ³mi\"', '\"Masachi\"', '\"Synesthetix\"', '\"Chrissinger\"', '\"Keipra\"', '\"Makotoase\"', '\"Pappaslop\"', '\"Masakins\"', '\"Ericlock\"', '\"Paeldryth\"', '\"Haloxd\"', '\"Revtide\"', '\"Chrisfumi\"', '\"Kieu\"', '\"Lymos\"', '\"Angers\"']\n"
     ]
    }
   ],
   "source": [
    "#YOUR_CODE_HERE\n",
    "with open('resources/log_ex8.csv','r') as f:\n",
    "    list = f.read()\n",
    "    list = list.split('\\n')\n",
    "print(list)\n",
    "empty_list = []\n",
    "for i in list:\n",
    "    empty_list.append(i.split(','))\n",
    "print(empty_list)\n",
    "player_name = []\n",
    "for i in range(1,len(empty_list)):\n",
    "    player_name.append(empty_list[i][1])\n",
    "player_name=sorted(player_name)\n",
    "  \n",
    "    \n",
    "\n",
    "\n"
   ]
  },
  {
   "cell_type": "markdown",
   "metadata": {},
   "source": [
    "## Exercise 5.6\n",
    "\n",
    "Download the file: https://archive.ics.uci.edu/ml/machine-learning-databases/iris/iris.data\n",
    "\n",
    "Write code to read and store the contents of this comma separated file within a 2D List, $L$, such that $L[i]$ corresponds to the sample entry on the $i$-th line of the file, and $L[i][j]$ corresponds to the $j$-th value of the $i$-th entry.\n",
    "Print the contents of the 2D List to verify that you have stored the contents correctly.\n"
   ]
  },
  {
   "cell_type": "code",
   "execution_count": null,
   "metadata": {},
   "outputs": [
    {
     "name": "stdout",
     "output_type": "stream",
     "text": [
      "[['5.1', '3.5', '1.4', '0.2', 'Iris-setosa'], ['4.9', '3.0', '1.4', '0.2', 'Iris-setosa'], ['4.7', '3.2', '1.3', '0.2', 'Iris-setosa'], ['4.6', '3.1', '1.5', '0.2', 'Iris-setosa'], ['5.0', '3.6', '1.4', '0.2', 'Iris-setosa'], ['5.4', '3.9', '1.7', '0.4', 'Iris-setosa'], ['4.6', '3.4', '1.4', '0.3', 'Iris-setosa'], ['5.0', '3.4', '1.5', '0.2', 'Iris-setosa'], ['4.4', '2.9', '1.4', '0.2', 'Iris-setosa'], ['4.9', '3.1', '1.5', '0.1', 'Iris-setosa'], ['5.4', '3.7', '1.5', '0.2', 'Iris-setosa'], ['4.8', '3.4', '1.6', '0.2', 'Iris-setosa'], ['4.8', '3.0', '1.4', '0.1', 'Iris-setosa'], ['4.3', '3.0', '1.1', '0.1', 'Iris-setosa'], ['5.8', '4.0', '1.2', '0.2', 'Iris-setosa'], ['5.7', '4.4', '1.5', '0.4', 'Iris-setosa'], ['5.4', '3.9', '1.3', '0.4', 'Iris-setosa'], ['5.1', '3.5', '1.4', '0.3', 'Iris-setosa'], ['5.7', '3.8', '1.7', '0.3', 'Iris-setosa'], ['5.1', '3.8', '1.5', '0.3', 'Iris-setosa'], ['5.4', '3.4', '1.7', '0.2', 'Iris-setosa'], ['5.1', '3.7', '1.5', '0.4', 'Iris-setosa'], ['4.6', '3.6', '1.0', '0.2', 'Iris-setosa'], ['5.1', '3.3', '1.7', '0.5', 'Iris-setosa'], ['4.8', '3.4', '1.9', '0.2', 'Iris-setosa'], ['5.0', '3.0', '1.6', '0.2', 'Iris-setosa'], ['5.0', '3.4', '1.6', '0.4', 'Iris-setosa'], ['5.2', '3.5', '1.5', '0.2', 'Iris-setosa'], ['5.2', '3.4', '1.4', '0.2', 'Iris-setosa'], ['4.7', '3.2', '1.6', '0.2', 'Iris-setosa'], ['4.8', '3.1', '1.6', '0.2', 'Iris-setosa'], ['5.4', '3.4', '1.5', '0.4', 'Iris-setosa'], ['5.2', '4.1', '1.5', '0.1', 'Iris-setosa'], ['5.5', '4.2', '1.4', '0.2', 'Iris-setosa'], ['4.9', '3.1', '1.5', '0.1', 'Iris-setosa'], ['5.0', '3.2', '1.2', '0.2', 'Iris-setosa'], ['5.5', '3.5', '1.3', '0.2', 'Iris-setosa'], ['4.9', '3.1', '1.5', '0.1', 'Iris-setosa'], ['4.4', '3.0', '1.3', '0.2', 'Iris-setosa'], ['5.1', '3.4', '1.5', '0.2', 'Iris-setosa'], ['5.0', '3.5', '1.3', '0.3', 'Iris-setosa'], ['4.5', '2.3', '1.3', '0.3', 'Iris-setosa'], ['4.4', '3.2', '1.3', '0.2', 'Iris-setosa'], ['5.0', '3.5', '1.6', '0.6', 'Iris-setosa'], ['5.1', '3.8', '1.9', '0.4', 'Iris-setosa'], ['4.8', '3.0', '1.4', '0.3', 'Iris-setosa'], ['5.1', '3.8', '1.6', '0.2', 'Iris-setosa'], ['4.6', '3.2', '1.4', '0.2', 'Iris-setosa'], ['5.3', '3.7', '1.5', '0.2', 'Iris-setosa'], ['5.0', '3.3', '1.4', '0.2', 'Iris-setosa'], ['7.0', '3.2', '4.7', '1.4', 'Iris-versicolor'], ['6.4', '3.2', '4.5', '1.5', 'Iris-versicolor'], ['6.9', '3.1', '4.9', '1.5', 'Iris-versicolor'], ['5.5', '2.3', '4.0', '1.3', 'Iris-versicolor'], ['6.5', '2.8', '4.6', '1.5', 'Iris-versicolor'], ['5.7', '2.8', '4.5', '1.3', 'Iris-versicolor'], ['6.3', '3.3', '4.7', '1.6', 'Iris-versicolor'], ['4.9', '2.4', '3.3', '1.0', 'Iris-versicolor'], ['6.6', '2.9', '4.6', '1.3', 'Iris-versicolor'], ['5.2', '2.7', '3.9', '1.4', 'Iris-versicolor'], ['5.0', '2.0', '3.5', '1.0', 'Iris-versicolor'], ['5.9', '3.0', '4.2', '1.5', 'Iris-versicolor'], ['6.0', '2.2', '4.0', '1.0', 'Iris-versicolor'], ['6.1', '2.9', '4.7', '1.4', 'Iris-versicolor'], ['5.6', '2.9', '3.6', '1.3', 'Iris-versicolor'], ['6.7', '3.1', '4.4', '1.4', 'Iris-versicolor'], ['5.6', '3.0', '4.5', '1.5', 'Iris-versicolor'], ['5.8', '2.7', '4.1', '1.0', 'Iris-versicolor'], ['6.2', '2.2', '4.5', '1.5', 'Iris-versicolor'], ['5.6', '2.5', '3.9', '1.1', 'Iris-versicolor'], ['5.9', '3.2', '4.8', '1.8', 'Iris-versicolor'], ['6.1', '2.8', '4.0', '1.3', 'Iris-versicolor'], ['6.3', '2.5', '4.9', '1.5', 'Iris-versicolor'], ['6.1', '2.8', '4.7', '1.2', 'Iris-versicolor'], ['6.4', '2.9', '4.3', '1.3', 'Iris-versicolor'], ['6.6', '3.0', '4.4', '1.4', 'Iris-versicolor'], ['6.8', '2.8', '4.8', '1.4', 'Iris-versicolor'], ['6.7', '3.0', '5.0', '1.7', 'Iris-versicolor'], ['6.0', '2.9', '4.5', '1.5', 'Iris-versicolor'], ['5.7', '2.6', '3.5', '1.0', 'Iris-versicolor'], ['5.5', '2.4', '3.8', '1.1', 'Iris-versicolor'], ['5.5', '2.4', '3.7', '1.0', 'Iris-versicolor'], ['5.8', '2.7', '3.9', '1.2', 'Iris-versicolor'], ['6.0', '2.7', '5.1', '1.6', 'Iris-versicolor'], ['5.4', '3.0', '4.5', '1.5', 'Iris-versicolor'], ['6.0', '3.4', '4.5', '1.6', 'Iris-versicolor'], ['6.7', '3.1', '4.7', '1.5', 'Iris-versicolor'], ['6.3', '2.3', '4.4', '1.3', 'Iris-versicolor'], ['5.6', '3.0', '4.1', '1.3', 'Iris-versicolor'], ['5.5', '2.5', '4.0', '1.3', 'Iris-versicolor'], ['5.5', '2.6', '4.4', '1.2', 'Iris-versicolor'], ['6.1', '3.0', '4.6', '1.4', 'Iris-versicolor'], ['5.8', '2.6', '4.0', '1.2', 'Iris-versicolor'], ['5.0', '2.3', '3.3', '1.0', 'Iris-versicolor'], ['5.6', '2.7', '4.2', '1.3', 'Iris-versicolor'], ['5.7', '3.0', '4.2', '1.2', 'Iris-versicolor'], ['5.7', '2.9', '4.2', '1.3', 'Iris-versicolor'], ['6.2', '2.9', '4.3', '1.3', 'Iris-versicolor'], ['5.1', '2.5', '3.0', '1.1', 'Iris-versicolor'], ['5.7', '2.8', '4.1', '1.3', 'Iris-versicolor'], ['6.3', '3.3', '6.0', '2.5', 'Iris-virginica'], ['5.8', '2.7', '5.1', '1.9', 'Iris-virginica'], ['7.1', '3.0', '5.9', '2.1', 'Iris-virginica'], ['6.3', '2.9', '5.6', '1.8', 'Iris-virginica'], ['6.5', '3.0', '5.8', '2.2', 'Iris-virginica'], ['7.6', '3.0', '6.6', '2.1', 'Iris-virginica'], ['4.9', '2.5', '4.5', '1.7', 'Iris-virginica'], ['7.3', '2.9', '6.3', '1.8', 'Iris-virginica'], ['6.7', '2.5', '5.8', '1.8', 'Iris-virginica'], ['7.2', '3.6', '6.1', '2.5', 'Iris-virginica'], ['6.5', '3.2', '5.1', '2.0', 'Iris-virginica'], ['6.4', '2.7', '5.3', '1.9', 'Iris-virginica'], ['6.8', '3.0', '5.5', '2.1', 'Iris-virginica'], ['5.7', '2.5', '5.0', '2.0', 'Iris-virginica'], ['5.8', '2.8', '5.1', '2.4', 'Iris-virginica'], ['6.4', '3.2', '5.3', '2.3', 'Iris-virginica'], ['6.5', '3.0', '5.5', '1.8', 'Iris-virginica'], ['7.7', '3.8', '6.7', '2.2', 'Iris-virginica'], ['7.7', '2.6', '6.9', '2.3', 'Iris-virginica'], ['6.0', '2.2', '5.0', '1.5', 'Iris-virginica'], ['6.9', '3.2', '5.7', '2.3', 'Iris-virginica'], ['5.6', '2.8', '4.9', '2.0', 'Iris-virginica'], ['7.7', '2.8', '6.7', '2.0', 'Iris-virginica'], ['6.3', '2.7', '4.9', '1.8', 'Iris-virginica'], ['6.7', '3.3', '5.7', '2.1', 'Iris-virginica'], ['7.2', '3.2', '6.0', '1.8', 'Iris-virginica'], ['6.2', '2.8', '4.8', '1.8', 'Iris-virginica'], ['6.1', '3.0', '4.9', '1.8', 'Iris-virginica'], ['6.4', '2.8', '5.6', '2.1', 'Iris-virginica'], ['7.2', '3.0', '5.8', '1.6', 'Iris-virginica'], ['7.4', '2.8', '6.1', '1.9', 'Iris-virginica'], ['7.9', '3.8', '6.4', '2.0', 'Iris-virginica'], ['6.4', '2.8', '5.6', '2.2', 'Iris-virginica'], ['6.3', '2.8', '5.1', '1.5', 'Iris-virginica'], ['6.1', '2.6', '5.6', '1.4', 'Iris-virginica'], ['7.7', '3.0', '6.1', '2.3', 'Iris-virginica'], ['6.3', '3.4', '5.6', '2.4', 'Iris-virginica'], ['6.4', '3.1', '5.5', '1.8', 'Iris-virginica'], ['6.0', '3.0', '4.8', '1.8', 'Iris-virginica'], ['6.9', '3.1', '5.4', '2.1', 'Iris-virginica'], ['6.7', '3.1', '5.6', '2.4', 'Iris-virginica'], ['6.9', '3.1', '5.1', '2.3', 'Iris-virginica'], ['5.8', '2.7', '5.1', '1.9', 'Iris-virginica'], ['6.8', '3.2', '5.9', '2.3', 'Iris-virginica'], ['6.7', '3.3', '5.7', '2.5', 'Iris-virginica'], ['6.7', '3.0', '5.2', '2.3', 'Iris-virginica'], ['6.3', '2.5', '5.0', '1.9', 'Iris-virginica'], ['6.5', '3.0', '5.2', '2.0', 'Iris-virginica'], ['6.2', '3.4', '5.4', '2.3', 'Iris-virginica'], ['5.9', '3.0', '5.1', '1.8', 'Iris-virginica'], [''], ['']]\n"
     ]
    }
   ],
   "source": [
    "#YOUR_CODE_HERE\n",
    "with open('resources/IRIS.data','r') as f:\n",
    "    s = f.read()\n",
    "    s = s.split('\\n')\n",
    "L = []\n",
    "for i in s:\n",
    "    L.append(i.split(','))\n",
    "print(L)\n",
    "\n",
    "        \n",
    "    "
   ]
  },
  {
   "cell_type": "markdown",
   "metadata": {},
   "source": [
    "## Exercise 5.7\n",
    "\n",
    "Each line in the file at: http://itu.dk/people/pagh/sad12/primes1000000.txt represents a prime number below 1,000,000.\n",
    " \n",
    "Write a function that uses the above file to test if a given positive integer below 1,000,000 is a prime number. If the given numbers exceeds 1,000,000, then utilise a separate function to calculate if it is a prime. "
   ]
  },
  {
   "cell_type": "code",
   "execution_count": 24,
   "metadata": {},
   "outputs": [
    {
     "name": "stdout",
     "output_type": "stream",
     "text": [
      "False\n"
     ]
    }
   ],
   "source": [
    "#YOUR_CODE_HERE\n",
    "number = int(input('input an integer')) \n",
    "import math\n",
    "def check_prime(n):\n",
    " if n<= 1:\n",
    "    print(False)\n",
    " else:\n",
    "    is_prime = True\n",
    "    for i in range(2, int(math.sqrt(n)) + 1):\n",
    "        if n % i == 0:\n",
    "            is_prime = False\n",
    "            break\n",
    "    print(is_prime)\n",
    "\n",
    "def check_prime_file(n):\n",
    "    n = str(n)\n",
    "    with open('resources/primes1000000.txt','r') as f:\n",
    "        s = f.read()\n",
    "        s = s.split('\\n')\n",
    "        \n",
    "    if n in s:\n",
    "            print(True)\n",
    "    else:\n",
    "            print(False)\n",
    " \n",
    "if number <1000000:\n",
    "    check_prime_file(number)\n",
    "else:\n",
    "    check_prime(number)"
   ]
  },
  {
   "cell_type": "markdown",
   "metadata": {},
   "source": [
    "## Exercise 5.8\n",
    "\n",
    "A mathematical equation $y=f(x)$ can be visualized on a cartesian plane as the set of all the points $(x,y)$ where $y=f(x)$. Write a code that \n",
    "\n",
    "1. generates 100 points that satisfy the equation $y=x^2$ for $-10\\leq x\\leq 10$ (for simplicity, take the uniform spacing for the $x$-values of the points),and\n",
    "2. saves them into a text file named `ex8_8.txt`. Each line in the file is of the form $(x,y)$, \n",
    "3. load the points from `ex8_8.txt` and using the module `matplotlib`, show the plot.\n"
   ]
  },
  {
   "cell_type": "code",
   "execution_count": null,
   "metadata": {},
   "outputs": [],
   "source": [
    "#YOUR_CODE_HERE\n",
    "import matplotlib\n",
    "x_count = -10\n",
    "with open('ex8_8.txt','a') as f:\n",
    "    for i in range(100):\n",
    "        f.write(f'{x_count+(20/100*i)},{(x_count+(20/100*i))**2}')\n",
    "\n",
    "\n",
    "    "
   ]
  },
  {
   "cell_type": "markdown",
   "metadata": {},
   "source": [
    "## Exercise 5.9\n",
    "\n",
    "A text file, `NOI_24_RESULT.txt` contains the results of the medallist recipients for the 24th National Olympiad in Informatics.\n",
    "\n",
    "Write a code to:\n",
    "\n",
    "- read the data from the text file,\n",
    "- store the school name and medal counts in a Python dictionary `medal_count` where the school name is the key and the associated value is a tuple of the form `(GOLD, SILVER, BRONZE)`,\n",
    "- print out the top 5 school with the highest number of medals won, regardless of the medal type. "
   ]
  },
  {
   "cell_type": "code",
   "execution_count": null,
   "metadata": {},
   "outputs": [
    {
     "name": "stdout",
     "output_type": "stream",
     "text": [
      "<_csv.reader object at 0x00000176F899F7C0>\n"
     ]
    },
    {
     "ename": "ValueError",
     "evalue": "['Gold'] is not in list",
     "output_type": "error",
     "traceback": [
      "\u001b[31m---------------------------------------------------------------------------\u001b[39m",
      "\u001b[31mValueError\u001b[39m                                Traceback (most recent call last)",
      "\u001b[36mCell\u001b[39m\u001b[36m \u001b[39m\u001b[32mIn[7]\u001b[39m\u001b[32m, line 18\u001b[39m\n\u001b[32m     15\u001b[39m      n.replace(\u001b[33m'\u001b[39m\u001b[38;5;130;01m\\n\u001b[39;00m\u001b[33m'\u001b[39m,\u001b[33m'\u001b[39m\u001b[33m'\u001b[39m)\n\u001b[32m     16\u001b[39m list_of_medals = [row \u001b[38;5;28;01mfor\u001b[39;00m row \u001b[38;5;129;01min\u001b[39;00m s \u001b[38;5;28;01mif\u001b[39;00m row != []]\n\u001b[32m---> \u001b[39m\u001b[32m18\u001b[39m gold_start = \u001b[43mlist_of_medals\u001b[49m\u001b[43m.\u001b[49m\u001b[43mindex\u001b[49m\u001b[43m(\u001b[49m\u001b[43m[\u001b[49m\u001b[33;43m'\u001b[39;49m\u001b[33;43mGold\u001b[39;49m\u001b[33;43m'\u001b[39;49m\u001b[43m]\u001b[49m\u001b[43m)\u001b[49m + \u001b[32m1\u001b[39m\n\u001b[32m     19\u001b[39m silver_start = list_of_medals.index([\u001b[33m'\u001b[39m\u001b[33mSilver\u001b[39m\u001b[33m'\u001b[39m])\n\u001b[32m     20\u001b[39m bronze_start = list_of_medals.index([\u001b[33m'\u001b[39m\u001b[33mBronze\u001b[39m\u001b[33m'\u001b[39m])\n",
      "\u001b[31mValueError\u001b[39m: ['Gold'] is not in list"
     ]
    }
   ],
   "source": [
    "#YOUR_CODE_HERE\n",
    "#jovan one very funni\n",
    "import csv\n",
    "\n",
    "Gold = []\n",
    "Silver = []\n",
    "Bronze = []\n",
    "\n",
    "amount_of_medals_school = []\n",
    "\n",
    "with open(\"./resources/NOI_24_RESULT.csv\") as f:\n",
    "    s = csv.reader(f)\n",
    "    print(s)\n",
    "    for i in s:\n",
    "        for n in i:\n",
    "         n.replace('\\n','')\n",
    "    list_of_medals = [row for row in s if row != []]\n",
    "    \n",
    "    gold_start = list_of_medals.index(['Gold']) + 1\n",
    "    silver_start = list_of_medals.index(['Silver'])\n",
    "    bronze_start = list_of_medals.index(['Bronze'])\n",
    "\n",
    "    Gold = [row[0] for row in list_of_medals[gold_start:silver_start]]\n",
    "    Silver = [row[0] for row in list_of_medals[silver_start + 1:bronze_start]]\n",
    "    Bronze = [row[0] for row in list_of_medals[bronze_start + 1:]]\n",
    "\n",
    "    for i in Gold:\n",
    "        _, school = i.split(',', 1)\n",
    "        amount_of_medals_school.append([item.strip() for item in school.split(',')][-1])\n",
    "    \n",
    "    for i in Silver:\n",
    "        _, school = i.split(',', 1)\n",
    "        amount_of_medals_school.append([item.strip() for item in school.split(',')][-1])\n",
    "        \n",
    "    for i in Bronze:\n",
    "        _, school = i.split(',', 1)\n",
    "        amount_of_medals_school.append([item.strip() for item in school.split(',')][-1])\n",
    "        \n",
    "    medal_count = {i : amount_of_medals_school.count(i) for i in amount_of_medals_school}\n",
    "    \n",
    "    print(\"Top 5 schools with most medals:\")\n",
    "    for i in range(len(medal_count)):\n",
    "        s = max(medal_count, key=medal_count.get)\n",
    "        if s == 'Singapore':\n",
    "            s = 'School Of Science And Technology, Singapore'\n",
    "        s_amt = max(medal_count.values())\n",
    "        print(f\"{s}, with {s_amt} medals\")\n",
    "        s = max(medal_count, key=medal_count.get)\n",
    "        medal_count.pop(s)"
   ]
  },
  {
   "cell_type": "code",
   "execution_count": 8,
   "metadata": {},
   "outputs": [
    {
     "name": "stdout",
     "output_type": "stream",
     "text": [
      "Top 5 schools with most medals:\n",
      "Hwa Chong Institution, with 10 medals\n",
      "NUS High School Of Mathematics And Science, with 10 medals\n",
      "Raffles Institution, with 10 medals\n",
      "United World College South East Asia Dover Campus, with 8 medals\n",
      "Anglo-Chinese School Independent, with 5 medals\n"
     ]
    }
   ],
   "source": [
    "Gold = []\n",
    "Silver = []\n",
    "Bronze = []\n",
    "\n",
    "amount_of_medals_school = []\n",
    "\n",
    "with open(\"./resources/NOI_24_RESULT.csv\", \"r\") as f:\n",
    "    lines = [line.strip() for line in f if line.strip()]  # Read lines, strip spaces, skip empty\n",
    "\n",
    "    gold_start = lines.index('Gold') + 1\n",
    "    silver_start = lines.index('Silver')\n",
    "    bronze_start = lines.index('Bronze')\n",
    "\n",
    "    Gold = lines[gold_start:silver_start]\n",
    "    Silver = lines[silver_start + 1:bronze_start]\n",
    "    Bronze = lines[bronze_start + 1:]\n",
    "\n",
    "    for medal_list in [Gold, Silver, Bronze]:\n",
    "        for entry in medal_list:\n",
    "            try:\n",
    "                _, school = entry.split(',', 1)\n",
    "                school_name = [item.strip() for item in school.split(',')][-1]\n",
    "                amount_of_medals_school.append(school_name)\n",
    "            except ValueError:\n",
    "                pass  # Handle bad format gracefully\n",
    "\n",
    "    medal_count = {school: amount_of_medals_school.count(school) for school in set(amount_of_medals_school)}\n",
    "\n",
    "    print(\"Top 5 schools with most medals:\")\n",
    "    for _ in range(min(5, len(medal_count))):\n",
    "        top_school = max(medal_count, key=medal_count.get)\n",
    "        medal_amount = medal_count[top_school]\n",
    "        if top_school == 'Singapore':\n",
    "            top_school = 'School Of Science And Technology, Singapore'\n",
    "        print(f\"{top_school}, with {medal_amount} medals\")\n",
    "        medal_count.pop(top_school)"
   ]
  },
  {
   "attachments": {},
   "cell_type": "markdown",
   "metadata": {},
   "source": [
    "## Exercise 5.10\n",
    "\n",
    "A text file, `MARKET_PRICES.TXT`, contains the in-game prices for 6 items, Widowbloom, Rising Glory, Marrowroot, Vigil's Torch, Nighshade and Spectral Flask of Power from 1 December 2020 to 3 March 2021. Each line contains tab-delimited data that shows the date and the prices (in copper coins) of the 6 items.\n",
    "\n",
    "Each line is in the format:\n",
    "\n",
    ">``` text\n",
    ">YYYY-MM-DD\\tWIDOWBLOOM\\tRISING_GLORY\\t\\MARROWROOT\\tVIGILS_TORCH\\tNIGHTSHADE\\tSPECTRAL_FLASK_OF_POWER\\n\n",
    ">```\n",
    "\n",
    "- The date is of the form `YYYY-MM-DD`, for example, `2020-12-03` is 3rd December, 2020.\n",
    "- WIDOWBLOOM, RISING_GLORY, MARROWROOT, VIGILS_TORCH, NIGHTSHADE, SPECTRAL_FLASK_OF_POWER are all integers.\n",
    "- `\\t` represents the tab character\n",
    "- `\\n` represents the newline character\n",
    "\n",
    "The text file is stored in ascending order of date and time.\n",
    "\n",
    "### Task 1 \n",
    "\n",
    "Write a program to:\n",
    "\n",
    "- read the price data from the text file,\n",
    "- for each of the 6 items:\n",
    "    - find the highest price and print this value,\n",
    "    - find the lowest price and print this value.\n",
    "\n",
    "### Task 2\n",
    "\n",
    "Suppose you want to play the market by buying and selling the 6 items above, one way to decide on items to invest in is by using the mean and variance of the daily rate of returns of the items. The latter is used to quantify the risk of holding such item.\n",
    "\n",
    "For an item $j$, \n",
    "- the **daily rate of return** of day $i$ to $i+1$, denoted as $r_i$ is defined to be $$r_i=\\frac{p_{i+1}-p_{i}}{p_i},$$ where $p_{i+1}$ and $p_i$ are prices of the item on day $i+1$ and day $i$ respectively,\n",
    "- the mean of the daily rate of returns, denoted as $\\overline{r}$, is just $\\frac{\\sum r_i}{n}$, where $n$ is the number of daily rate of returns recorded,\n",
    "- the variance of the daily rate of returns is $$\\frac{\\sum{(r_i-\\overline{r})^2}}{n},$$ where $\\overline{r}$ is the mean of the daily rate of returns and again $n$ is the number of daily returns recorded.\n",
    "\n",
    "Write a program to:\n",
    "\n",
    "- for each of the 6 items:\n",
    "    - find the mean of the daily rate of return,\n",
    "    - find the variance of the daily rate of return."
   ]
  },
  {
   "cell_type": "code",
   "execution_count": null,
   "metadata": {},
   "outputs": [],
   "source": []
  },
  {
   "cell_type": "code",
   "execution_count": 18,
   "metadata": {},
   "outputs": [
    {
     "name": "stdout",
     "output_type": "stream",
     "text": [
      "\n",
      "      item:          min:   max:      \n",
      "      widowbloom     10003  9965\n",
      "      risingglory    2000   7679\n",
      "      marrowroot     2402   8677\n",
      "      vigilstorch    10086  9325\n",
      "      nightshade     10310  9857\n",
      "      flask          100644 98674\n",
      "\n",
      "      mean of rate of return for widowbloom is:\n",
      "      0.0018833026890536454\n",
      "      variable of rate of return for widowbloom is:\n",
      "      0.022845548652536282\n",
      "              \n",
      "\n",
      "      mean of rate of return for risingglory is:\n",
      "      -0.0006031488023453025\n",
      "      variable of rate of return for risingglory is:\n",
      "      0.036505209127751466\n",
      "              \n",
      "\n",
      "      mean of rate of return for marrowroot is:\n",
      "      0.0006764847439680622\n",
      "      variable of rate of return for marrowroot is:\n",
      "      0.03564672561543559\n",
      "              \n",
      "\n",
      "      mean of rate of return for vigilstorch is:\n",
      "      -0.0006561981210950313\n",
      "      variable of rate of return for vigilstorch is:\n",
      "      0.02777603719357029\n",
      "              \n",
      "\n",
      "      mean of rate of return for nightshade is:\n",
      "      -0.0007329548040712776\n",
      "      variable of rate of return for nightshade is:\n",
      "      0.017625185124379893\n",
      "              \n",
      "\n",
      "      mean of rate of return for flask is:\n",
      "      -1.2344576148766383e-05\n",
      "      variable of rate of return for flask is:\n",
      "      0.004645912571755999\n",
      "              \n"
     ]
    }
   ],
   "source": [
    "#YOUR_CODE_HERE\n",
    "#task 1\n",
    "with open('resources/MARKET_PRICES.txt','r') as f:\n",
    "    mp = f.read()\n",
    "    mp = mp.split()\n",
    "    for i in range(7):\n",
    "        mp.remove(mp[0])\n",
    "listofitemnames=['widowbloom','risingglory','marrowroot','vigilstorch','nightshade','flask']\n",
    "listofitemvalues=[mp[1::7],mp[2::7],mp[3::7],mp[4::7],mp[5::7],mp[6::7]]\n",
    "print(f\"\"\"\n",
    "      item:          min:   max:      \n",
    "      widowbloom     {min(listofitemvalues[0])}  {max(listofitemvalues[0])}\n",
    "      risingglory    {min(listofitemvalues[1])}   {max(listofitemvalues[1])}\n",
    "      marrowroot     {min(listofitemvalues[2])}   {max(listofitemvalues[2])}\n",
    "      vigilstorch    {min(listofitemvalues[3])}  {max(listofitemvalues[3])}\n",
    "      nightshade     {min(listofitemvalues[4])}  {max(listofitemvalues[4])}\n",
    "      flask          {min(listofitemvalues[5])} {max(listofitemvalues[5])}\"\"\")\n",
    "def ave_rate_return(i):\n",
    "    count = 0\n",
    "    for s in range (len(i)-1):\n",
    "        count+= (int(i[s+1])-int(i[s]))/int(i[s])\n",
    "        count = count/(len(i)-1)\n",
    "    return count\n",
    "def var_rate_return(n):\n",
    "    ave_r = ave_rate_return(n)\n",
    "    count = 0\n",
    "    for i in range(len(n)-1):\n",
    "        count+= ((int(n[i+1])-int(n[i]))/int(n[i])-ave_r)**2\n",
    "    count = count/(len(n)-1)\n",
    "    return(count)\n",
    "\n",
    "for i in range(6):\n",
    "    print(f\"\"\"\n",
    "      mean of rate of return for {listofitemnames[i]} is:\n",
    "      {ave_rate_return(listofitemvalues[i])}\n",
    "      variable of rate of return for {listofitemnames[i]} is:\n",
    "      {var_rate_return(listofitemvalues[i])}\n",
    "              \"\"\")\n"
   ]
  }
 ],
 "metadata": {
  "kernelspec": {
   "display_name": "Python 3",
   "language": "python",
   "name": "python3"
  },
  "language_info": {
   "codemirror_mode": {
    "name": "ipython",
    "version": 3
   },
   "file_extension": ".py",
   "mimetype": "text/x-python",
   "name": "python",
   "nbconvert_exporter": "python",
   "pygments_lexer": "ipython3",
   "version": "3.13.3"
  },
  "vscode": {
   "interpreter": {
    "hash": "a42ccb73e7d9bfdf27e036f1d2b8b681e55fc0743cc5586bc2474d4a60f4b886"
   }
  }
 },
 "nbformat": 4,
 "nbformat_minor": 2
}
