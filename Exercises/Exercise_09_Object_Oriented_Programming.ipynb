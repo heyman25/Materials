{
 "cells": [
  {
   "attachments": {},
   "cell_type": "markdown",
   "metadata": {},
   "source": [
    "# Exercise 9\n",
    "\n",
    "Related Notes:\n",
    "- Chapter_09_Object_Oriented_Programming\n",
    "\n",
    "[![Open In Colab](https://colab.research.google.com/assets/colab-badge.svg)](https://colab.research.google.com/github/njc-cz2-2021/Materials/blob/main/Exercises/Exercise_09_Object_Oriented_Programming.ipynb) "
   ]
  },
  {
   "cell_type": "markdown",
   "metadata": {},
   "source": [
    "## Exercise 9.1\n",
    "\n",
    "Consider the following code:\n",
    "\n",
    "```python\n",
    "class a():\n",
    "    def x(self):\n",
    "        return \"a.x\"\n",
    "    def y(self):\n",
    "        return \"a.y\"\n",
    "    def z(self):\n",
    "        return \"a.z\"\n",
    "\n",
    "class b(a):\n",
    "    def y(self):\n",
    "        return \"b.y\"\n",
    "    def z(self):\n",
    "        return super().z()\n",
    "\n",
    "class c(b):\n",
    "   def x(self):\n",
    "\t    return \"c.x\"\n",
    "   def z(self):\n",
    "       return super().z()\n",
    "\n",
    "aaa = a()\n",
    "bbb = b()\n",
    "ccc = c()\n",
    "```\n",
    "\n",
    "State the output for the following segments of code: \n",
    "\n",
    "1.\t`print(aaa.x())`\n",
    "2.\t`print(aaa.y())`\n",
    "3.\t`print(aaa.z())`\n",
    "4.\t`print(bbb.x())`\n",
    "5.\t`print(bbb.y())`\n",
    "6.\t`print(bbb.z())`\n",
    "7.\t`print(ccc.x())`\n",
    "8.\t`print(ccc.y())`\n",
    "9.\t`print(ccc.z())`"
   ]
  },
  {
   "cell_type": "code",
   "execution_count": null,
   "metadata": {},
   "outputs": [],
   "source": [
    "#YOUR_CODE_HERE"
   ]
  },
  {
   "cell_type": "markdown",
   "metadata": {},
   "source": [
    "## Exercise 9.2\n",
    "\n",
    "Using UML, design classes for the following quadrilaterals:\n",
    "- Trapezium\n",
    "- Parallelogram\n",
    "- Kite\n",
    "- Rhombus\n",
    "- Rectangle\n",
    "- Square\n",
    "\t\t\n",
    "The objective of these classes is to be able to calculate the area and perimeter of any instantiation of the above quadrilaterals. \n",
    "\n",
    "Your design should utilise inheritance and polymorphism to ensure maximal code-reuse.\n",
    "\n",
    "Now implement all the above classes.\n"
   ]
  },
  {
   "cell_type": "code",
   "execution_count": null,
   "metadata": {},
   "outputs": [],
   "source": [
    "#YOUR_CODE_HERE"
   ]
  },
  {
   "attachments": {},
   "cell_type": "markdown",
   "metadata": {},
   "source": [
    "## Exercise 9.3\n",
    "\n",
    "In mathematics, a complex number $z$ is a number that can be expressed in the form $$x+iy$$ where $x,y\\in \\mathbb{R}$ and $i$ is a symbol called the **imaginary unit** such that $i^2=-1$. For example, $2+3i$, $-5-i$, $i=0+1i$, $1.5=1.5+0i$ are all complex numbers.\n",
    "\n",
    "If $z=x+iy$ is a complex number, $x$ is called the real part of $z$ and is denoted as $\\text{Re}(z)$, while $y$ is called the imaginary part of $z$ and is denoted as $\\text{Im}(z)$. \n",
    "\n",
    "A complex number $z=a+ib$ can thus be identified with an ordered pair $(a,b)$ of real numbers, which in turn may be interpreted as coordinates of a point in a two-dimensional space. Thus, we can plot complex numbers on a Cartesian plane where the horizontal (labelled as $\\text{Re}$) axis is generally used to display the real part, with increasing values to the right, and the imaginary part marks the vertical (labelled as $\\text{Im}$) axis, with increasing values upwards.\n",
    "\n",
    "<center>\n",
    "<img src=\"img/220px-Complex_number_illustration.svg.png\" width=\"250\" align=\"center\"/>\n",
    "</center>\n",
    "\n",
    "Since a complex number is a point on a 2D plane, it makes sense to talk about the distance of the complex number $z$ from the origin. \n",
    "\n",
    "If $z=x+iy$, then the distance of the complex number number from the origin is called the *modulus of $z$*, denoted as $|z|$ and thus, $$|z|=\\sqrt{x^2+y^2}.$$\n",
    "\n",
    "Furthermore, the angle subtended between the positive real axis and the line segment $Oz$ in a **counterclockwise sense**, is called the *argument of $z$* and is denoted as $\\text{arg}(z)$. Note that we will define $-\\pi<\\arg(z)\\leq \\pi$. In other words, if the complex number is located in quadrant 3 and 4, the argument of the complex number will be a negative value.\n",
    "\n",
    "To make the ideas of modulus and argument clearer, observe the following diagram. We have $z=x+iy$, $|z|=r$ and $\\arg(z)=\\varphi$. \n",
    "\n",
    "<center>\n",
    "<img src=\"img/220px-Complex_number_illustration_modarg.svg.png\" width=\"250\" align=\"center\"/>\n",
    "</center>\n",
    "\n",
    "\n",
    "### Task 1\n",
    "\n",
    "Implement the class `Complex` with the following specification.\n",
    "\n",
    ">```text\n",
    ">|  Complex                                |\n",
    ">| --------------------------------------- |\n",
    ">|  real: FLOAT                            |\n",
    ">|  imag: FLOAT                            |\n",
    ">| --------------------------------------- |\n",
    ">|  constructor(real: FLOAT, imag: FLOAT)  |\n",
    ">|  Re(): Complex                          |\n",
    ">|  Im(): Complex                          |\n",
    ">|  mod(): FLOAT                           |\n",
    ">|  arg(): FLOAT                           |\n",
    ">| --------------------------------------- |\n",
    ">```\n",
    "\n",
    "\n",
    "This class stores a complex number.\n",
    "\n",
    "The class methods work as follows:\n",
    "\n",
    ">```text\n",
    ">| Method                            | Description                                               |\n",
    ">|-----------------------------------|-----------------------------------------------------------|\n",
    ">| constructor(re: FLOAT, im: FLOAT) | The initialisation method                                 |\n",
    ">| Re(): COMPLEX                     | Returns the real part of the complex number               |\n",
    ">| Im(): COMPLEX                     | Returns the imaginary part of the complex number          |\n",
    ">| mod(): FLOAT                      | Returns the modulus of the complex number                 |\n",
    ">| arg(): FLOAT                      | Returns the argument of the complex number                |\n",
    ">| __str__(): STRING                 | Returns the string representation of the complex number   |\n",
    ">|                                   | in the form `<real_part>+i*<imaginary_part>`              |\n",
    ">|-----------------------------------|-----------------------------------------------------------|\n",
    ">```"
   ]
  },
  {
   "cell_type": "code",
   "execution_count": null,
   "metadata": {},
   "outputs": [],
   "source": [
    "#YOUR_CODE_HERE"
   ]
  },
  {
   "attachments": {},
   "cell_type": "markdown",
   "metadata": {},
   "source": [
    "### Task 2\n",
    "Complex numbers can also be added, subtracted, multiplied and divided using the following definition. \n",
    "\n",
    "Let $z_1=x_1+iy_1, z_2=x_2+iy_2$ be complex numbers. Then\n",
    "\n",
    "1. Addition: $$z_1+z_2=(x_1+x_2)+i(y_1+y_2)$$\n",
    "2. Subtraction: $$z_1-z_2=(x_1-x_2)+i(y_1-y_2)$$\n",
    "3. Multiplication: $$z_{1}z_{2}=\\left(x_{1}x_{2}-y_{1}y_{2}\\right)+i\\left(x_{1}y_{2}+x_{2}y_{1}\\right)$$\n",
    "4. Division: $$\\frac{z_1}{z_2}=\\frac{1}{{x_2}^2+{y_2}^2}\\left(\\left(x_{1}x_{2}+y_{1}y_{2}\\right)+i\\left(x_{1}y_{2}-x_{2}y_{1}\\right)\\right)$$\n",
    "\n",
    "Amend your program code to implement the addition, subtraction, multiplication, division between complex numbers with the additional class methods\n",
    "\n",
    ">```text\n",
    ">| Method                          | Description                                                 |\n",
    ">|---------------------------------|-------------------------------------------------------------|\n",
    ">| __add__(c:Complex): Complex     | Returns the sum of 'self' with the complex number `c`       |\n",
    ">| __sub__(c:Complex): Complex     | Returns the subtraction of `self` by the complex number `c` |\n",
    ">| __mul__(c:Complex): Complex     | Returns the product of `self` with the complex number `c`   |\n",
    ">| __truediv__(c:Complex): Complex | Returns the division of `self` by the complex number `c`    |\n",
    ">|---------------------------------|-------------------------------------------------------------|\n",
    ">```"
   ]
  },
  {
   "cell_type": "code",
   "execution_count": null,
   "metadata": {},
   "outputs": [],
   "source": [
    "#YOUR_CODE_HERE"
   ]
  },
  {
   "cell_type": "markdown",
   "metadata": {},
   "source": [
    "## Exercise 9.4\n",
    "\n",
    "Refer back to Exercise 5.1 on Vectors. Implement the class `3DVector` based on the functions and attributes described in the question."
   ]
  },
  {
   "cell_type": "code",
   "execution_count": null,
   "metadata": {},
   "outputs": [],
   "source": [
    "#YOUR_CODE_HERE"
   ]
  },
  {
   "attachments": {},
   "cell_type": "markdown",
   "metadata": {},
   "source": [
    "## Exercise 9.5 2019/A Level/P1/Q3 H2 Computing\n",
    "\n",
    "A program is to be written to implement a to-do list using object-oriented programming (OOP).\n",
    "The list shows tasks that need to be done.\n",
    "\n",
    "Each task is given a category and a description.\n",
    "\n",
    "The base class will be called `ToDo` and is designed as follows:\n",
    "\n",
    ">```text\n",
    ">| ToDo                                 |\n",
    ">|--------------------------------------|\n",
    ">|  category: STRING                    |\n",
    ">|  description: STRING                 |\n",
    ">|--------------------------------------|\n",
    ">|  constructor(c : STRING, d : STRING) |\n",
    ">|  set_category(s : STRING)            |\n",
    ">|  set_description(s: STRING)          |\n",
    ">|  get_category(): STRING              |\n",
    ">|  get_description(): STRING           |\n",
    ">|  summary(): STRING                   |\n",
    ">|--------------------------------------|\n",
    ">```\n",
    "\n",
    "The `summary()` method returns the category and description as a single string.\n",
    "\n",
    "### Task 1\n",
    "Write program code to define the class ToDo.  \n",
    "<div style=\"text-align: right\">[1]</div>\n",
    "\n"
   ]
  },
  {
   "cell_type": "code",
   "execution_count": null,
   "metadata": {},
   "outputs": [],
   "source": [
    "#YOUR_CODE_HERE"
   ]
  },
  {
   "cell_type": "markdown",
   "metadata": {},
   "source": [
    "Tasks should be sorted alphabetically by category. Within each category. tasks should be sorted alphabetically by description.\n",
    "\n",
    "A task to be added to the list is compared to the tasks already in the list to determine its correct position in the list. If the list is empty. it is added to the beginning of the list.\n",
    "\n",
    "This comparison will use an additional member method,\n",
    "\n",
    ">```python\n",
    ">compare_with (td : ToDo) : INTEGER\n",
    ">```\n",
    "\n",
    "This function compares the instance (the item in the list) and the `ToDO` object passed to it. returning one of three values:\n",
    "\n",
    "> `-1` if the instance is before the given `ToDo` <br>\n",
    "> `0` if the two are equal <br>\n",
    "> `+1` if the instance is after the given `ToDo` <br>\n",
    "\n",
    "### Task 2\n",
    "\n",
    "There are four objects defined in the text file `2019_TASK3_2.TXT` in the `resources` folder.\n",
    "\n",
    "Write program code to:\n",
    "\n",
    "- implement the `compare_with()` method\n",
    "- create an empty list of `ToDo` objects\n",
    "- add each of the four objects in the text file `2019_TASK3_2.TXT` to its appropriate place in the list\n",
    "- print out the list contents using the `summary()` method.\n",
    "\n",
    "<div style=\"text-align: right\">[13]</div>"
   ]
  },
  {
   "cell_type": "code",
   "execution_count": null,
   "metadata": {},
   "outputs": [],
   "source": [
    "#YOUR_CODE_HERE"
   ]
  },
  {
   "attachments": {},
   "cell_type": "markdown",
   "metadata": {},
   "source": [
    "The to-do list can have items with extra information. One such item has a date by which the task should be completed.\n",
    "\n",
    "The `DatedToDo` class inherits from the `ToDo` class, extending it to have a `due_date`. designed as follows:\n",
    "\n",
    ">```text\n",
    ">| DatedToDo : ToDo                              |\n",
    ">|-----------------------------------------------|\n",
    ">| due_date: DATE                                |\n",
    ">|-----------------------------------------------|\n",
    ">| constructor(dt: DATE, c : STRING, d : STRING) |\n",
    ">| set_due_date(d : DATE)                        |\n",
    ">| get_due_date(): DATE                          |\n",
    ">|-----------------------------------------------|\n",
    ">```\n",
    "\n",
    "The `DatedToDo` class should extend the `compare_with()` method to ensure that tasks are ordered by `ascending due_date`, and then by the ordering used by the base `compare_with()` method. The `summary()` method should also be extended to return the `due_date` and the return values of the base `summary()` method.\n",
    "\n",
    "### Task 3\n",
    "\n",
    "There are seven objects defined in the text file `2019_TASK3_3.TXT` in the `resources` folder.\n",
    "\n",
    "Amend your program code to:\n",
    "\n",
    "- implement the `DatedToDo` class. with `constructor`, `get_due_date` and `set_due_date`\n",
    "- implement the extended `compare_with()` method\n",
    "- implement the extended `summary()` method\n",
    "- ensure all seven objects in the text file `2019_TASK3_3.TXT` are added to the list\n",
    "- print out the list contents using the `summary()` method.\n",
    "\n",
    "<div style=\"text-align: right\">[12]</div>"
   ]
  },
  {
   "cell_type": "code",
   "execution_count": null,
   "metadata": {},
   "outputs": [],
   "source": [
    "#YOUR_CODE_HERE"
   ]
  },
  {
   "cell_type": "markdown",
   "metadata": {},
   "source": [
    "When a task in the to-do list has been completed, it should be removed.\n",
    "\n",
    "### Task 4\n",
    "\n",
    "There are four completed tasks defined in the text file `2019_TASK3_4.TXT` in the resources folder.\n",
    "\n",
    "if any of the four tasks exists in the list, it should be removed.\n",
    "\n",
    "Amend your program to:\n",
    "\n",
    "- recreate the list of seven tasks from Task 3\n",
    "- check if each of the four completed tasks in the text file `2019_TASK3_4.TXT` exists in the list and:\n",
    "    - remove it from the list if it does or\n",
    "    - print a warning message if the completed task does not exist\n",
    "- print out the list after all four objects have been processed. \n",
    "\n",
    "<div style=\"text-align: right\">[10]</div>"
   ]
  },
  {
   "cell_type": "code",
   "execution_count": null,
   "metadata": {},
   "outputs": [],
   "source": [
    "#YOUR_CODE_HERE"
   ]
  },
  {
   "cell_type": "markdown",
   "metadata": {},
   "source": [
    "## Exercise 9.6 2017/A Level/P2/Q3 H2 Computing (Modified)\n",
    "\n",
    "- **(a)** Explain what is meant by an object in object-oriented programming. \n",
    "<div style=\"text-align: right\">[2]</div>"
   ]
  },
  {
   "cell_type": "code",
   "execution_count": null,
   "metadata": {},
   "outputs": [],
   "source": [
    "#YOUR_ANSWER_HERE"
   ]
  },
  {
   "cell_type": "markdown",
   "metadata": {},
   "source": [
    "- **(b) (i)** A student is writing a program to represent people in a university. Tutors, office workers, lecturers and professors are all employed by the university. A professor is a senior lecturer. The university educates both undergraduate and graduate students.\n",
    "\n",
    "   The student's program contains a class with the identifier `Person`. Sub-classes share the characteristics of this class.\n",
    "   \n",
    "   Copy and complete the following inheritance diagram by adding sub-classes `Professor`, `OfficeWorker`, `Lecturer`, `Undergraduate`, `Staff`, `Graduate`, `Student` and `Tutor`. \n",
    "\n",
    "<div style=\"text-align: right\">[2]</div>\n",
    "\n",
    "<center>\n",
    "<img src=\"img/exercise14-pic1.png\" width=\"400\" align=\"center\"/>\n",
    "</center>\n",
    "\n",
    "- **(b) (ii)** Explain why inheritance is an important feature of object-oriented programming.\n",
    "<div style=\"text-align: right\">[2]</div>"
   ]
  },
  {
   "cell_type": "code",
   "execution_count": null,
   "metadata": {},
   "outputs": [],
   "source": [
    "#YOUR_ANSWER_HERE"
   ]
  },
  {
   "cell_type": "markdown",
   "metadata": {},
   "source": [
    "## Exercise 9.7 2018/A Level/P1/Q4 H2 Computing\n",
    "\n",
    "In a computer game, a player (`\"O“`) moves around a maze measuring 10 metres by 11 metres to collect a prize (`\"P\"`). The prize is placed at a random position within the maze. The prize position is not where a wall (`”X”`) appears in the maze. An empty position is indicated with a full-stop (`\".\"`). The maze is represented on the screen by a rectangular grid. Each square metre of the maze is represented by an $x$-ooordinate and a $y$-coordinate. The top left square metre of the puzzle display has $x = 0$ and $y = 0$.\n",
    "\n",
    "The player moves left, right, up or down according to a direction entered by the user. The game is turn-based; a user enters the direction, their player moves one position in that direction. It the direction would place the player on a wall, then the player does not move. The maze is displayed after each move.\n",
    "\n",
    "```text\n",
    "X X X X X X X X X X\n",
    "X . . . . . . . . X\n",
    "X . X . X . X X . X\n",
    "X . X . . P . . . X\n",
    "X . X X X X X X . X\n",
    "X . . . O . . . . X\n",
    "X . X . X X . X . X\n",
    "X . X . . . . X . X\n",
    "X . X X . X X X . X\n",
    "X . . . . . . . . X\n",
    "X X X X X X X X X X \n",
    "```\n",
    "\n",
    "### Task 1\n",
    "\n",
    "Write a program to display the maze as shown.\n",
    "\n",
    "- The maze should be stored in a suitable data structure.\n",
    "\n",
    "- The data structure will allow fixed loop(s) to be used to display the maze.\n",
    "\n",
    "The maze is given in the text file `MAZE.TXT` under resources. You may read in the data from this file or place the data in your program using any suitable method.\n",
    "<div style=\"text-align: right\">[6]</div>"
   ]
  },
  {
   "cell_type": "code",
   "execution_count": null,
   "metadata": {},
   "outputs": [],
   "source": [
    "#YOUR_CODE_HERE"
   ]
  },
  {
   "cell_type": "markdown",
   "metadata": {},
   "source": [
    "### Task 2\n",
    "\n",
    "The prize is placed randomly on the maze. It cannot appear in the same grid position as a wall (`\"X\"`). Add to your program code to place the prize at a random position. Take a screenshot of the maze with the prize displayed in it.\n",
    "\n",
    "<div style=\"text-align: right\">[5]</div>"
   ]
  },
  {
   "cell_type": "code",
   "execution_count": null,
   "metadata": {},
   "outputs": [],
   "source": [
    "#YOUR_CODE_HERE"
   ]
  },
  {
   "cell_type": "markdown",
   "metadata": {},
   "source": [
    "The player is represented by the character `\"0\"`. The character starts the game in a central position on the grid. for example, `x = 4` and `y = 5`. To move the character, the user is prompted for a direction. The following are valid inputs:\n",
    "\n",
    "If the next position for the player (`\"O\"`) is a wall (`\"X\"`), then the player stays in their current position; this is called collision detection. \n",
    "\n",
    "When the player enters the move, a new position for the player (`\"0\"`) is calculated and the maze is displayed. The previous position is changed back to a `”.\"` when the player has a new position. The moves are repeated until the player is at the same position as the prize.\n",
    "\n",
    "### Task 3\n",
    "Add to your program code to:\n",
    "- place the player on the grid at a central position on the grid\n",
    "- take in and validate a direction\n",
    "- calculate a new position\n",
    "- check this position is not a wall\n",
    "- update the grid so that the previous position of `\"O\"` is replaced with a `\".\"` and `\"O\"` is located in its new position\n",
    "- continue this until the player is at the same position as the prize.\n",
    "\n",
    "<div style=\"text-align: right\">[16]</div>"
   ]
  },
  {
   "cell_type": "code",
   "execution_count": null,
   "metadata": {},
   "outputs": [],
   "source": [
    "#YOUR_CODE_HERE"
   ]
  },
  {
   "cell_type": "markdown",
   "metadata": {},
   "source": [
    "When the player and the prize are at the same position. the message “Player has reached the prize\" is displayed and the game ends.\n",
    "\n",
    "### Task 4\n",
    "\n",
    "Add to your program, code to end the game when this condition is met, and display the required message. Produce screenshots to show key elements of your program are functioning.\n",
    "\n",
    "The screenshots required are:\n",
    "- entering each direction\n",
    "- player changing position\n",
    "- end of game\n",
    "\n",
    "<div style=\"text-align: right\">[3]</div>"
   ]
  },
  {
   "cell_type": "code",
   "execution_count": null,
   "metadata": {},
   "outputs": [],
   "source": [
    "#YOUR_CODE_HERE"
   ]
  },
  {
   "cell_type": "markdown",
   "metadata": {},
   "source": [
    "## Exercise 9.8 2019/NJC/Tutorial 11: Complex Number(TBL)/A1\n",
    "\n",
    "Simplify the following complex numbers in the Cartesian form, $x + iy$:\n",
    "\n",
    "1. $\\left(3-8i\\right)\\left(5+7i\\right)$\n",
    "\n",
    "2. $\\frac{7+5i}{4-3i}$\n",
    "\n",
    "### Ans: \n",
    "\n",
    "1.$71-19i$\n",
    "\n",
    "2.$\\frac{13}{25}+\\frac{41}{25}i$ "
   ]
  },
  {
   "cell_type": "code",
   "execution_count": null,
   "metadata": {},
   "outputs": [],
   "source": [
    "#YOUR_CODE_HERE"
   ]
  },
  {
   "cell_type": "markdown",
   "metadata": {},
   "source": [
    "## Exercise 9.9 2019/NJC/Tutorial 11: Complex Number(TBL)/B1 (Modified)\n",
    "\n",
    "Find the modulus and argument of the following complex numbers. \n",
    "\n",
    "1. $-2i$\n",
    "2. $-1-i$\n",
    "3. $-1+\\sqrt{3}i$ \n",
    "4. $(-1-i)(-1+\\sqrt{3}i)$\n",
    "5. $\\frac{-1+\\sqrt{3}i}{-1-i}$\n",
    "6. $-100$\n",
    "\n",
    "### Ans: \n",
    "\n",
    "1. $2,-\\frac{\\pi}{2}$\n",
    "2. $\\sqrt{2},-\\frac{3\\pi}{4}$ \n",
    "3. $2,\\frac{2\\pi}{3}$\n",
    "4. $2\\sqrt{2},-\\frac{\\pi}{12}$\n",
    "5. $\\sqrt{2},-\\frac{7\\pi}{12}$\n",
    "6. $100,\\pi$"
   ]
  },
  {
   "cell_type": "code",
   "execution_count": null,
   "metadata": {},
   "outputs": [],
   "source": [
    "#YOUR_CODE_HERE"
   ]
  },
  {
   "cell_type": "markdown",
   "metadata": {},
   "source": [
    "## Exercise 9.10\n",
    "\n",
    "The modulus and argument of a complex number gives us another way to understand complex number. Recall that if $z=x+iy$, from the diagram below, we have $|z|=r$ and $\\text{arg}=\\varphi$.\n",
    "\n",
    "<center>\n",
    "<img src=\"img/220px-Complex_number_illustration_modarg.svg.png\" width=\"250\" align=\"center\"/>\n",
    "</center>\n",
    "\n",
    "What this means is that instead of locating a point in a 2D plane by comparing it via the displacement in the horizontal and vertical axes ($xy$-coordinates), we can describe the same point by referring to how far it is from the origin ($r$) and how much angle does it make with a reference axis ($\\text{arg}$). \n",
    "\n",
    "In particular, from basic trigonometry, that $$x=r\\cos\\varphi, y=(r\\sin \\varphi).$$ Consequently, the same complex number $z$ can be represented as  $z=r\\cos \\varphi +i (r\\sin \\varphi)$.\n",
    "\n",
    "The following code plots a quadrilateral where the points are stored in the list `coord`."
   ]
  },
  {
   "cell_type": "code",
   "execution_count": null,
   "metadata": {},
   "outputs": [],
   "source": [
    "import matplotlib.pyplot as plt\n",
    "\n",
    "coord = [[-1,0], [2,-1], [4,5], [0,3]]\n",
    "coord.append(coord[0]) #repeat the first point to create a 'closed loop'\n",
    "\n",
    "xs, ys = zip(*coord) #create lists of x and y values\n",
    "\n",
    "ax = plt.gca()  # gca stands for 'get current axis'\n",
    "ax.spines['right'].set_color('none')\n",
    "ax.spines['top'].set_color('none')\n",
    "ax.xaxis.set_ticks_position('bottom')\n",
    "ax.spines['bottom'].set_position(('data',0))\n",
    "ax.yaxis.set_ticks_position('left')\n",
    "ax.spines['left'].set_position(('data',0))\n",
    "\n",
    "plt.plot(xs,ys) \n",
    "plt.show() # if you need..."
   ]
  },
  {
   "cell_type": "markdown",
   "metadata": {},
   "source": [
    "For each of the following complex number $w$, \n",
    "\n",
    "- $\\frac{\\sqrt{2}}{2}+i\\frac{\\sqrt{2}}{2}$\n",
    "- $-1+\\sqrt{3}i$\n",
    "- $-1.5$\n",
    "\n",
    "do the following;\n",
    "\n",
    "1. For each point in `coord`, \n",
    "    - convert it to a `Complex` object and multiply it with the complex number $w$,\n",
    "    - convert the product back into a list that represent a point\n",
    "    - append these points into the list `coord_transformed`\n",
    "2. Plot the 2 quadrilaterals, one with points in `coord` and the other with points in `coord_transformed` on the same diagram.\n",
    "\n",
    "What do you observe about the difference between quadrilaterals obtained from `coord` and `coord_transformed`?"
   ]
  },
  {
   "cell_type": "code",
   "execution_count": null,
   "metadata": {},
   "outputs": [],
   "source": [
    "#YOUR_CODE_HERE"
   ]
  },
  {
   "cell_type": "markdown",
   "metadata": {},
   "source": [
    "## Exercise 9.11\n",
    "\n",
    "In mathematics, a $2\\times n$ **matrix** over $\\mathbb{R}$ is a two-dimensional array whose entries are elements of $\\mathbb{R}$ with 2 rows and $n$ columns. Here is an example of $2\\times 2$ matrix: $$\\left(\\begin{array}{cc}\n",
    "1 & 3\\\\\n",
    "-10 & 30.5\n",
    "\\end{array}\\right)$$\n",
    "\n",
    "A program is to be written to implement basic matrix operations.\n",
    "\n",
    "In Python, we can use a nested list to write a matrix, e.g. the matrix above can be represented as `[[1,3],[-10,30.5]]`.\n",
    "\n",
    "A matrix is customarily denoted with a capital letter and the entry in the $i$ th row and $j$ th column in a matrix is denoted with the lowercase letter of the alphabet used for the matrix followed with the subscript $ij$, e.g if $M=\\left(\\begin{array}{cc}\n",
    "1 & 3\\\\\n",
    "-10 & 30.5\n",
    "\\end{array}\\right)$, then the entry at 1st row and 2nd column is $m_{12}=3$.\n",
    "\n",
    "Let $A$ and $B$ be matrices of the same dimensions, i.e. same number of rows and same number of columns, we define the *addition* $A+B=C$ as a matrix with the same number of rows and columns as $A$ and $B$ where for every entry in $C$, $c_{ij}=a_{ij}+b_{ij}$, e.g. $$\\left(\\begin{array}{ccc}\n",
    "1 & 3 & 5\\\\\n",
    "2 & 3 & 2\n",
    "\\end{array}\\right)+\\left(\\begin{array}{ccc}\n",
    "1 & 1 & 3\\\\\n",
    "4 & 0 & 0\n",
    "\\end{array}\\right)=\\left(\\begin{array}{ccc}\n",
    "2 & 4 & 8\\\\\n",
    "6 & 3 & 2\n",
    "\\end{array}\\right).$$\n",
    "\n",
    "Let $A$ and $B$ be $2\\times 2$ and $2\\times n$ matrices respectively,  we define the *product* $A*B=C$ as a $2\\times n$ matrix such that for every $i,j$ th entry in $C$, $c_{ij}=a_{i1}b_{1j}+a_{i2}b_{2j}$.\n",
    "\n",
    "Let $A=\\left(\\begin{array}{cc}\n",
    "a_{11} & a_{12}\\\\\n",
    "a_{21} & a_{22}\n",
    "\\end{array}\\right)$ be a $2\\times 2$ matrix, the *determinant* of $A$, denoted as $|A|$ is the value $a_{11}a_{22}-a_{12}a_{21}$ and if $|A|\\neq 0$, the **inverse** of $A$, denoted as $A^{-1}$ is defined to be $$A^{-1}=\\left(\\begin{array}{cc}\n",
    "\\frac{a_{22}}{\\left|A\\right|} & \\frac{-a_{12}}{\\left|A\\right|}\\\\\n",
    "\\frac{-a_{21}}{\\left|A\\right|} & \\frac{a_{11}}{\\left|A\\right|}\n",
    "\\end{array}\\right).$$\n",
    "\n",
    "## Task 1\n",
    "\n",
    "Implement the class `TwoByNMatrix` with the following design:\n",
    "\n",
    "\n",
    ">```text\n",
    ">| TwoByNMatrix                |\n",
    ">|-----------------------------|\n",
    ">|  entry: ARRAY               |\n",
    ">|-----------------------------|\n",
    ">|  constructor(l : ARRAY)     |\n",
    ">|  __add__(m : TwoByNMatrix)  |\n",
    ">|  __mul__(m : TwoByNMatrix)  |\n",
    ">|  det(): FLOAT               |\n",
    ">|  inv(): TwoByNMatrix        |\n",
    ">|-----------------------------|\n",
    ">```\n",
    "\n",
    "Test your code with the following test cases:\n",
    "\n",
    "-  $\\left(\\begin{array}{ccc}\n",
    "1 & 3 & 5\\\\\n",
    "2 & 3 & 2\n",
    "\\end{array}\\right)+\\left(\\begin{array}{ccc}\n",
    "1 & 1 & 3\\\\\n",
    "4 & 0 & 0\n",
    "\\end{array}\\right)=\\left(\\begin{array}{ccc}\n",
    "2 & 4 & 8\\\\\n",
    "6 & 3 & 2\n",
    "\\end{array}\\right)$\n",
    "\n",
    "- $\\left(\\begin{array}{cc}\n",
    "1 & 3\\\\\n",
    "4 & 5\n",
    "\\end{array}\\right)\\left(\\begin{array}{ccc}\n",
    "1 & 1 & 1\\\\\n",
    "0 & 0 & 1\n",
    "\\end{array}\\right)=\\left(\\begin{array}{ccc}\n",
    "1 & 1 & 4\\\\\n",
    "4 & 4 & 9\n",
    "\\end{array}\\right)$\n",
    "\n",
    "- $\\left|\\left(\\begin{array}{cc}\n",
    "1 & 3\\\\\n",
    "4 & 5\n",
    "\\end{array}\\right)\\right|=-7$\n",
    "- $\\left(\\begin{array}{cc}\n",
    "1 & 3\\\\\n",
    "4 & 5\n",
    "\\end{array}\\right)^{-1}=-\\frac{1}{7}\\left(\\begin{array}{cc}\n",
    "5 & -3\\\\\n",
    "-4 & 1\n",
    "\\end{array}\\right)$"
   ]
  },
  {
   "cell_type": "code",
   "execution_count": null,
   "metadata": {},
   "outputs": [],
   "source": [
    "#YOUR_CODE_HERE"
   ]
  },
  {
   "cell_type": "markdown",
   "metadata": {},
   "source": [
    "## Task 2\n",
    "If $\\left| A\\right|\\neq 0$, find $A*A^{-1}$ and $A^{-1}*A$. "
   ]
  },
  {
   "cell_type": "code",
   "execution_count": null,
   "metadata": {},
   "outputs": [],
   "source": [
    "#YOUR_CODE_HERE"
   ]
  },
  {
   "cell_type": "markdown",
   "metadata": {},
   "source": [
    "## Task 3\n",
    "\n",
    "The use of matrices can also be employed in 2D computer graphics as a way to rotate images. \n",
    "\n",
    "Let $(x,y)$ be a point on a plane that we want to rotate counterclockwise by $\\theta$ radians about the origin. Then the new coordinates of the point is $(x',y')$ where $$\\begin{array}{ccc}\n",
    "x\\cos\\theta-y\\sin\\theta & = & x',\\\\\n",
    "x\\sin\\theta+y\\sin\\theta & = & y'.\n",
    "\\end{array}$$ \n",
    "\n",
    "The system of equation can be written in the matrix form, $$\\left(\\begin{array}{cc}\n",
    "\\cos\\theta & -\\sin\\theta\\\\\n",
    "\\sin\\theta & \\sin\\theta\n",
    "\\end{array}\\right)\\left(\\begin{array}{c}\n",
    "x\\\\\n",
    "y\n",
    "\\end{array}\\right)=\\left(\\begin{array}{c}\n",
    "x'\\\\\n",
    "y'\n",
    "\\end{array}\\right).$$\n",
    "\n",
    "In separate diagrams, for every angle $\\theta \\in \\left\\{-\\frac{\\pi}{2},-\\frac{3\\pi}{4},\\frac{2\\pi}{3},\\pi\\right\\}$:\n",
    "\n",
    "A. rotate every points in the set $\\left\\{ \\left(-1,0\\right),\\left(2,-1\\right),\\left(4,5\\right),\\left(0,3\\right)\\right\\}$, \n",
    "\n",
    "B. plot the original points and the rotated points in the same diagram."
   ]
  },
  {
   "cell_type": "code",
   "execution_count": null,
   "metadata": {},
   "outputs": [],
   "source": [
    "#YOUR_CODE_HERE"
   ]
  }
 ],
 "metadata": {
  "kernelspec": {
   "display_name": "Python 3",
   "language": "python",
   "name": "python3"
  },
  "language_info": {
   "name": "python",
   "version": "3.10.2"
  },
  "vscode": {
   "interpreter": {
    "hash": "a42ccb73e7d9bfdf27e036f1d2b8b681e55fc0743cc5586bc2474d4a60f4b886"
   }
  }
 },
 "nbformat": 4,
 "nbformat_minor": 2
}
