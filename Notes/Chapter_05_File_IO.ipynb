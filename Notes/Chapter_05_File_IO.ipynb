{
 "cells": [
  {
   "cell_type": "markdown",
   "metadata": {},
   "source": [
    "# Learning Objectives\n",
    "\n",
    "- [ ]  2.2.2 Use common library functions for input/output, strings and mathematical operations."
   ]
  },
  {
   "cell_type": "markdown",
   "metadata": {},
   "source": [
    "# 5 File IO\n",
    "\n",
    "File is a named location on disk to store related information. It uses non-volatile memory, e.g. hard disk, to store data permanently.\n",
    "\n",
    "A file operation takes place in following order:\n",
    "* Open a file\n",
    "* Read or Write (perform operations)\n",
    "* Close the file\n",
    "\n",
    "A file can be **text** or **binary** format.\n"
   ]
  },
  {
   "cell_type": "markdown",
   "metadata": {},
   "source": [
    "# 5.1 Opening and Writing Files\n",
    "Python has a built-in function `open(file_path)` to open a file. The `open()` function returns a `file` *object*, also called a file handler, as it is used to read or modify the file accordingly.\n",
    "\n",
    "The parameter `file_path` in `open()` can be a relative or absolute path. \n",
    "* If only file name is specified, Python assume the file is in the same folder as current Python kernel\n",
    "* When specifying full path, use `/` instead of `\\`, which is used as escape character in string\n",
    "\n",
    "To prevent further read and write on the opened file, we need to close a file object using the `close()` method.\n",
    "\n",
    "**Question:** \n",
    "\n",
    "What if we foget to close the file?  \n",
    "\n",
    "## 5.1.1 `open()` Operation Mode\n",
    "\n",
    "You can specify the mode used to open a file by applying a second argument to the open function.\n",
    "* `r`/`w`/`a`: Are you reading, writing or appending a file?\n",
    "* `t`/`b`: Is it a text or binary file?\n",
    "\n",
    "Syntax is\n",
    ">``` python\n",
    ">f = open(filepath, mode)\n",
    ">```\n",
    "\n",
    "The `mode` specifies how you want to work with the file.\n",
    "* `r`: read mode, which is the default. \n",
    "* `w`: write mode, for overwriting the contents of a file. Existing file content will be lost.\n",
    "* `a`: append mode, for appending new content to the end of the file. Existing content in the file will not be lost.\n",
    "\n",
    "## 5.1.2 Read By Characters\n",
    "\n",
    "The `read()` method reads the characters from the file and returns all the characters read as a string. It also accepts an argument `no_of_char` which specifies the number of character to read. If the read hits EOF (End of File) before obtaining `no_of_char` characters, then it reads only available ones. Without this argument, it will read till EOF. Syntax is\n",
    ">``` python\n",
    ">your_file.read(no_of_char)\n",
    ">```\n",
    "\n",
    "The `seek()` method change the position from where the file is to be read from or written to to a given specific position. \n",
    "\n",
    "#### Example\n",
    "\n",
    "- Read and print out all the content in file `mad_joke.txt`, which is found in `/resources/`.\n",
    "- Read and print out the first 10 characters in the file.\n",
    "- Read and print out the 11th until the 20th character in the file. \n",
    "\n",
    ">``` python\n",
    ">f = open('./resources/mad_joke.txt') \n",
    ">s = f.read()\n",
    ">f.seek(10) #skips the first 10 characters\n",
    ">print(s)\n",
    ">s = f.read()\n",
    ">print(s)\n",
    ">f.close()\n",
    ">```"
   ]
  },
  {
   "cell_type": "markdown",
   "metadata": {},
   "source": [
    "A better way to open a file is by using `with` code block. As it will automatically close the file when the code block exits.\n",
    "\n",
    "Syntax is\n",
    ">```python\n",
    ">with open(file_name) as f:\n",
    ">    print(f.read())\n",
    ">```\n",
    "\n",
    "#### Example\n",
    "\n",
    "Use the `with` code block and try the previous example. \n",
    "\n",
    "- Read and print out all the content in file `mad_joke.txt`, which is found in `/resources/`.\n",
    "- Read and print out the first 10 characters in the file.\n",
    "- Read and print out the 11th until the 20th character in the file. "
   ]
  },
  {
   "cell_type": "code",
   "execution_count": null,
   "metadata": {},
   "outputs": [],
   "source": [
    "#YOUR_CODE_HERE"
   ]
  },
  {
   "cell_type": "markdown",
   "metadata": {},
   "source": [
    "You would have noticed some weird characters when you print out the contents of the file, e.g.\n",
    "- `\\t` tab character\n",
    "- `\\n` newline character. It is used to indicate the end of a line of text\n",
    "\n",
    "If you are only concerned out the output, you can use `repr()` function which will represent special characters as symbols in a string. It helps to print string unambigously.\n",
    "\n",
    "#### Example\n",
    "\n",
    ">``` python\n",
    ">with open('./resources/mad_joke.txt', 'r') as f:\n",
    ">    print(repr(f.read(10)))\n",
    ">    print(repr(f.read(10)))\n",
    ">    print(repr(f.read()))\n",
    ">```"
   ]
  },
  {
   "cell_type": "markdown",
   "metadata": {},
   "source": [
    "## 5.1.2 Write a String\n",
    "\n",
    "Python file method `write()` writes a string `str` to the file.\n",
    "\n",
    ">``` python\n",
    ">s = \"Alexa\\tGood morning!\\nWhat time is it?\"\n",
    ">print(len(s))\n",
    ">with open(\"test.txt\", \"w\") as f:\n",
    ">    x = f.write(s)\n",
    ">    print(x)\n",
    ">"
   ]
  },
  {
   "cell_type": "markdown",
   "metadata": {},
   "source": [
    "### Exercise\n",
    "\n",
    "Create a file called `test.txt` in the same directory as your Jupyter Notebook and write a line in the `.txt` file. Complete following operations using `with` code block:\n",
    "\n",
    "- Write `\"Alexa, \"` to the file `test.txt` . This operator will overwrite any content in the file.\n",
    "- Append `\"Good morning!\\n\"` to the file `test.txt` .\n",
    "- Append `\"What time is it?\"` to the file `test.txt` .\n",
    "- Read and print out content from the file `test.txt` ."
   ]
  },
  {
   "cell_type": "code",
   "execution_count": null,
   "metadata": {},
   "outputs": [],
   "source": [
    "#YOUR_CODE_HERE"
   ]
  },
  {
   "cell_type": "markdown",
   "metadata": {},
   "source": [
    "## 5.1.3 Read by Lines\n",
    "\n",
    "Compared to `read()` function, which return all content in a single string, the `readlines()` function returns a list, where each item contains a line.\n",
    "\n",
    "**NOTE:** No character is removed, e.g. new line character `\\n` at the end of a line.\n",
    "\n",
    "#### Example\n",
    "\n",
    ">``` python\n",
    ">with open('test.txt') as f:\n",
    ">    s = f.read()\n",
    ">    print(str(s))\n",
    ">\n",
    ">with open('test.txt', 'r') as f:\n",
    ">    s = f.readlines()\n",
    ">    print(s)\n",
    ">```"
   ]
  },
  {
   "cell_type": "markdown",
   "metadata": {},
   "source": [
    "## 5.1.4 Write Multiple Lines\n",
    "\n",
    "To write a list of strings to a file, method `writelines()` can be used.\n",
    "\n",
    "**NOTE:** No character, e.g. `\\n`, will be added or removed.\n",
    "\n",
    "#### Example\n",
    "\n",
    ">``` python\n",
    ">s = ['Hello', 'World', '\\nfrom', '\\nSingapore']\n",
    ">with open('test.txt', 'a') as f:\n",
    ">    f.writelines(s)\n",
    ">```"
   ]
  },
  {
   "cell_type": "markdown",
   "metadata": {},
   "source": [
    "# 5.2 Basic CSV Processing\n",
    "\n",
    "CSV files are plain text files which use specific format to store tabular data. CSV stands for \"Comma Separated Values\".\n",
    "\n",
    "* Each line of the file is a data record. \n",
    "* Each record consists of one or more fields, separated by commas.\n",
    "* Normally first line of the file gives table header.\n",
    "\n",
    ">``` text\n",
    ">year, sex, type_of_course, no_of_graduates\n",
    ">1993, Males, Humanities & Social Sciences, 481\n",
    ">1993, Males, Mass Communication, na\n",
    ">1993, Males, Accountancy, 295\n",
    ">1993, Males, Business & Administration, 282\n",
    ">```\n",
    "\n",
    "## 5.2.1 Why Use CSV?\n",
    "\n",
    "* CSV is a common format for data exchange because it is simple and compact.\n",
    "* Most relational databases provides tools to import and export CSV files.\n",
    "* CSV files can be easily opened in Excel.\n",
    "\n",
    "## 5.2.2 Read File into List\n",
    "\n",
    "* Read the csv file using `readlines()` method, which returns data in a list.\n",
    "* Use list slicing to remove header row\n",
    "* Use string `strip()` method to remove any surrounding white spaces (space, tab, new line characters)\n",
    "\n",
    "\n",
    "### Exercise\n",
    "* Read `sample-sales-data.csv` file into a list.\n",
    "* Discard header row.\n",
    "* Strip any leading & trailing white space from each line. You might want to use the string `.strip()` method for this.\n",
    "* Print out first 3 items of the list.\n",
    "\n",
    ">``` python\n",
    ">with open('./resources/sample-sales-data.csv') as f:\n",
    ">    x = f.readlines()\n",
    ">    x = x[1:]\n",
    ">    \n",
    ">x = [i.strip() for i in x]\n",
    ">x\n",
    "```"
   ]
  },
  {
   "cell_type": "markdown",
   "metadata": {},
   "source": [
    "Each a row in csv file is a record. The record is delimited by comma `,` .\n",
    "- Use string `split(delimiter)` method to split the record into a list or a tuple.\n",
    "- Use multi-level indexing to get a cell value\n",
    "\n",
    "### Exercise \n",
    "\n",
    "- Read the file into a list such that each record is represented as a tuple\n",
    "- Print out first 2 records in the list\n",
    "- Print out company name of 1st record"
   ]
  },
  {
   "cell_type": "code",
   "execution_count": null,
   "metadata": {},
   "outputs": [],
   "source": [
    "#YOUR_CODE_HERE"
   ]
  },
  {
   "cell_type": "markdown",
   "metadata": {},
   "source": [
    "## 5.2.3 Python `csv` Module\n",
    "\n",
    "While we could use the built-in `open()` function to work with CSV files in Python, there is a dedicated `csv` module that makes working with CSV files much easier. It contains following built-in convenient functions:\n",
    "\n",
    "* `csv.reader`\n",
    "* `csv.writer`\n",
    "* `csv.writer.writerow()`\n",
    "\n",
    "### 5.2.3.1 Read CSV Files using `csv.reader`\n",
    "\n",
    "After opening a CSV file, create a `csv.reader` object which returns a iterable object to process CSV data. Syntax is\n",
    "\n",
    ">``` python\n",
    ">csv.reader(your_file_here)\n",
    ">```\n",
    "\n",
    "* Each record is represented as a list.\n",
    "* All fields are `str` type.\n",
    "\n",
    "#### Example\n",
    "\n",
    "* Use `csv.reader` to read and print out all rows in `'olympics-medals-sample.csv'`.\n",
    "* Instead of printing out, save all rows in `'olympics-medals-sample.csv'` into a list `data`.\n",
    "\n",
    ">``` python\n",
    ">import csv\n",
    ">\n",
    ">with open ('./resources/sample-sales-data.csv') as f:\n",
    ">    reader = csv.reader(f)\n",
    ">    data = [row for row in reader]\n",
    ">\n",
    ">print(data)"
   ]
  },
  {
   "cell_type": "markdown",
   "metadata": {},
   "source": [
    "The character used to separate values is called a **delimiter**. Apart from comma (`,`), other delimiters include the tab (`\\t`), colon (`:`) and semi-colon (`;`) characters.\n",
    "\n",
    "For tab separated values, it is common to save it with extension `*.tsv`.\n",
    "\n",
    "#### Exercise\n",
    "* Use `csv.reader` to read file `'olympics-medals-sample.tsv'`; save both header and data in list."
   ]
  },
  {
   "cell_type": "code",
   "execution_count": null,
   "metadata": {},
   "outputs": [
    {
     "name": "stdout",
     "output_type": "stream",
     "text": [
      "<_csv.reader object at 0x000001B9965CC9A0>\n",
      "['NOC', 'Country', 'Total', 'Medal']\n",
      "[['USA', 'United States', '2088', 'Gold'], ['URS', 'Soviet Union', '838', 'Gold'], ['GBR', 'United Kingdom', '498', 'Gold'], ['FRA', 'France', '378', 'Gold'], ['GER', 'Germany', '407', 'Gold'], ['AUS', 'Australia', '293', 'Gold']]\n"
     ]
    }
   ],
   "source": [
    "#YOUR_CODE_HERE"
   ]
  },
  {
   "cell_type": "markdown",
   "metadata": {},
   "source": [
    "The `csv.reader()` function only has one required argument, which is the file object, but it has a couple of other optional arguments:\n",
    "\n",
    "* `delimiter`: This argument specifies which delimiter the writer will use. It defaults to `','`, but you can set it to any other character.\n",
    "* `quotechar`: This specifies which character will be used for quoting. It defaults to `'\"'`\n",
    "* `escapechar`: This specifies the character that will be used to escape the delimiter if quoting is not being used. It defaults to nothing."
   ]
  },
  {
   "cell_type": "markdown",
   "metadata": {},
   "source": [
    "### 5.2.3.1 Write CSV Files using `csv.writer`\n",
    "\n",
    "A `csv.writer` can be used to write a CSV file. The `csv.writer()` function returns a `writer` object that converts the user's data into a delimited string and write to file using its `writerow()` function.\n",
    "\n",
    "The `newline` argument is set to '' when opening a file which the `csv.writer` will write each row in a line.\n",
    "\n",
    "#### Exercise\n",
    "* Use `csv.writer` to save following data into a csv file `'sample.csv'`.\n",
    "\n",
    ">``` text\n",
    ">[\"Symbol\", \"Name\", \"Price (Intraday)\"]\n",
    ">[\"TMVWY\", \"TeamViewer AG\", 21.05]\n",
    ">[\"AXSM\", \"Axsome Therapeutics, Inc.\", 88.87]\n",
    ">[\"SAGE\", \"Sage Therapeutics, Inc.\",\t53.36]\n",
    ">```"
   ]
  },
  {
   "cell_type": "code",
   "execution_count": 4,
   "metadata": {},
   "outputs": [],
   "source": [
    "#YOUR_CODE_HERE\n",
    "list = [[\"Symbol\", \"Name\", \"Price (Intraday)\"],\n",
    "        [\"TMVWY\", \"TeamViewer AG\", '21.05'],\n",
    "        [\"AXSM\", \"Axsome Therapeutics, Inc.\", '88.87'],\n",
    "        [\"SAGE\", \"Sage Therapeutics, Inc.\",\t'53.36']]\n",
    "with open('sample.csv','w') as f:\n",
    "    for i in list:\n",
    "        f.writelines(i)"
   ]
  },
  {
   "cell_type": "markdown",
   "metadata": {},
   "source": [
    "The `csv.writer()` function has only 1 required parameter, the file object. You can also add following optional keyword arguments:\n",
    "\n",
    "* `delimiter`: This argument specifies which delimiter the writer will use. It defaults to ',', but you can set it to any other character.\n",
    "* `quotechar`: This specifies which character will be used for quoting. It defaults to '\"'\n",
    "* `escapechar`: This specifies the character that will be used to escape the delimiter if quoting is not being used. It defaults to nothing.\n",
    "\n",
    "The `quoting` argument: this specifies which fields should be quoted, there are a few options:\n",
    "* `csv.QUOTE_ALL`: All fields will be quoted\n",
    "* `csv.QUOTE_MINIMAL`: Only fields containing the delimiter or quotechar will be quoted.\n",
    "* `csv.QUOTE_NONNUMERIC`: The writer will quote all fields containing text and it converts all numbers to float values\n",
    "* `csv.QUOTE_NONE`: No fields will be quoted, the writer instead escapes delimiters. If you use this value, you also need to provide the escapechar argument.\n",
    "\n",
    "#### Example\n",
    "\n",
    ">``` python\n",
    ">import csv\n",
    ">with open('stock_sample.tsv', 'w', newline='') as file:\n",
    ">    writer = csv.writer(\n",
    ">        file,\n",
    ">        delimiter = '\\t',\n",
    ">        quotechar = '|',\n",
    ">        quoting = csv.QUOTE_ALL\n",
    ">    )\n",
    ">    writer.writerow(['stock', 'price', 'cost', 'profit'])\n",
    ">    writer.writerow(['21', '121.34', '45.34', '76'])\n",
    ">```"
   ]
  },
  {
   "cell_type": "markdown",
   "metadata": {},
   "source": [
    "The `writerows()` method of `csv.writer` allow you to write 2-dimensional list to a CSV file.\n",
    "\n",
    "#### Example\n",
    "\n",
    "Save following data to a csv file `stock_sample.csv` using `csv.writer`.\n",
    "\n",
    ">``` python\n",
    ">[['stock', 'price', 'cost', 'profit'], ['21', '121.34', '45.34', '76']]\n",
    ">```\n",
    "\n",
    ">``` python\n",
    ">import csv\n",
    ">\n",
    ">ls = [['stock', 'price', 'cost', 'profit'], [21, 121.34, 45.34, 76]]\n",
    ">\n",
    ">with open('stock_sample.csv', 'w', newline = '') as file:\n",
    ">    writer = csv.writer(\n",
    ">        file,\n",
    ">        delimiter = ',',\n",
    ">        quotechar = '|',\n",
    ">        quoting=csv.QUOTE_NONNUMERIC\n",
    ">    )\n",
    ">    writer.writerows(ls)\n"
   ]
  },
  {
   "cell_type": "markdown",
   "metadata": {},
   "source": [
    "# 5.3 Common Things to do with CSV\n",
    "\n",
    "## 5.3.1 Load Data into List\n",
    "\n",
    "### Exercise\n",
    "\n",
    "Read `sample-sales-data.csv` file; save its header into variable `header` and its data into variable `data`."
   ]
  },
  {
   "cell_type": "code",
   "execution_count": null,
   "metadata": {},
   "outputs": [
    {
     "ename": "FileNotFoundError",
     "evalue": "[Errno 2] No such file or directory: 'sample-sales-data.csv'",
     "output_type": "error",
     "traceback": [
      "\u001b[31m---------------------------------------------------------------------------\u001b[39m",
      "\u001b[31mFileNotFoundError\u001b[39m                         Traceback (most recent call last)",
      "\u001b[36mCell\u001b[39m\u001b[36m \u001b[39m\u001b[32mIn[6]\u001b[39m\u001b[32m, line 2\u001b[39m\n\u001b[32m      1\u001b[39m \u001b[38;5;66;03m#YOUR_CODE_HERE\u001b[39;00m\n\u001b[32m----> \u001b[39m\u001b[32m2\u001b[39m \u001b[38;5;28;01mwith\u001b[39;00m \u001b[38;5;28;43mopen\u001b[39;49m\u001b[43m(\u001b[49m\u001b[33;43m'\u001b[39;49m\u001b[33;43msample-sales-data.csv\u001b[39;49m\u001b[33;43m'\u001b[39;49m\u001b[43m,\u001b[49m\u001b[33;43m'\u001b[39;49m\u001b[33;43mr\u001b[39;49m\u001b[33;43m'\u001b[39;49m\u001b[43m)\u001b[49m \u001b[38;5;28;01mas\u001b[39;00m f:\n\u001b[32m      3\u001b[39m     stuff = f.read()\n\u001b[32m      4\u001b[39m     header = f[\u001b[32m0\u001b[39m]\n",
      "\u001b[36mFile \u001b[39m\u001b[32m~\\AppData\\Local\\Packages\\PythonSoftwareFoundation.Python.3.13_qbz5n2kfra8p0\\LocalCache\\local-packages\\Python313\\site-packages\\IPython\\core\\interactiveshell.py:325\u001b[39m, in \u001b[36m_modified_open\u001b[39m\u001b[34m(file, *args, **kwargs)\u001b[39m\n\u001b[32m    318\u001b[39m \u001b[38;5;28;01mif\u001b[39;00m file \u001b[38;5;129;01min\u001b[39;00m {\u001b[32m0\u001b[39m, \u001b[32m1\u001b[39m, \u001b[32m2\u001b[39m}:\n\u001b[32m    319\u001b[39m     \u001b[38;5;28;01mraise\u001b[39;00m \u001b[38;5;167;01mValueError\u001b[39;00m(\n\u001b[32m    320\u001b[39m         \u001b[33mf\u001b[39m\u001b[33m\"\u001b[39m\u001b[33mIPython won\u001b[39m\u001b[33m'\u001b[39m\u001b[33mt let you open fd=\u001b[39m\u001b[38;5;132;01m{\u001b[39;00mfile\u001b[38;5;132;01m}\u001b[39;00m\u001b[33m by default \u001b[39m\u001b[33m\"\u001b[39m\n\u001b[32m    321\u001b[39m         \u001b[33m\"\u001b[39m\u001b[33mas it is likely to crash IPython. If you know what you are doing, \u001b[39m\u001b[33m\"\u001b[39m\n\u001b[32m    322\u001b[39m         \u001b[33m\"\u001b[39m\u001b[33myou can use builtins\u001b[39m\u001b[33m'\u001b[39m\u001b[33m open.\u001b[39m\u001b[33m\"\u001b[39m\n\u001b[32m    323\u001b[39m     )\n\u001b[32m--> \u001b[39m\u001b[32m325\u001b[39m \u001b[38;5;28;01mreturn\u001b[39;00m \u001b[43mio_open\u001b[49m\u001b[43m(\u001b[49m\u001b[43mfile\u001b[49m\u001b[43m,\u001b[49m\u001b[43m \u001b[49m\u001b[43m*\u001b[49m\u001b[43margs\u001b[49m\u001b[43m,\u001b[49m\u001b[43m \u001b[49m\u001b[43m*\u001b[49m\u001b[43m*\u001b[49m\u001b[43mkwargs\u001b[49m\u001b[43m)\u001b[49m\n",
      "\u001b[31mFileNotFoundError\u001b[39m: [Errno 2] No such file or directory: 'sample-sales-data.csv'"
     ]
    }
   ],
   "source": [
    "#YOUR_CODE_HERE\n",
    "with open('resources/sample-sales-data.csv','read') as f:\n",
    "    "
   ]
  },
  {
   "cell_type": "markdown",
   "metadata": {},
   "source": [
    "## 5.3.2 Find Distinct Values\n",
    "\n",
    "You can use `set()` constructor function to find distinct value of a column.\n",
    "\n",
    "**Exercise:**\n",
    "\n",
    "* List all the companies contained in the file `sample-sales-data.csv`."
   ]
  },
  {
   "cell_type": "code",
   "execution_count": 6,
   "metadata": {},
   "outputs": [
    {
     "name": "stdout",
     "output_type": "stream",
     "text": [
      "['Acme Coporation', 'Hooli', 'Initech', 'Mediacore', 'Streeplex']\n",
      "[['2015-01-21', 'Streeplex', 'Hardware', '11'], ['2015-01-09', 'Streeplex', 'Service', 'abc'], ['2015-01-06', 'Initech', 'Hardware', '-17'], ['2015-01-02', 'Hooli', 'Hardware', ''], ['2015-01-11', 'Hooli', 'Hardware', '11'], ['2015-01-01', 'Acme Coporation', 'Software', '18'], ['2015-01-24', 'Initech', 'Software', '1'], ['2015-01-25', 'Initech', 'Service', '6'], ['2015-01-13', 'Hooli', 'Service', '7'], ['2015-01-03', 'Hooli', 'Service', '19'], ['2015-01-16', 'Hooli', 'Hardware', '17'], ['2015-01-16', 'Initech', 'Service', '13'], ['2015-01-20', 'Acme Coporation', 'Hardware', '12'], ['2015-01-26', 'Acme Coporation', 'Software', '14'], ['2015-01-15', 'Acme Coporation', 'Service', '16'], ['2015-01-06', 'Acme Coporation', 'Software', '16'], ['2015-01-15', 'Mediacore', 'Hardware', '7'], ['2015-01-27', 'Streeplex', 'Service', '18'], ['2015-01-20', 'Streeplex', 'Software', '13'], ['2015-01-16', 'Mediacore', 'Service', '8'], ['2015-02-26', 'Streeplex', 'Service', '4'], ['2015-02-16', 'Hooli', 'Software', '10'], ['2015-02-03', 'Initech', 'Software', '13'], ['2015-02-02', 'Hooli', 'Software', '3'], ['2015-02-25', 'Initech', 'Service', '10'], ['2015-02-05', 'Acme Coporation', 'Software', '19'], ['2015-02-09', 'Streeplex', 'Service', '19'], ['2015-02-11', 'Initech', 'Software', '7'], ['2015-02-04', 'Acme Coporation', 'Hardware', '14'], ['2015-02-09', 'Mediacore', 'Software', '7'], ['2015-02-07', 'Acme Coporation', 'Hardware', '1'], ['2015-02-11', 'Hooli', 'Software', '4'], ['2015-02-26', 'Streeplex', 'Service', '1'], ['2015-02-05', 'Hooli', 'Service', '10'], ['2015-02-04', 'Streeplex', 'Software', '13'], ['2015-02-19', 'Mediacore', 'Service', '10'], ['2015-02-19', 'Mediacore', 'Hardware', '16'], ['2015-02-02', 'Mediacore', 'Hardware', '9'], ['2015-02-21', 'Mediacore', 'Software', '3'], ['2015-02-21', 'Hooli', 'Hardware', '3'], ['2015-03-22', 'Mediacore', 'Software', '6'], ['2015-03-12', 'Initech', 'Service', '19'], ['2015-03-22', 'Streeplex', 'Software', '8'], ['2015-03-15', 'Hooli', 'Hardware', '19'], ['2015-03-17', 'Hooli', 'Hardware', '10'], ['2015-03-16', 'Mediacore', 'Software', '3'], ['2015-03-25', 'Initech', 'Hardware', '9'], ['2015-03-25', 'Streeplex', 'Hardware', '12'], ['2015-03-26', 'Streeplex', 'Software', '3'], ['2015-03-06', 'Mediacore', 'Software', '17'], ['2015-03-22', 'Initech', 'Hardware', '11'], ['2015-03-17', 'Hooli', 'Hardware', '8'], ['2015-03-28', 'Acme Coporation', 'Service', '5'], ['2015-03-13', 'Streeplex', 'Hardware', '8'], ['2015-03-06', 'Mediacore', 'Software', '17'], ['2015-03-13', 'Initech', 'Software', '11'], ['2015-03-27', 'Mediacore', 'Software', '6'], ['2015-03-21', 'Mediacore', 'Hardware', '19'], ['2015-03-15', 'Initech', 'Hardware', '18'], ['2015-03-13', 'Streeplex', 'Software', '9']]\n"
     ]
    }
   ],
   "source": [
    "#YOUR_CODE_HERE\n",
    "import csv \n",
    "companies = set()\n",
    "with open('resources/sample-sales-data.csv','r') as f:\n",
    "    s = list(csv.reader(f))[1:]\n",
    "    for row in s:\n",
    "        companies.add(row[1])\n",
    "    print(sorted(companies))\n",
    "    print(s)\n",
    "\n"
   ]
  },
  {
   "cell_type": "markdown",
   "metadata": {},
   "source": [
    "## 5.3.3 Filter Data\n",
    "\n",
    "The list can be filtered based on condition(s) by using: \n",
    "* `for` loop, or\n",
    "* list comprehension.\n",
    "\n",
    "**Exercise:**\n",
    "* Find all sales records by company `Initech` and print out first 3 records.\n",
    "* Find all sales done on date '2015-01-06'."
   ]
  },
  {
   "cell_type": "code",
   "execution_count": 12,
   "metadata": {},
   "outputs": [
    {
     "name": "stdout",
     "output_type": "stream",
     "text": [
      "['2015-01-06', 'Initech', 'Hardware', '-17']\n",
      "['2015-01-06', 'Acme Coporation', 'Software', '16']\n",
      "['2015-01-06', 'Initech', 'Hardware', '-17']\n",
      "['2015-01-24', 'Initech', 'Software', '1']\n",
      "['2015-01-25', 'Initech', 'Service', '6']\n"
     ]
    }
   ],
   "source": [
    "#YOUR_CODE_HERE\n",
    "import csv\n",
    "with open('resources/sample-sales-data.csv','r') as f:\n",
    "    s = list(csv.reader(f))[1:]\n",
    "    count = 0\n",
    "    for i in s:\n",
    "        if  '2015-01-06' in i:\n",
    "            print(i)\n",
    "    for i in s:\n",
    "        if 'Initech' in i:\n",
    "            print(i)\n",
    "            count+=1\n",
    "        if count ==3:\n",
    "            break\n",
    "    for i in s:\n",
    "        if  '2015-01-06' in s:\n",
    "            print(i)"
   ]
  },
  {
   "cell_type": "markdown",
   "metadata": {},
   "source": [
    "## 5.3.4 Filter Data\n",
    "\n",
    "Both `isdigit()` and `isnumeric()` can be used to check a string which can be converted to **a positive integer**, e.g. `'1234'`.\n",
    "* But it will return `False` for either `'-1234'` or `'12.34'`\n",
    "\n",
    "#### Example\n",
    "\n",
    ">``` python\n",
    ">print('1234'.isdigit(), '1234'.isnumeric())\n",
    ">print('-1234'.isdigit(), '-1234'.isnumeric())\n",
    ">print('12.34'.isdigit(), '12.34'.isnumeric())\n",
    ">print('一二三四五'.isdigit(), '一二三四五'.isnumeric())\n",
    ">```"
   ]
  },
  {
   "cell_type": "markdown",
   "metadata": {},
   "source": [
    "## 5.3.5 Compute on Records\n",
    "\n",
    "You can perform simple data analysis on the data:\n",
    "* `sum()`, `count()`, `min()`, `max()` etc.\n",
    "* Remember to convert data to numerical value for computation or comparison.\n",
    "\n",
    "#### Exercise:\n",
    "* Remove records with invalid Units value.\n",
    "* Find total units of sales on \"Hardware\"."
   ]
  },
  {
   "cell_type": "code",
   "execution_count": 3,
   "metadata": {},
   "outputs": [
    {
     "name": "stdout",
     "output_type": "stream",
     "text": [
      "215\n"
     ]
    }
   ],
   "source": [
    "#YOUR_CODE_HERE\n",
    "import csv\n",
    "with open('resources/sample-sales-data.csv','r') as f:\n",
    "    companies_values = list(csv.reader(f))[1:]\n",
    "listofstuff = []\n",
    "for i in companies_values:\n",
    "    if i[3].isnumeric() == True:\n",
    "        listofstuff.append(i)\n",
    "count = 0\n",
    "\n",
    "for i in listofstuff:\n",
    "    if 'Hardware' in i:\n",
    "        count+= int(i[3])\n",
    "print(count)\n"
   ]
  }
 ],
 "metadata": {
  "kernelspec": {
   "display_name": "Python 3",
   "language": "python",
   "name": "python3"
  },
  "language_info": {
   "codemirror_mode": {
    "name": "ipython",
    "version": 3
   },
   "file_extension": ".py",
   "mimetype": "text/x-python",
   "name": "python",
   "nbconvert_exporter": "python",
   "pygments_lexer": "ipython3",
   "version": "3.13.3"
  },
  "metadata": {
   "interpreter": {
    "hash": "dcacb0086e9a4f4eabd41c33bf4faac5ea0a3337ed3f5eff0680afa930572c04"
   }
  },
  "orig_nbformat": 2
 },
 "nbformat": 4,
 "nbformat_minor": 2
}
